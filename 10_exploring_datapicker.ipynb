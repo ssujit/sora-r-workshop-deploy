{
 "cells": [
  {
   "cell_type": "code",
   "execution_count": null,
   "id": "b6f9dde3-cbf5-4907-957d-3fc022484181",
   "metadata": {},
   "outputs": [],
   "source": []
  }
 ],
 "metadata": {
  "kernelspec": {
   "display_name": "R-4.4.2",
   "language": "R",
   "name": "ir40"
  },
  "language_info": {
   "codemirror_mode": "r",
   "file_extension": ".r",
   "mimetype": "text/x-r-source",
   "name": "R",
   "pygments_lexer": "r",
   "version": "4.4.2"
  }
 },
 "nbformat": 4,
 "nbformat_minor": 5
}
