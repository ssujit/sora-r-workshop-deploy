{
 "cells": [
  {
   "cell_type": "markdown",
   "id": "c678e043-b907-4cb1-ad2d-e2f6bbadf1ad",
   "metadata": {},
   "source": [
    "# 02 - setup SoRa"
   ]
  },
  {
   "cell_type": "markdown",
   "id": "82d85c96-f515-4728-8ae5-0f9ef3c31de0",
   "metadata": {},
   "source": [
    "- using AskPass, set SoRa API Key in sys Variable\n",
    "- check if all components are available from SoRa"
   ]
  },
  {
   "cell_type": "code",
   "execution_count": null,
   "id": "2a1aaa43-11b3-4c60-96d2-88d330a8e1d8",
   "metadata": {},
   "outputs": [],
   "source": []
  }
 ],
 "metadata": {
  "kernelspec": {
   "display_name": "R-4.4.2",
   "language": "R",
   "name": "ir40"
  },
  "language_info": {
   "codemirror_mode": "r",
   "file_extension": ".r",
   "mimetype": "text/x-r-source",
   "name": "R",
   "pygments_lexer": "r",
   "version": "4.4.2"
  }
 },
 "nbformat": 4,
 "nbformat_minor": 5
}
