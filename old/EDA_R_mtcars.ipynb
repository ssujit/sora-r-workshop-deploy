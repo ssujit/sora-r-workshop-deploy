{
 "cells": [
  {
   "cell_type": "markdown",
   "id": "b1ed258f",
   "metadata": {},
   "source": [
    "# Exploratory Data Analysis in R\n",
    "\n",
    "This notebook demonstrates basic data manipulation and visualization in R using the built-in `mtcars` dataset."
   ]
  },
  {
   "cell_type": "code",
   "execution_count": null,
   "id": "5fad8dc8",
   "metadata": {},
   "outputs": [],
   "source": [
    "library(tidyverse)"
   ]
  },
  {
   "cell_type": "code",
   "execution_count": null,
   "id": "cb0f951c",
   "metadata": {},
   "outputs": [],
   "source": [
    "data(mtcars)\n",
    "head(mtcars)"
   ]
  },
  {
   "cell_type": "markdown",
   "id": "957dc9e6",
   "metadata": {},
   "source": [
    "## Basic Summary Statistics\n",
    "Let's view some summary statistics to understand the structure of the data."
   ]
  },
  {
   "cell_type": "code",
   "execution_count": null,
   "id": "011d8da5",
   "metadata": {},
   "outputs": [],
   "source": [
    "summary(mtcars)"
   ]
  },
  {
   "cell_type": "markdown",
   "id": "6c7a0ffc",
   "metadata": {},
   "source": [
    "## Scatter Plot: Horsepower vs. MPG\n",
    "We'll now visualize the relationship between horsepower (`hp`) and miles per gallon (`mpg`)."
   ]
  },
  {
   "cell_type": "code",
   "execution_count": null,
   "id": "83203aab",
   "metadata": {},
   "outputs": [],
   "source": [
    "ggplot(mtcars, aes(x = hp, y = mpg)) +\n",
    "  geom_point(color = \"steelblue\", size = 3) +\n",
    "  geom_smooth(method = \"lm\", se = FALSE, color = \"darkred\") +\n",
    "  labs(title = \"Horsepower vs MPG\",\n",
    "       x = \"Horsepower\",\n",
    "       y = \"Miles Per Gallon\")"
   ]
  },
  {
   "cell_type": "markdown",
   "id": "1254157b",
   "metadata": {},
   "source": [
    "## Correlation Matrix\n",
    "Let's see how the numerical variables are correlated."
   ]
  },
  {
   "cell_type": "code",
   "execution_count": null,
   "id": "d88e5771",
   "metadata": {},
   "outputs": [],
   "source": [
    "cor(mtcars)"
   ]
  },
  {
   "cell_type": "markdown",
   "id": "4d29c2c9",
   "metadata": {},
   "source": [
    "## Conclusion\n",
    "\n",
    "This notebook showed how to load a dataset, explore it, visualize relationships, and compute basic statistics using R in a Jupyter notebook."
   ]
  }
 ],
 "metadata": {
  "kernelspec": {
   "display_name": "R-4.4.2",
   "language": "R",
   "name": "ir40"
  },
  "language_info": {
   "codemirror_mode": "r",
   "file_extension": ".r",
   "mimetype": "text/x-r-source",
   "name": "R",
   "pygments_lexer": "r",
   "version": "4.4.2"
  }
 },
 "nbformat": 4,
 "nbformat_minor": 5
}
