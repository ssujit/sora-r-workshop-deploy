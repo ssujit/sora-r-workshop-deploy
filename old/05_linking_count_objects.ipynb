{
 "cells": [
  {
   "cell_type": "markdown",
   "id": "ad3652f1-f873-4480-8476-1e8c4bc4122a",
   "metadata": {},
   "source": [
    "# 05 - linking: count objects"
   ]
  },
  {
   "cell_type": "markdown",
   "id": "71432422-7c74-4c41-a4c0-4faf1628c97c",
   "metadata": {},
   "source": [
    "- explain difference to existing column of aggregate attribute linking method"
   ]
  },
  {
   "cell_type": "code",
   "execution_count": null,
   "id": "a2bb8aba-5b6a-42b6-80bf-c724c9ab8df5",
   "metadata": {},
   "outputs": [],
   "source": []
  }
 ],
 "metadata": {
  "kernelspec": {
   "display_name": "R-4.4.2",
   "language": "R",
   "name": "ir40"
  },
  "language_info": {
   "codemirror_mode": "r",
   "file_extension": ".r",
   "mimetype": "text/x-r-source",
   "name": "R",
   "pygments_lexer": "r",
   "version": "4.4.2"
  }
 },
 "nbformat": 4,
 "nbformat_minor": 5
}
