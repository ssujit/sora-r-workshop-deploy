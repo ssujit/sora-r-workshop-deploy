{
 "cells": [
  {
   "cell_type": "markdown",
   "id": "7038e3f7-c3eb-4205-b918-489b48607d97",
   "metadata": {},
   "source": [
    "# Task 2: Analysing hospital \n",
    "\n",
    "**The task is to link the test dataset \"Berlin Income\" with hospital dataset of 2015 and calculate a bundle of descriptive statistical measures (Minimum, Maximum, Mean, Standard derivation) on bed numbers within a circle of 2 kilometers.**"
   ]
  },
  {
   "cell_type": "markdown",
   "id": "e1c01ab8",
   "metadata": {},
   "source": [
    "## Load functions from SoRa R package\n",
    "This steps are currently required to load all R functions from /R/ directory. In future, the SoRa R package will be installed directly."
   ]
  },
  {
   "cell_type": "code",
   "execution_count": null,
   "id": "5837f2e0",
   "metadata": {
    "vscode": {
     "languageId": "r"
    }
   },
   "outputs": [],
   "source": [
    "# load R functions from SoRa R Package\n",
    "path <- \"/home/jovyan/R/\"\n",
    "sora_functions  <- dir(path)\n",
    "for (i in sora_functions) {\n",
    "  source(paste0(path, i))\n",
    "}"
   ]
  },
  {
   "cell_type": "markdown",
   "id": "481f1dee",
   "metadata": {},
   "source": [
    "## Check your changed SORA_API_KEY \n",
    "- the environment variable from .Renviron file\n"
   ]
  },
  {
   "cell_type": "code",
   "execution_count": null,
   "id": "da3af04b",
   "metadata": {
    "vscode": {
     "languageId": "r"
    }
   },
   "outputs": [],
   "source": [
    "#check environment variable for SORA_API_KEY\n",
    "Sys.getenv(\"SORA_API_KEY\")"
   ]
  },
  {
   "cell_type": "markdown",
   "id": "e0b8fcbf",
   "metadata": {},
   "source": [
    "## Load, explore and prepare input survey data"
   ]
  },
  {
   "cell_type": "code",
   "execution_count": null,
   "id": "5015fd68-c359-4a01-94ac-6ed2f1f53556",
   "metadata": {
    "vscode": {
     "languageId": "r"
    }
   },
   "outputs": [],
   "source": [
    "load(\"/home/jovyan/data/ber_income.rda\")\n",
    "head(ber_income)"
   ]
  },
  {
   "cell_type": "code",
   "execution_count": null,
   "id": "853759b3",
   "metadata": {
    "vscode": {
     "languageId": "r"
    }
   },
   "outputs": [],
   "source": [
    "plot(ber_income$x, ber_income$y,\n",
    "     xlab = \"x\", ylab = \"y\",\n",
    "     main = \"Households in Berlin\",\n",
    "     sub = \"crs = 4647\"\n",
    ")\n",
    "grid()"
   ]
  },
  {
   "cell_type": "code",
   "execution_count": null,
   "id": "1abb05fe",
   "metadata": {
    "vscode": {
     "languageId": "r"
    }
   },
   "outputs": [],
   "source": [
    "# load survey data and load its coordinate reference system (CRS) LAEA (EPSG Code: 3035)\n",
    "survey_data <- sora_custom(.data = ber_income, crs = 3035)"
   ]
  },
  {
   "cell_type": "markdown",
   "id": "ad33de36",
   "metadata": {},
   "source": [
    "### Linking\n",
    "- hint: \n",
    "    - to determine the correct linking parameter, you can either use the online web-interface of the datapicker\n",
    "    - or read the error messages (after starting a linking job), to get an idea which values are valid"
   ]
  },
  {
   "cell_type": "code",
   "execution_count": null,
   "id": "7bcd6f53",
   "metadata": {
    "vscode": {
     "languageId": "r"
    }
   },
   "outputs": [],
   "source": [
    "# define geospatial dataset of hospitals (including bed numbers) in 2015\n",
    "spat_data <- sora_spatial(id = \"<--->\")"
   ]
  },
  {
   "cell_type": "code",
   "execution_count": null,
   "id": "44883eb8",
   "metadata": {
    "vscode": {
     "languageId": "r"
    }
   },
   "outputs": [],
   "source": [
    "\n",
    "linking <- sora_linking(\n",
    "  method = \"<--->\",\n",
    "  selection_area = \"<--->\",\n",
    "  radius = 2000,\n",
    "  output = c(\"mean\", \"<--->\", \"<--->\", \"<--->\")\n",
    ")"
   ]
  },
  {
   "cell_type": "code",
   "execution_count": null,
   "id": "4332eb5a",
   "metadata": {
    "vscode": {
     "languageId": "r"
    }
   },
   "outputs": [],
   "source": [
    "job_id <- sora_request(dataset = survey_data, link_to = spat_data, method = linking)"
   ]
  },
  {
   "cell_type": "markdown",
   "id": "44c06858",
   "metadata": {},
   "source": [
    "### Get linking result"
   ]
  },
  {
   "cell_type": "code",
   "execution_count": null,
   "id": "0f08e08d",
   "metadata": {
    "vscode": {
     "languageId": "r"
    }
   },
   "outputs": [],
   "source": [
    "## check, if your current linking job is done\n",
    "sora_job_done(job_id)"
   ]
  },
  {
   "cell_type": "code",
   "execution_count": null,
   "id": "14032474",
   "metadata": {
    "vscode": {
     "languageId": "r"
    }
   },
   "outputs": [],
   "source": [
    "## check status of all your started linking jobs\n",
    "sora_jobs()"
   ]
  },
  {
   "cell_type": "code",
   "execution_count": null,
   "id": "24221075",
   "metadata": {
    "vscode": {
     "languageId": "r"
    }
   },
   "outputs": [],
   "source": [
    "## get results\n",
    "sora_calls <- sora_jobs()\n",
    "job_id <- sora_calls$job_id[1]\n",
    "\n",
    "if (sora_job_done(job_id)){\n",
    "  results <- sora_results(job_id = job_id)\n",
    "  results <- sora_split_id(results, out_col = c(\"hid\", \"syear\"))\n",
    "\n",
    "  ## add column for id\n",
    "  results$id <- paste(results$hid, results$syear, sep = \"_\")\n",
    "\n",
    "  ## print first rows of result\n",
    "  head(results)\n",
    "}"
   ]
  },
  {
   "cell_type": "code",
   "execution_count": null,
   "id": "179913bc",
   "metadata": {
    "vscode": {
     "languageId": "r"
    }
   },
   "outputs": [],
   "source": [
    "#merge input survey data and result\n",
    "linked <- merge(ber_income, results, by=\"id\")\n",
    "head(linked)"
   ]
  },
  {
   "cell_type": "markdown",
   "id": "3b6fe2b5",
   "metadata": {},
   "source": [
    "### Analyse "
   ]
  },
  {
   "cell_type": "code",
   "execution_count": null,
   "id": "0cd46e07",
   "metadata": {
    "vscode": {
     "languageId": "r"
    }
   },
   "outputs": [],
   "source": [
    "plot(linked$income, linked$mean, type = \"p\", main = \"income vs average number of hosptial beds\", xlab = \"Income\", ylab = \"Number of hospital beds\")"
   ]
  },
  {
   "cell_type": "markdown",
   "id": "4e8118a5",
   "metadata": {},
   "source": [
    "We could assume, that the living location of people which higher income has a bigger distance to hospitals then people with lower income."
   ]
  }
 ],
 "metadata": {
  "kernelspec": {
   "display_name": "R-4.4.2",
   "language": "R",
   "name": "ir40"
  },
  "language_info": {
   "codemirror_mode": "r",
   "file_extension": ".r",
   "mimetype": "text/x-r-source",
   "name": "R",
   "pygments_lexer": "r",
   "version": "4.4.2"
  }
 },
 "nbformat": 4,
 "nbformat_minor": 5
}
