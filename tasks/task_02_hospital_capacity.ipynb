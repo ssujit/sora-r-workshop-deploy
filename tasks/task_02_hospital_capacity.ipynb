{
 "cells": [
  {
   "cell_type": "markdown",
   "id": "7038e3f7-c3eb-4205-b918-489b48607d97",
   "metadata": {},
   "source": [
    "# Task 2: Analysing hospital \n",
    "\n",
    "**The task is to link the test dataset \"Berlin Income\" with hospital dataset of 2015 and calculate a bundle of descriptive statistical measures (Minimum, Maximum, Mean, Standard derivation) on bed numbers within a circle of 5 kilometers.**"
   ]
  },
  {
   "cell_type": "markdown",
   "id": "e1c01ab8",
   "metadata": {},
   "source": [
    "## Load functions from SoRa R package\n",
    "This steps are currently required to load all R functions from /R/ directory. In future, the SoRa R package will be installed directly."
   ]
  },
  {
   "cell_type": "code",
   "execution_count": null,
   "id": "5837f2e0",
   "metadata": {
    "vscode": {
     "languageId": "r"
    }
   },
   "outputs": [],
   "source": [
    "# load R functions from SoRa R Package\n",
    "path <- \"/home/jovyan/R/\"\n",
    "sora_functions  <- dir(path)\n",
    "for (i in sora_functions) {\n",
    "  source(paste0(path, i))\n",
    "}"
   ]
  },
  {
   "cell_type": "markdown",
   "id": "e0b8fcbf",
   "metadata": {},
   "source": [
    "## Load, explore and prepare input survey data"
   ]
  },
  {
   "cell_type": "code",
   "execution_count": null,
   "id": "5015fd68-c359-4a01-94ac-6ed2f1f53556",
   "metadata": {
    "vscode": {
     "languageId": "r"
    }
   },
   "outputs": [],
   "source": [
    "load(\"/home/jovyan/data/ber_income.rda\")\n",
    "head(ber_income)"
   ]
  },
  {
   "cell_type": "code",
   "execution_count": null,
   "id": "853759b3",
   "metadata": {
    "vscode": {
     "languageId": "r"
    }
   },
   "outputs": [],
   "source": [
    "plot(ber_income$x, ber_income$y,\n",
    "     xlab = \"x\", ylab = \"y\",\n",
    "     main = \"Households in Berlin\",\n",
    "     sub = \"crs = 4647\"\n",
    ")\n",
    "grid()"
   ]
  },
  {
   "cell_type": "code",
   "execution_count": null,
   "id": "1abb05fe",
   "metadata": {
    "vscode": {
     "languageId": "r"
    }
   },
   "outputs": [],
   "source": [
    "# transform coordinate reference system (CRS) into LAEA (EPSG Code: 3035)\n",
    "survey_data <- sora_custom(.data = ber_income, crs = 3035)"
   ]
  },
  {
   "cell_type": "markdown",
   "id": "ad33de36",
   "metadata": {},
   "source": [
    "### Linking"
   ]
  },
  {
   "cell_type": "code",
   "execution_count": null,
   "id": "7bcd6f53",
   "metadata": {
    "vscode": {
     "languageId": "r"
    }
   },
   "outputs": [],
   "source": [
    "# define geospatial dataset of hospitals (including bed numbers) in 2015\n",
    "spat_data <- sora_spatial(id = \"<dataset_id>\")"
   ]
  },
  {
   "cell_type": "code",
   "execution_count": null,
   "id": "44883eb8",
   "metadata": {
    "vscode": {
     "languageId": "r"
    }
   },
   "outputs": [],
   "source": [
    "\n",
    "linking <- sora_linking(\n",
    "  method = \"aggregate_attribute\",\n",
    "  selection_area = \"circle\",\n",
    "  radius = 5000,\n",
    "  output = c(\"mean\", \"min\", \"max\", \"sd\")\n",
    ")"
   ]
  },
  {
   "cell_type": "code",
   "execution_count": null,
   "id": "4332eb5a",
   "metadata": {
    "vscode": {
     "languageId": "r"
    }
   },
   "outputs": [],
   "source": [
    "job_id <- sora_request(dataset = survey_data, link_to = spat_data, method = linking)"
   ]
  },
  {
   "cell_type": "markdown",
   "id": "44c06858",
   "metadata": {},
   "source": [
    "### Get linking result"
   ]
  },
  {
   "cell_type": "code",
   "execution_count": null,
   "id": "0f08e08d",
   "metadata": {
    "vscode": {
     "languageId": "r"
    }
   },
   "outputs": [],
   "source": [
    "## get results\n",
    "sora_calls <- sora_jobs()\n",
    "job_id <- sora_calls$job_id[1]\n",
    "\n",
    "if (sora_job_done(job_id)){\n",
    "  results <- sora_results(job_id = job_id)\n",
    "}\n",
    "results <- sora_split_id(results, out_col = c(\"hid\", \"syear\"))"
   ]
  }
 ],
 "metadata": {
  "kernelspec": {
   "display_name": "R-4.4.2",
   "language": "R",
   "name": "ir40"
  },
  "language_info": {
   "codemirror_mode": "r",
   "file_extension": ".r",
   "mimetype": "text/x-r-source",
   "name": "R",
   "pygments_lexer": "r",
   "version": "4.4.2"
  }
 },
 "nbformat": 4,
 "nbformat_minor": 5
}
