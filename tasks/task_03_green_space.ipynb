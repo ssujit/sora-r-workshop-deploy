{
 "cells": [
  {
   "cell_type": "markdown",
   "id": "7038e3f7-c3eb-4205-b918-489b48607d97",
   "metadata": {},
   "source": [
    "# Task 3: Analysing green spaces in Berlin and Munich\n",
    "**Task is to link census 2022 data for Berlin and for Munich with Green Space indicator from IOER-Monitor (1 km Raster)**\n",
    "- Census 2022 datasets offers population sum and population difference sum (in comparison to 2011) aggregated on a 500 meter Raster grid (using centroids as points)\n",
    "- IOER-Monitor offers indicators about Green Space, please use it for year 2022 with raster grid of 1.000 meter\n",
    "- linking should be just a simple lookup"
   ]
  },
  {
   "cell_type": "markdown",
   "id": "0f9e182c",
   "metadata": {},
   "source": [
    "## Load functions from SoRa R package\n",
    "This steps are currently required to load all R functions from /R/ directory. In future, the SoRa R package will be installed directly."
   ]
  },
  {
   "cell_type": "code",
   "execution_count": null,
   "id": "9df611e6",
   "metadata": {
    "vscode": {
     "languageId": "r"
    }
   },
   "outputs": [],
   "source": [
    "# load R functions from SoRa R Package\n",
    "path <- \"/home/jovyan/R/\"\n",
    "sora_functions  <- dir(path)\n",
    "for (i in sora_functions) {\n",
    "  source(paste0(path, i))\n",
    "}"
   ]
  },
  {
   "cell_type": "markdown",
   "id": "898a7b20",
   "metadata": {},
   "source": [
    "Load ggplot2 for plots and maps"
   ]
  },
  {
   "cell_type": "code",
   "execution_count": null,
   "id": "b2c23cc0",
   "metadata": {
    "vscode": {
     "languageId": "r"
    }
   },
   "outputs": [],
   "source": [
    "# load ggplot2\n",
    "library(ggplot2)"
   ]
  },
  {
   "cell_type": "markdown",
   "id": "592401b8",
   "metadata": {},
   "source": [
    "## Check your changed SORA_API_KEY \n",
    "- the environment variable from .Renviron file\n"
   ]
  },
  {
   "cell_type": "code",
   "execution_count": null,
   "id": "016e9560",
   "metadata": {
    "vscode": {
     "languageId": "r"
    }
   },
   "outputs": [],
   "source": [
    "#check environment variable for SORA_API_KEY\n",
    "Sys.getenv(\"SORA_API_KEY\")"
   ]
  },
  {
   "cell_type": "markdown",
   "id": "e8cbc0a2",
   "metadata": {},
   "source": [
    "## Load, explore and prepare input survey data"
   ]
  },
  {
   "cell_type": "code",
   "execution_count": null,
   "id": "5015fd68-c359-4a01-94ac-6ed2f1f53556",
   "metadata": {
    "vscode": {
     "languageId": "r"
    }
   },
   "outputs": [],
   "source": [
    "path_data <- \"/home/jovyan/data/\""
   ]
  },
  {
   "cell_type": "markdown",
   "id": "0aa4f33c",
   "metadata": {},
   "source": [
    "Load datasets and explore it. We start with Berlin.\n",
    "\n",
    "**Do you know, what the five columns mean?**"
   ]
  },
  {
   "cell_type": "code",
   "execution_count": null,
   "id": "f3cdb66c",
   "metadata": {
    "vscode": {
     "languageId": "r"
    }
   },
   "outputs": [],
   "source": [
    "## data Berlin\n",
    "berlin <- read.csv(paste0(path_data, \"<--->.csv\"))\n",
    "head(berlin)"
   ]
  },
  {
   "cell_type": "code",
   "execution_count": null,
   "id": "12636098",
   "metadata": {
    "vscode": {
     "languageId": "r"
    }
   },
   "outputs": [],
   "source": [
    "#show dimension of the data (number of rows and columns)\n",
    "dim(berlin)"
   ]
  },
  {
   "cell_type": "code",
   "execution_count": null,
   "id": "088b2631",
   "metadata": {
    "vscode": {
     "languageId": "r"
    }
   },
   "outputs": [],
   "source": [
    "#draw map of Berlin with population difference sum (between year 2022 and 2011) for each 500m grid cell\n",
    "ggplot(berlin, aes(x = x, y = y, color = pop_diff_sum)) +\n",
    "  geom_point(size = 2) +\n",
    "  scale_color_gradient2(low = \"darkred\", mid = \"white\", high = \"darkgreen\", midpoint = 0) +\n",
    "  theme_minimal()"
   ]
  },
  {
   "cell_type": "markdown",
   "id": "4ddc9473",
   "metadata": {},
   "source": [
    "We can see, that number of population in Berlin has increased between 2011 and 2022 in many parts of the city."
   ]
  },
  {
   "cell_type": "code",
   "execution_count": null,
   "id": "89eb765f",
   "metadata": {
    "vscode": {
     "languageId": "r"
    }
   },
   "outputs": [],
   "source": [
    "## plot Berlin\n",
    "plot(berlin$x, berlin$y, \n",
    "     xlab = \"x\", ylab = \"y\",\n",
    "     main = \"Census grid (500m raster) from Berlin\",\n",
    "     sub = \"crs = 3035\")\n",
    "grid()"
   ]
  },
  {
   "cell_type": "markdown",
   "id": "a5f145ab",
   "metadata": {},
   "source": [
    "And now load and explore the data for Munich."
   ]
  },
  {
   "cell_type": "code",
   "execution_count": null,
   "id": "6e377a71",
   "metadata": {
    "vscode": {
     "languageId": "r"
    }
   },
   "outputs": [],
   "source": [
    "## data Munich\n",
    "munich <- read.csv(paste0(path_data, \"<--->.csv\"))\n",
    "head(munich)"
   ]
  },
  {
   "cell_type": "code",
   "execution_count": null,
   "id": "00e852fc",
   "metadata": {
    "vscode": {
     "languageId": "r"
    }
   },
   "outputs": [],
   "source": [
    "#show dimension of the data (number of rows and columns)\n",
    "dim(munich)"
   ]
  },
  {
   "cell_type": "code",
   "execution_count": null,
   "id": "59812e8f",
   "metadata": {
    "vscode": {
     "languageId": "r"
    }
   },
   "outputs": [],
   "source": [
    "#draw map of Munich with population sum for each 500m grid cell\n",
    "ggplot(munich, aes(x = x, y = y, color = pop_sum)) +\n",
    "  geom_point(size = 2) +\n",
    "  scale_color_gradient(low = \"white\", high = \"red\") +\n",
    "  theme_minimal()"
   ]
  },
  {
   "cell_type": "markdown",
   "id": "aa2f3825",
   "metadata": {},
   "source": [
    "The center of Munich has a higher population density than the peripher parts."
   ]
  },
  {
   "cell_type": "code",
   "execution_count": null,
   "id": "1e8aedca",
   "metadata": {
    "vscode": {
     "languageId": "r"
    }
   },
   "outputs": [],
   "source": [
    "## plot Munich\n",
    "plot(munich$x, munich$y, \n",
    "     xlab = \"x\", ylab = \"y\",\n",
    "     main = \"Census grid (500m raster) from Munich\",\n",
    "     sub = \"crs = 3035\")\n",
    "grid()"
   ]
  },
  {
   "cell_type": "markdown",
   "id": "9582c821",
   "metadata": {},
   "source": [
    "The following function can be used in your scientific R script, to stop the execution if Geolinking Service SoRa is not available:"
   ]
  },
  {
   "cell_type": "code",
   "execution_count": null,
   "id": "701a5cda",
   "metadata": {
    "vscode": {
     "languageId": "r"
    }
   },
   "outputs": [],
   "source": [
    "## check is sora available, stop if there is a problem\n",
    "stopifnot(sora_available())"
   ]
  },
  {
   "cell_type": "markdown",
   "id": "b0c9d956",
   "metadata": {},
   "source": [
    "### Prepare and execute the linking jobs for Berlin and Munich\n",
    "hint:\n",
    "- this simple linking method only needs parameter \"method\", no more parameters."
   ]
  },
  {
   "cell_type": "code",
   "execution_count": null,
   "id": "811d8d92",
   "metadata": {
    "vscode": {
     "languageId": "r"
    }
   },
   "outputs": [],
   "source": [
    "## linking job berlin and munich\n",
    "\n",
    "## reduce survey data to only id, x and y and add Coordinate Reference System (CRS) using sora_custom() function\n",
    "sora_data_berlin <- sora_custom(.data = berlin, crs = 3035)\n",
    "\n",
    "sora_data_munich <- sora_custom(.data = munich, crs = 3035)\n",
    "\n",
    "## define spatial dataset\n",
    "spat_data <- sora_spatial(id = \"ioer-monitor-f01rg-2022-1000m\")"
   ]
  },
  {
   "cell_type": "code",
   "execution_count": null,
   "id": "77cf53b0",
   "metadata": {
    "vscode": {
     "languageId": "r"
    }
   },
   "outputs": [],
   "source": [
    "# define linking\n",
    "linking <- sora_linking(\n",
    "  method = \"<--->\"\n",
    ")"
   ]
  },
  {
   "cell_type": "code",
   "execution_count": null,
   "id": "5a971bb5",
   "metadata": {
    "vscode": {
     "languageId": "r"
    }
   },
   "outputs": [],
   "source": [
    "# start the linking request\n",
    "\n",
    "job_id_berlin <- sora_request(dataset = sora_data_berlin, link_to = spat_data, method = linking)"
   ]
  },
  {
   "cell_type": "markdown",
   "id": "a5527241",
   "metadata": {},
   "source": [
    "**Please wait some seconds ; )**"
   ]
  },
  {
   "cell_type": "code",
   "execution_count": null,
   "id": "b2a139d4",
   "metadata": {
    "vscode": {
     "languageId": "r"
    }
   },
   "outputs": [],
   "source": [
    "# start the linking request\n",
    "\n",
    "job_id_munich <- sora_request(dataset = sora_data_munich, link_to = spat_data, method = linking)"
   ]
  },
  {
   "cell_type": "markdown",
   "id": "384e5b6a",
   "metadata": {},
   "source": [
    "### Get results"
   ]
  },
  {
   "cell_type": "markdown",
   "id": "d30f9778",
   "metadata": {},
   "source": [
    "First, try of the linking job is done. If TRUE, you can get the result data."
   ]
  },
  {
   "cell_type": "code",
   "execution_count": null,
   "id": "60c18072",
   "metadata": {
    "vscode": {
     "languageId": "r"
    }
   },
   "outputs": [],
   "source": [
    "sora_job_done(job_id_berlin)"
   ]
  },
  {
   "cell_type": "code",
   "execution_count": null,
   "id": "81176d91",
   "metadata": {
    "vscode": {
     "languageId": "r"
    }
   },
   "outputs": [],
   "source": [
    "sora_job_done(job_id_munich)"
   ]
  },
  {
   "cell_type": "code",
   "execution_count": null,
   "id": "c801984e",
   "metadata": {
    "vscode": {
     "languageId": "r"
    }
   },
   "outputs": [],
   "source": [
    "## get results for Berlin\n",
    "\n",
    "if (sora_job_done(job_id_berlin)){\n",
    "  results_berlin <- sora_results(job_id = job_id_berlin)\n",
    "  head(results_berlin)\n",
    "}"
   ]
  },
  {
   "cell_type": "code",
   "execution_count": null,
   "id": "8f7958e0",
   "metadata": {
    "vscode": {
     "languageId": "r"
    }
   },
   "outputs": [],
   "source": [
    "## get results for Munich\n",
    "\n",
    "if (sora_job_done(job_id_munich)){\n",
    "  results_munich <- sora_results(job_id = job_id_munich)\n",
    "  head(results_munich)\n",
    "}"
   ]
  },
  {
   "cell_type": "markdown",
   "id": "5608eec4",
   "metadata": {},
   "source": [
    "### Merge the datasets"
   ]
  },
  {
   "cell_type": "markdown",
   "id": "590b8eac",
   "metadata": {},
   "source": [
    "Merge result data with origin census datasets (to include columns for population)"
   ]
  },
  {
   "cell_type": "code",
   "execution_count": null,
   "id": "b71cb366",
   "metadata": {
    "vscode": {
     "languageId": "r"
    }
   },
   "outputs": [],
   "source": [
    "# merge Berlin data\n",
    "linked_berlin <- merge(berlin, results_berlin, by=\"id\")\n",
    "head(linked_berlin)"
   ]
  },
  {
   "cell_type": "code",
   "execution_count": null,
   "id": "9fb154af",
   "metadata": {
    "vscode": {
     "languageId": "r"
    }
   },
   "outputs": [],
   "source": [
    "# merge Munich data\n",
    "linked_munich <- merge(munich, results_munich, by=\"id\")\n",
    "head(linked_munich)"
   ]
  },
  {
   "cell_type": "markdown",
   "id": "50964c2c",
   "metadata": {},
   "source": [
    "Plot the result"
   ]
  },
  {
   "cell_type": "markdown",
   "id": "4083f9e3",
   "metadata": {},
   "source": [
    "### Plots of Berlin"
   ]
  },
  {
   "cell_type": "code",
   "execution_count": null,
   "id": "75c43bae",
   "metadata": {
    "vscode": {
     "languageId": "r"
    }
   },
   "outputs": [],
   "source": [
    "# plot Population Sum of census 2022\n",
    "plot(linked_berlin$pop_sum, linked_berlin$value, type = \"p\", main = \"population sum vs \\n proportion of open space\", xlab = \"Population sum\", ylab = \"Proportion of open space\")"
   ]
  },
  {
   "cell_type": "code",
   "execution_count": null,
   "id": "8d60a443",
   "metadata": {
    "vscode": {
     "languageId": "r"
    }
   },
   "outputs": [],
   "source": [
    "plot(linked_berlin$pop_diff_sum, linked_berlin$value, type = \"p\", main = \"population difference vs \\n proportion of open space\", xlab = \"Population difference\", ylab = \"Proportion of open space\")"
   ]
  },
  {
   "cell_type": "markdown",
   "id": "b339eabb",
   "metadata": {},
   "source": [
    "### Plots of Munich"
   ]
  },
  {
   "cell_type": "code",
   "execution_count": null,
   "id": "ac8935fd",
   "metadata": {
    "vscode": {
     "languageId": "r"
    }
   },
   "outputs": [],
   "source": [
    "plot(linked_munich$pop_sum, linked_munich$value, type = \"p\", main = \"population sum vs \\n proportion of open space\", xlab = \"Population sum\", ylab = \"Proportion of open space\")"
   ]
  },
  {
   "cell_type": "code",
   "execution_count": null,
   "id": "2c8bf99f",
   "metadata": {
    "vscode": {
     "languageId": "r"
    }
   },
   "outputs": [],
   "source": [
    "plot(linked_munich$pop_diff_sum, linked_munich$value, type = \"p\", main = \"population difference vs \\n proportion of open space\", xlab = \"Population difference\", ylab = \"Proportion of open space\")"
   ]
  }
 ],
 "metadata": {
  "kernelspec": {
   "display_name": "R-4.4.2",
   "language": "R",
   "name": "ir40"
  },
  "language_info": {
   "codemirror_mode": "r",
   "file_extension": ".r",
   "mimetype": "text/x-r-source",
   "name": "R",
   "pygments_lexer": "r",
   "version": "4.4.2"
  }
 },
 "nbformat": 4,
 "nbformat_minor": 5
}
