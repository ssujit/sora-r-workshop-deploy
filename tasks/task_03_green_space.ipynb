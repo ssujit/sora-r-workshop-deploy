{
 "cells": [
  {
   "cell_type": "markdown",
   "id": "7038e3f7-c3eb-4205-b918-489b48607d97",
   "metadata": {},
   "source": [
    "# Task 3: Analysing green spaces in Hamburg and Berlin\n",
    "**The task is to determine green space availability for Hamburg and Berlin ... XXX**"
   ]
  },
  {
   "cell_type": "markdown",
   "id": "0f9e182c",
   "metadata": {},
   "source": [
    "## Load functions from SoRa R package\n",
    "This steps are currently required to load all R functions from /R/ directory. In future, the SoRa R package will be installed directly."
   ]
  },
  {
   "cell_type": "code",
   "execution_count": null,
   "id": "9df611e6",
   "metadata": {
    "vscode": {
     "languageId": "r"
    }
   },
   "outputs": [],
   "source": [
    "# load R functions from SoRa R Package\n",
    "path <- \"/home/jovyan/R/\"\n",
    "sora_functions  <- dir(path)\n",
    "for (i in sora_functions) {\n",
    "  source(paste0(path, i))\n",
    "}"
   ]
  },
  {
   "cell_type": "markdown",
   "id": "592401b8",
   "metadata": {},
   "source": [
    "## Check your changed SORA_API_KEY \n",
    "- the environment variable from .Renviron file\n"
   ]
  },
  {
   "cell_type": "code",
   "execution_count": null,
   "id": "016e9560",
   "metadata": {
    "vscode": {
     "languageId": "r"
    }
   },
   "outputs": [],
   "source": [
    "#check environment variable for SORA_API_KEY\n",
    "Sys.getenv(\"SORA_API_KEY\")"
   ]
  },
  {
   "cell_type": "markdown",
   "id": "e8cbc0a2",
   "metadata": {},
   "source": [
    "## Load, explore and prepare input survey data"
   ]
  },
  {
   "cell_type": "code",
   "execution_count": null,
   "id": "5015fd68-c359-4a01-94ac-6ed2f1f53556",
   "metadata": {
    "vscode": {
     "languageId": "r"
    }
   },
   "outputs": [],
   "source": [
    "path_data <- \"/home/jovyan/data/\""
   ]
  },
  {
   "cell_type": "markdown",
   "id": "0aa4f33c",
   "metadata": {},
   "source": [
    "Load datasets and explore it."
   ]
  },
  {
   "cell_type": "code",
   "execution_count": null,
   "id": "f3cdb66c",
   "metadata": {
    "vscode": {
     "languageId": "r"
    }
   },
   "outputs": [],
   "source": [
    "## data Hamburg\n",
    "hamburg <- read.csv(paste0(path_data, \"hamburg.csv\"))\n",
    "hamburg <- sora_assemble_id(hamburg, id_col = c(\"id\", \"syear\"))"
   ]
  },
  {
   "cell_type": "code",
   "execution_count": null,
   "id": "89eb765f",
   "metadata": {
    "vscode": {
     "languageId": "r"
    }
   },
   "outputs": [],
   "source": [
    "## plot hamburg\n",
    "plot(hamburg$x, hamburg$y, \n",
    "     xlab = \"x\", ylab = \"y\",\n",
    "     main = \"Households in Hamburg\",\n",
    "     sub = \"crs = 4647\")\n",
    "grid()"
   ]
  },
  {
   "cell_type": "code",
   "execution_count": null,
   "id": "6e377a71",
   "metadata": {
    "vscode": {
     "languageId": "r"
    }
   },
   "outputs": [],
   "source": [
    "## data Berlin\n",
    "berlin <- read.csv(paste0(path_data, \"berlin.csv\"))\n",
    "berlin <- sora_assemble_id(berlin, id_col = c(\"id\", \"syear\"))"
   ]
  },
  {
   "cell_type": "code",
   "execution_count": null,
   "id": "1e8aedca",
   "metadata": {
    "vscode": {
     "languageId": "r"
    }
   },
   "outputs": [],
   "source": [
    "## plot berlin\n",
    "plot(berlin$x, berlin$y, \n",
    "     xlab = \"x\", ylab = \"y\",\n",
    "     main = \"Households in Berlin\",\n",
    "     sub = \"crs = 4647\")\n",
    "grid()"
   ]
  },
  {
   "cell_type": "markdown",
   "id": "9582c821",
   "metadata": {},
   "source": [
    "This command can be used in your scientific R script, to stop the execution if Geolinking Service SoRa is not available:"
   ]
  },
  {
   "cell_type": "code",
   "execution_count": null,
   "id": "701a5cda",
   "metadata": {
    "vscode": {
     "languageId": "r"
    }
   },
   "outputs": [],
   "source": [
    "## check is sora available, stop if there is a problem\n",
    "stopifnot(sora_available())"
   ]
  },
  {
   "cell_type": "markdown",
   "id": "b0c9d956",
   "metadata": {},
   "source": [
    "### Linking"
   ]
  },
  {
   "cell_type": "code",
   "execution_count": null,
   "id": "811d8d92",
   "metadata": {
    "vscode": {
     "languageId": "r"
    }
   },
   "outputs": [],
   "source": [
    "## linking job hamburg\n",
    "sora_data <- sora_custom(.data = hamburg, crs = 4647)\n",
    "spat_data <- sora_spatial(id = \"ioer-monitor-p01mt-2018-g50\")"
   ]
  },
  {
   "cell_type": "code",
   "execution_count": null,
   "id": "77cf53b0",
   "metadata": {
    "vscode": {
     "languageId": "r"
    }
   },
   "outputs": [],
   "source": [
    "linking <- sora_linking(\n",
    "  method = \"aggregate_attribute\",\n",
    "  selection_area = \"isochrone\",\n",
    "  routing_type = \"time\",\n",
    "  interval = 10,\n",
    "  transport_mode = \"cycling-regular\",\n",
    "  output = c(\"mean\", \"min\", \"max\", \"mode\")\n",
    ")"
   ]
  },
  {
   "cell_type": "code",
   "execution_count": null,
   "id": "5a971bb5",
   "metadata": {
    "vscode": {
     "languageId": "r"
    }
   },
   "outputs": [],
   "source": [
    "job_id <- sora_request(dataset = sora_data, link_to = spat_data, method = linking)"
   ]
  },
  {
   "cell_type": "markdown",
   "id": "384e5b6a",
   "metadata": {},
   "source": [
    "### Get results"
   ]
  },
  {
   "cell_type": "code",
   "execution_count": null,
   "id": "c801984e",
   "metadata": {
    "vscode": {
     "languageId": "r"
    }
   },
   "outputs": [],
   "source": [
    "## get results\n",
    "sora_calls <- sora_jobs()\n",
    "job_id <- sora_calls$job_id[1]\n",
    "\n",
    "if (sora_job_done(job_id)){\n",
    "  results <- sora_results(job_id = job_id)\n",
    "}\n",
    "results <- sora_split_id(results, out_col = c(\"hid\", \"syear\"))"
   ]
  },
  {
   "cell_type": "code",
   "execution_count": null,
   "id": "62ac4d19",
   "metadata": {
    "vscode": {
     "languageId": "r"
    }
   },
   "outputs": [],
   "source": [
    "## linking job berlin\n",
    "sora_data <- sora_custom(.data = berlin, crs = 4647)\n",
    "spat_data <- sora_spatial(id = \"ioer-monitor-p01mt-2018-g50\")"
   ]
  },
  {
   "cell_type": "code",
   "execution_count": null,
   "id": "011adb4e",
   "metadata": {
    "vscode": {
     "languageId": "r"
    }
   },
   "outputs": [],
   "source": [
    "linking <- sora_linking(\n",
    "  method = \"aggregate_attribute\",\n",
    "  selection_area = \"isochrone\",\n",
    "  routing_type = \"time\",\n",
    "  interval = 10,\n",
    "  transport_mode = \"cycling-regular\",\n",
    "  output = c(\"mean\", \"min\", \"max\", \"mode\")\n",
    ")"
   ]
  },
  {
   "cell_type": "code",
   "execution_count": null,
   "id": "5f00af8b",
   "metadata": {
    "vscode": {
     "languageId": "r"
    }
   },
   "outputs": [],
   "source": [
    "job_id <- sora_request(dataset = sora_data, link_to = spat_data, method = linking)"
   ]
  },
  {
   "cell_type": "markdown",
   "id": "f57878d7",
   "metadata": {},
   "source": [
    "### Get results"
   ]
  },
  {
   "cell_type": "code",
   "execution_count": null,
   "id": "9063d7e6",
   "metadata": {
    "vscode": {
     "languageId": "r"
    }
   },
   "outputs": [],
   "source": [
    "## check, if your current linking job is done\n",
    "sora_job_done(job_id)"
   ]
  },
  {
   "cell_type": "code",
   "execution_count": null,
   "id": "b7833a49",
   "metadata": {
    "vscode": {
     "languageId": "r"
    }
   },
   "outputs": [],
   "source": [
    "## check status of all your started linking jobs\n",
    "sora_jobs()"
   ]
  },
  {
   "cell_type": "code",
   "execution_count": null,
   "id": "8f7958e0",
   "metadata": {
    "vscode": {
     "languageId": "r"
    }
   },
   "outputs": [],
   "source": [
    "## get results\n",
    "sora_calls <- sora_jobs()\n",
    "job_id <- sora_calls$job_id[1]\n",
    "\n",
    "if (sora_job_done(job_id)){\n",
    "  results <- sora_results(job_id = job_id)\n",
    "}\n",
    "results <- sora_split_id(results, out_col = c(\"hid\", \"syear\"))"
   ]
  },
  {
   "cell_type": "markdown",
   "id": "5608eec4",
   "metadata": {},
   "source": [
    "### Analyses"
   ]
  }
 ],
 "metadata": {
  "kernelspec": {
   "display_name": "R-4.4.2",
   "language": "R",
   "name": "ir40"
  },
  "language_info": {
   "codemirror_mode": "r",
   "file_extension": ".r",
   "mimetype": "text/x-r-source",
   "name": "R",
   "pygments_lexer": "r",
   "version": "4.4.2"
  }
 },
 "nbformat": 4,
 "nbformat_minor": 5
}
