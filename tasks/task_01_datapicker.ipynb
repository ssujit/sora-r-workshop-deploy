{
 "cells": [
  {
   "cell_type": "markdown",
   "id": "7038e3f7-c3eb-4205-b918-489b48607d97",
   "metadata": {},
   "source": [
    "# Task 1: How to use the datapicker in SoRa\n",
    "- The **datapicker** is a component of the Geolinking Service SoRa infrastructure, and provides metadata about available datasets and linking methods.\n",
    "- The user can use it to search for datasets and available and compatible linking methods\n",
    "### Two options how to use the datapicker\n",
    "- Via a web-interface: https://sora.gesis.org/unofficial/datapicker/\n",
    "- Or directly by using the R functions of SoRa to analyse the metadata"
   ]
  },
  {
   "cell_type": "markdown",
   "id": "c9256e1c",
   "metadata": {},
   "source": [
    "### Further Knowledge: Infrastructure of Geolinking Service SoRa\n",
    "- the arrows indicates the dependencies of the components\n",
    "\n",
    "[Infrastructure graphic of Geolinking Service SoRa](../images/SoRa_Graphic_Diagram_Infrastructure_EN_240906.html)"
   ]
  },
  {
   "cell_type": "markdown",
   "id": "4c3a75da",
   "metadata": {},
   "source": [
    "## Load functions from SoRa R package\n",
    "This steps are currently required to load all R functions from /R/ directory. In future, the SoRa R package will be installed directly."
   ]
  },
  {
   "cell_type": "code",
   "execution_count": null,
   "id": "fb160ca4",
   "metadata": {
    "vscode": {
     "languageId": "r"
    }
   },
   "outputs": [],
   "source": [
    "# load R functions from SoRa R Package\n",
    "path <- \"/home/jovyan/R/\"\n",
    "sora_functions  <- dir(path)\n",
    "for (i in sora_functions) {\n",
    "  source(paste0(path, i))\n",
    "}"
   ]
  },
  {
   "cell_type": "markdown",
   "id": "e2ea612a",
   "metadata": {},
   "source": [
    "## Load metadata about available geospatial datasets"
   ]
  },
  {
   "cell_type": "code",
   "execution_count": null,
   "id": "5015fd68-c359-4a01-94ac-6ed2f1f53556",
   "metadata": {
    "vscode": {
     "languageId": "r"
    }
   },
   "outputs": [],
   "source": [
    "## There exist four csv files (`provided`, `admin`, `spatial`, `linking`) which can be loaded in R. The default is the `provided` file,\n",
    "## which provides the information of the `geospatial datasets`.\n",
    "## load the data picker with the default and save it in dp:\n",
    "dp <- sora_datapicker(content = \"spatial\")"
   ]
  },
  {
   "cell_type": "code",
   "execution_count": null,
   "id": "252611c2",
   "metadata": {
    "vscode": {
     "languageId": "r"
    }
   },
   "outputs": [],
   "source": [
    "## which columns are in that saved table\n",
    "names(dp)"
   ]
  },
  {
   "cell_type": "markdown",
   "id": "85895d82",
   "metadata": {},
   "source": [
    "## Questions 1: How many geospatial datasets are currently available on spatial resolution \"points\" (Points of Interest)?\n",
    "Hints:\n",
    "- search for correct spelling of column names for **Title** and **Spatial Resolution** in the previous code cell with `names(dp)`"
   ]
  },
  {
   "cell_type": "code",
   "execution_count": null,
   "id": "9efc16a3",
   "metadata": {
    "vscode": {
     "languageId": "r"
    }
   },
   "outputs": [],
   "source": [
    "## get the cross table:\n",
    "dp_overview_1 <- sora_dp_overview(arg_1 = \"<--->\",\n",
    "                                  arg_2 = \"<--->\")"
   ]
  },
  {
   "cell_type": "code",
   "execution_count": null,
   "id": "b30ac22d",
   "metadata": {
    "vscode": {
     "languageId": "r"
    }
   },
   "outputs": [],
   "source": [
    "## show cross table:\n",
    "dp_overview_1"
   ]
  },
  {
   "cell_type": "code",
   "execution_count": null,
   "id": "99390530",
   "metadata": {
    "vscode": {
     "languageId": "r"
    }
   },
   "outputs": [],
   "source": [
    "## get sum of column \"points\"\n",
    "count_datasets_points <- sum(dp_overview_1$points)\n",
    "count_datasets_points"
   ]
  },
  {
   "cell_type": "markdown",
   "id": "84b13f16",
   "metadata": {},
   "source": [
    "## Questions 2: How many geospatial datasets are currently available on spatial resolution of municipalities in year 2020?\n",
    "Hints:\n",
    "- search for correct spelling of column names for **Time** and **Spatial Resolution** in the previous code cell with `names(dp)`\n",
    "- check the name of columns for municipalities in the generated table\n"
   ]
  },
  {
   "cell_type": "code",
   "execution_count": null,
   "id": "5c19757e",
   "metadata": {
    "vscode": {
     "languageId": "r"
    }
   },
   "outputs": [],
   "source": [
    "## get the cross table:\n",
    "dp_overview_2 <- sora_dp_overview(arg_1 = \"<--->\",\n",
    "                                  arg_2 = \"<--->\")"
   ]
  },
  {
   "cell_type": "code",
   "execution_count": null,
   "id": "9e639f0f",
   "metadata": {
    "vscode": {
     "languageId": "r"
    }
   },
   "outputs": [],
   "source": [
    "## show cross table:\n",
    "dp_overview_2"
   ]
  },
  {
   "cell_type": "code",
   "execution_count": null,
   "id": "e858daac",
   "metadata": {
    "vscode": {
     "languageId": "r"
    }
   },
   "outputs": [],
   "source": [
    "# reduce table to given year\n",
    "row_2020 <- dp_overview_2[dp_overview_2$time_frame == 2020, ]"
   ]
  },
  {
   "cell_type": "code",
   "execution_count": null,
   "id": "254a9f51",
   "metadata": {
    "vscode": {
     "languageId": "r"
    }
   },
   "outputs": [],
   "source": [
    "# return value for municipalities\n",
    "row_2020$`<--->`"
   ]
  },
  {
   "cell_type": "markdown",
   "id": "6f4333ce",
   "metadata": {},
   "source": [
    "## Questions 3: What is the geospatial dataset ID for indicator \"Green per inhabitant\" on spatial resolution of Cities (> 50k inhabitants) in 2018?\n",
    "Hints:\n",
    "- function \"sora_dp_get_id()\" returns dataset ID"
   ]
  },
  {
   "cell_type": "code",
   "execution_count": null,
   "id": "614e0967",
   "metadata": {
    "vscode": {
     "languageId": "r"
    }
   },
   "outputs": [],
   "source": [
    "## select a specific indicator 'value for title'\n",
    "dp_select_indicator <- sora_dp_get_id(data_dp = dp, indicator = \"Green per inhabitant\")"
   ]
  },
  {
   "cell_type": "code",
   "execution_count": null,
   "id": "50befe83",
   "metadata": {
    "vscode": {
     "languageId": "r"
    }
   },
   "outputs": [],
   "source": [
    "## get an overview of all dataset_id for that specific indicator\n",
    "dp_select_indicator"
   ]
  }
 ],
 "metadata": {
  "kernelspec": {
   "display_name": "R-4.4.2",
   "language": "R",
   "name": "ir40"
  },
  "language_info": {
   "codemirror_mode": "r",
   "file_extension": ".r",
   "mimetype": "text/x-r-source",
   "name": "R",
   "pygments_lexer": "r",
   "version": "4.4.2"
  }
 },
 "nbformat": 4,
 "nbformat_minor": 5
}
