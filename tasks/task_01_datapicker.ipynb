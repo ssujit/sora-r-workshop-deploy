{
 "cells": [
  {
   "cell_type": "markdown",
   "id": "7038e3f7-c3eb-4205-b918-489b48607d97",
   "metadata": {},
   "source": [
    "## Task 1: How to use the datapicker in SoRa\n",
    "- The **datapicker** is a component of the Geolinking Service SoRa infrastructure, and provides metadata about available datasets and linking methods.\n",
    "- The user can use it to search for datasets and available and compatible linking methods\n",
    "### Two options how to use the datapicker\n",
    "- Via a web-interface: https://sora.gesis.org/unofficial/datapicker/\n",
    "- Or directly by using the R functions of SoRa to analyse the metadata"
   ]
  },
  {
   "cell_type": "markdown",
   "id": "c9256e1c",
   "metadata": {},
   "source": [
    "### Datapicker within the infrastructure of Geolinking Service SoRa\n",
    "- the arrows indicates the dependencies of the components\n",
    "\n",
    "![Infrastructure graphic of Geolinking Service SoRa](/home/jovyan/images/SoRa_Graphic_Diagram_Infrastructure_EN_240906.png)"
   ]
  },
  {
   "cell_type": "markdown",
   "id": "4c3a75da",
   "metadata": {},
   "source": [
    "## Load functions from SoRa R package\n",
    "This steps are currently required to load all R functions from /R/ directory. In future, the SoRa R package will be installed directly."
   ]
  },
  {
   "cell_type": "code",
   "execution_count": null,
   "id": "fb160ca4",
   "metadata": {
    "vscode": {
     "languageId": "r"
    }
   },
   "outputs": [],
   "source": [
    "# load R functions from SoRa R Package\n",
    "path <- \"/home/jovyan/R/\"\n",
    "sora_functions  <- dir(path)\n",
    "for (i in sora_functions) {\n",
    "  source(paste0(path, i))\n",
    "}"
   ]
  },
  {
   "cell_type": "code",
   "execution_count": null,
   "id": "5015fd68-c359-4a01-94ac-6ed2f1f53556",
   "metadata": {
    "vscode": {
     "languageId": "r"
    }
   },
   "outputs": [],
   "source": [
    "## There exist four csv files (`provided`, `admin`, `spatial`, `linking`) which can be load in R. The default is the `provided` file,\n",
    "## which provided the information of the `geospatial datastes`.\n",
    "## load the data picker with the default and save in dp:\n",
    "dp <- sora_datapicker(content = \"spatial\")"
   ]
  },
  {
   "cell_type": "code",
   "execution_count": null,
   "id": "252611c2",
   "metadata": {
    "vscode": {
     "languageId": "r"
    }
   },
   "outputs": [],
   "source": [
    "## which columns are in that saved table\n",
    "names(dp)"
   ]
  },
  {
   "cell_type": "code",
   "execution_count": null,
   "id": "9efc16a3",
   "metadata": {
    "vscode": {
     "languageId": "r"
    }
   },
   "outputs": [],
   "source": [
    "## get the cross table for `title` and `spatial_resolution` for the default:\n",
    "dp_overview <- sora_dp_overview(arg_1 = \"title\",\n",
    "                                arg_2 = \"spatial_resolution\")"
   ]
  },
  {
   "cell_type": "code",
   "execution_count": null,
   "id": "a1b78c73",
   "metadata": {
    "vscode": {
     "languageId": "r"
    }
   },
   "outputs": [],
   "source": [
    "## select a specific indicator 'value for title'\n",
    "dp_select_indicator <- sora_dp_get_id(indicator = \"Green per inhabitant\")"
   ]
  },
  {
   "cell_type": "code",
   "execution_count": null,
   "id": "99390530",
   "metadata": {
    "vscode": {
     "languageId": "r"
    }
   },
   "outputs": [],
   "source": [
    "## get an overview of all dataset_id for that specific indicator\n",
    "dp_select_indicator"
   ]
  }
 ],
 "metadata": {
  "kernelspec": {
   "display_name": "R-4.4.2",
   "language": "R",
   "name": "ir40"
  },
  "language_info": {
   "codemirror_mode": "r",
   "file_extension": ".r",
   "mimetype": "text/x-r-source",
   "name": "R",
   "pygments_lexer": "r",
   "version": "4.4.2"
  }
 },
 "nbformat": 4,
 "nbformat_minor": 5
}
