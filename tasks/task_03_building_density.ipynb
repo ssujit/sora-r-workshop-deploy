{
 "cells": [
  {
   "cell_type": "markdown",
   "id": "7038e3f7-c3eb-4205-b918-489b48607d97",
   "metadata": {},
   "source": [
    "# Workshop: data linking of survey and spatial datasets using Geolinking Service SoRa"
   ]
  },
  {
   "cell_type": "markdown",
   "id": "87739043",
   "metadata": {},
   "source": [
    "## Load functions from SoRa R package\n",
    "This steps are currently required to load all R functions from /R/ directory. In future, the SoRa R package will be installed directly."
   ]
  },
  {
   "cell_type": "code",
   "execution_count": null,
   "id": "0a16ee69",
   "metadata": {
    "vscode": {
     "languageId": "r"
    }
   },
   "outputs": [],
   "source": [
    "# load R functions from SoRa R Package\n",
    "path <- paste0(getwd(), \"/R/\")\n",
    "sora_functions  <- dir(path)\n",
    "for (i in sora_functions) {\n",
    "  source(paste0(path, i))\n",
    "}"
   ]
  },
  {
   "cell_type": "code",
   "execution_count": null,
   "id": "5015fd68-c359-4a01-94ac-6ed2f1f53556",
   "metadata": {
    "vscode": {
     "languageId": "r"
    }
   },
   "outputs": [],
   "source": []
  }
 ],
 "metadata": {
  "kernelspec": {
   "display_name": "R-4.4.2",
   "language": "R",
   "name": "ir40"
  },
  "language_info": {
   "codemirror_mode": "r",
   "file_extension": ".r",
   "mimetype": "text/x-r-source",
   "name": "R",
   "pygments_lexer": "r",
   "version": "4.4.2"
  }
 },
 "nbformat": 4,
 "nbformat_minor": 5
}
