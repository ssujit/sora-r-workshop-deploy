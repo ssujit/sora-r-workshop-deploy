{
 "cells": [
  {
   "cell_type": "markdown",
   "id": "7038e3f7-c3eb-4205-b918-489b48607d97",
   "metadata": {},
   "source": [
    "# Task 3: Analysing building density\n",
    "**The task is to link XXX**"
   ]
  },
  {
   "cell_type": "markdown",
   "id": "87739043",
   "metadata": {},
   "source": [
    "## Load functions from SoRa R package\n",
    "This steps are currently required to load all R functions from /R/ directory. In future, the SoRa R package will be installed directly."
   ]
  },
  {
   "cell_type": "code",
   "execution_count": null,
   "id": "0a16ee69",
   "metadata": {
    "vscode": {
     "languageId": "r"
    }
   },
   "outputs": [],
   "source": [
    "# load R functions from SoRa R Package\n",
    "path <- \"/home/jovyan/R/\"\n",
    "sora_functions  <- dir(path)\n",
    "for (i in sora_functions) {\n",
    "  source(paste0(path, i))\n",
    "}"
   ]
  },
  {
   "cell_type": "markdown",
   "id": "766d46a5",
   "metadata": {},
   "source": [
    "## Check your changed SORA_API_KEY \n",
    "- the environment variable from .Renviron file\n"
   ]
  },
  {
   "cell_type": "code",
   "execution_count": null,
   "id": "01cf6e73",
   "metadata": {
    "vscode": {
     "languageId": "r"
    }
   },
   "outputs": [],
   "source": [
    "#check environment variable for SORA_API_KEY\n",
    "Sys.getenv(\"SORA_API_KEY\")"
   ]
  },
  {
   "cell_type": "markdown",
   "id": "57c12ab0",
   "metadata": {},
   "source": [
    "## Load, explore and prepare input survey data"
   ]
  },
  {
   "cell_type": "code",
   "execution_count": null,
   "id": "5015fd68-c359-4a01-94ac-6ed2f1f53556",
   "metadata": {
    "vscode": {
     "languageId": "r"
    }
   },
   "outputs": [],
   "source": [
    "## load data\n",
    "path_data <- \"/home/jovyan/data/\"\n",
    "## data Berlin\n",
    "berlin <- read.csv(paste0(path_data, \"berlin.csv\"))\n",
    "berlin <- sora_assemble_id(berlin, id_col = c(\"id\", \"syear\"))"
   ]
  },
  {
   "cell_type": "code",
   "execution_count": null,
   "id": "b193d8b1",
   "metadata": {
    "vscode": {
     "languageId": "r"
    }
   },
   "outputs": [],
   "source": [
    "head(berlin)"
   ]
  },
  {
   "cell_type": "code",
   "execution_count": null,
   "id": "1dbd8caa",
   "metadata": {
    "vscode": {
     "languageId": "r"
    }
   },
   "outputs": [],
   "source": [
    "## plot berlin\n",
    "plot(berlin$x, berlin$y, \n",
    "     xlab = \"x\", ylab = \"y\",\n",
    "     main = \"Households in Berlin\",\n",
    "     sub = \"crs = 4647\")\n",
    "grid()"
   ]
  },
  {
   "cell_type": "code",
   "execution_count": null,
   "id": "2bec9c33",
   "metadata": {
    "vscode": {
     "languageId": "r"
    }
   },
   "outputs": [],
   "source": [
    "## check if sora is available\n",
    "## script stops here, if there is a problem!\n",
    "\n",
    "stopifnot(sora_available())"
   ]
  },
  {
   "cell_type": "markdown",
   "id": "ba81af98",
   "metadata": {},
   "source": [
    "### Linking for 2014\n",
    "prepare and execute linking job for year 2014"
   ]
  },
  {
   "cell_type": "code",
   "execution_count": null,
   "id": "12e5d7d6",
   "metadata": {
    "vscode": {
     "languageId": "r"
    }
   },
   "outputs": [],
   "source": [
    "sora_data <- sora_custom(.data = berlin, crs = 4647)"
   ]
  },
  {
   "cell_type": "code",
   "execution_count": null,
   "id": "56b1d3b5",
   "metadata": {
    "vscode": {
     "languageId": "r"
    }
   },
   "outputs": [],
   "source": [
    "# define geospatial dataset for linkage\n",
    "spat_data <- sora_spatial(id = \"ioer-monitor-g01dg-2014-1000m\")"
   ]
  },
  {
   "cell_type": "code",
   "execution_count": null,
   "id": "0191bc88",
   "metadata": {
    "vscode": {
     "languageId": "r"
    }
   },
   "outputs": [],
   "source": [
    "linking <- sora_linking(\n",
    "  method = \"aggregate_attribute\",\n",
    "  selection_area = \"circle\",\n",
    "  radius = 2000,\n",
    "  output = c(\"mean\", \"min\", \"max\", \"sd\")\n",
    ")"
   ]
  },
  {
   "cell_type": "code",
   "execution_count": null,
   "id": "5d2abd8f",
   "metadata": {
    "vscode": {
     "languageId": "r"
    }
   },
   "outputs": [],
   "source": [
    "job_id_2014 <- sora_request(dataset = sora_data, link_to = spat_data, method = linking)"
   ]
  },
  {
   "cell_type": "markdown",
   "id": "8394e87b",
   "metadata": {},
   "source": [
    "### Get results"
   ]
  },
  {
   "cell_type": "code",
   "execution_count": null,
   "id": "d83b5270",
   "metadata": {
    "vscode": {
     "languageId": "r"
    }
   },
   "outputs": [],
   "source": [
    "## get results\n",
    "sora_calls <- sora_jobs()\n",
    "job_id_2014 <- sora_calls$job_id[1]\n",
    "\n",
    "if (sora_job_done(job_id_2014)){\n",
    "  results_2014 <- sora_results(job_id = job_id_2014)\n",
    "}\n",
    "results_2014 <- sora_split_id(results_2014, out_col = c(\"hid\", \"syear\"))"
   ]
  },
  {
   "cell_type": "markdown",
   "id": "df007736",
   "metadata": {},
   "source": [
    "### Linking for 2022\n",
    "prepare and execute linking job for year 2022\n",
    "- hint: \n",
    "    - to determine the correct linking parameter, you can either use the online web-interface of the datapicker\n",
    "    - or read the error messages (after starting a linking job), to get an idea which values are valid"
   ]
  },
  {
   "cell_type": "code",
   "execution_count": null,
   "id": "0999ff2c",
   "metadata": {
    "vscode": {
     "languageId": "r"
    }
   },
   "outputs": [],
   "source": [
    "sora_data <- sora_custom(.data = berlin, crs = 4647)"
   ]
  },
  {
   "cell_type": "code",
   "execution_count": null,
   "id": "513a7162",
   "metadata": {
    "vscode": {
     "languageId": "r"
    }
   },
   "outputs": [],
   "source": [
    "# define geospatial dataset for linkage\n",
    "spat_data <- sora_spatial(id = \"<--->\")"
   ]
  },
  {
   "cell_type": "code",
   "execution_count": null,
   "id": "41156e15",
   "metadata": {
    "vscode": {
     "languageId": "r"
    }
   },
   "outputs": [],
   "source": [
    "linking <- sora_linking(\n",
    "  method = \"aggregate_attribute\",\n",
    "  selection_area = \"circle\",\n",
    "  radius = 2000,\n",
    "  output = c(\"mean\", \"min\", \"max\", \"sd\")\n",
    ")"
   ]
  },
  {
   "cell_type": "code",
   "execution_count": null,
   "id": "5c8da07a",
   "metadata": {
    "vscode": {
     "languageId": "r"
    }
   },
   "outputs": [],
   "source": [
    "job_id_2022 <- sora_request(dataset = sora_data, link_to = spat_data, method = linking)"
   ]
  },
  {
   "cell_type": "markdown",
   "id": "11fa9ba2",
   "metadata": {},
   "source": [
    "### Get results"
   ]
  },
  {
   "cell_type": "code",
   "execution_count": null,
   "id": "a7966a61",
   "metadata": {
    "vscode": {
     "languageId": "r"
    }
   },
   "outputs": [],
   "source": [
    "## get results\n",
    "sora_calls <- sora_jobs()\n",
    "job_id_2022 <- sora_calls$job_id[1]\n",
    "\n",
    "if (sora_job_done(job_id_2022)){\n",
    "  results_2022 <- sora_results(job_id = job_id_2022)\n",
    "}\n",
    "results_2022 <- sora_split_id(results_2022, out_col = c(\"hid\", \"syear\"))"
   ]
  },
  {
   "cell_type": "markdown",
   "id": "7d8720b4",
   "metadata": {},
   "source": [
    "### Analyses\n",
    "- plot **variable** and building density (Mean) for both years in a scatter plot"
   ]
  },
  {
   "cell_type": "code",
   "execution_count": null,
   "id": "2909d414",
   "metadata": {
    "vscode": {
     "languageId": "r"
    }
   },
   "outputs": [],
   "source": []
  }
 ],
 "metadata": {
  "kernelspec": {
   "display_name": "R-4.4.2",
   "language": "R",
   "name": "ir40"
  },
  "language_info": {
   "codemirror_mode": "r",
   "file_extension": ".r",
   "mimetype": "text/x-r-source",
   "name": "R",
   "pygments_lexer": "r",
   "version": "4.4.2"
  }
 },
 "nbformat": 4,
 "nbformat_minor": 5
}
