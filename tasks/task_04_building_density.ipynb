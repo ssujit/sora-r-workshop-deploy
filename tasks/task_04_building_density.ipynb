{
 "cells": [
  {
   "cell_type": "markdown",
   "id": "7038e3f7-c3eb-4205-b918-489b48607d97",
   "metadata": {},
   "source": [
    "# Task 4: Analysing building density\n",
    "**The task is to link the IÖR-Monitor indicator \"Building density in reference area\" with the synthetic SOEP Structural Dataset of Berlin, for two years: 2014 and 2021**"
   ]
  },
  {
   "cell_type": "markdown",
   "id": "87739043",
   "metadata": {},
   "source": [
    "## Load functions from SoRa R package\n",
    "This steps are currently required to load all R functions from /R/ directory. In future, the SoRa R package will be installed directly."
   ]
  },
  {
   "cell_type": "code",
   "execution_count": null,
   "id": "0a16ee69",
   "metadata": {
    "vscode": {
     "languageId": "r"
    }
   },
   "outputs": [],
   "source": [
    "# load R functions from SoRa R Package\n",
    "path <- \"/home/jovyan/R/\"\n",
    "sora_functions  <- dir(path)\n",
    "for (i in sora_functions) {\n",
    "  source(paste0(path, i))\n",
    "}"
   ]
  },
  {
   "cell_type": "markdown",
   "id": "766d46a5",
   "metadata": {},
   "source": [
    "## Check your changed SORA_API_KEY \n",
    "- the environment variable from .Renviron file\n"
   ]
  },
  {
   "cell_type": "code",
   "execution_count": null,
   "id": "01cf6e73",
   "metadata": {
    "vscode": {
     "languageId": "r"
    }
   },
   "outputs": [],
   "source": [
    "#check environment variable for SORA_API_KEY\n",
    "Sys.getenv(\"SORA_API_KEY\")"
   ]
  },
  {
   "cell_type": "markdown",
   "id": "57c12ab0",
   "metadata": {},
   "source": [
    "## Load, explore and prepare input survey data\n",
    "- SOEP structural dataset are synthetic coordinates with a similar spatial distribution in comparison to the origin coordinates of the survey\n",
    "- SOEP structural dataset has ID and syear columns, which bot are needed to create a  unique ID"
   ]
  },
  {
   "cell_type": "code",
   "execution_count": null,
   "id": "5015fd68-c359-4a01-94ac-6ed2f1f53556",
   "metadata": {
    "vscode": {
     "languageId": "r"
    }
   },
   "outputs": [],
   "source": [
    "## load data\n",
    "path_data <- \"/home/jovyan/data/\"\n",
    "## data Berlin\n",
    "berlin <- read.csv(paste0(path_data, \"berlin.csv\"))\n",
    "\n",
    "## subset for coordinates of 2014\n",
    "berlin_2014 <- berlin[berlin$syear == 2014, ]\n",
    "berlin_2014 <- sora_assemble_id(berlin_2014, id_col = c(\"id\", \"syear\"))\n",
    "\n",
    "## subset for coordinates of 2021\n",
    "berlin_2021 <- berlin[berlin$syear == 2021, ]\n",
    "berlin_2021 <- sora_assemble_id(berlin_2021, id_col = c(\"id\", \"syear\"))"
   ]
  },
  {
   "cell_type": "markdown",
   "id": "2344e023",
   "metadata": {},
   "source": [
    "Explore the input datasets"
   ]
  },
  {
   "cell_type": "code",
   "execution_count": null,
   "id": "b193d8b1",
   "metadata": {
    "vscode": {
     "languageId": "r"
    }
   },
   "outputs": [],
   "source": [
    "head(berlin_2014)"
   ]
  },
  {
   "cell_type": "code",
   "execution_count": null,
   "id": "1dbd8caa",
   "metadata": {
    "vscode": {
     "languageId": "r"
    }
   },
   "outputs": [],
   "source": [
    "## plot berlin in 2014\n",
    "plot(berlin_2014$x, berlin_2014$y, \n",
    "     xlab = \"x\", ylab = \"y\",\n",
    "     main = \"Households in Berlin - in 2014\",\n",
    "     sub = \"crs = 4647\")\n",
    "grid()"
   ]
  },
  {
   "cell_type": "code",
   "execution_count": null,
   "id": "3c9fa9e8",
   "metadata": {
    "vscode": {
     "languageId": "r"
    }
   },
   "outputs": [],
   "source": [
    "head(berlin_2021)"
   ]
  },
  {
   "cell_type": "code",
   "execution_count": null,
   "id": "66d7cf51",
   "metadata": {
    "vscode": {
     "languageId": "r"
    }
   },
   "outputs": [],
   "source": [
    "## plot berlin in 2021\n",
    "plot(berlin_2021$x, berlin_2021$y, \n",
    "     xlab = \"x\", ylab = \"y\",\n",
    "     main = \"Households in Berlin - in 2021\",\n",
    "     sub = \"crs = 4647\")\n",
    "grid()"
   ]
  },
  {
   "cell_type": "code",
   "execution_count": null,
   "id": "2bec9c33",
   "metadata": {
    "vscode": {
     "languageId": "r"
    }
   },
   "outputs": [],
   "source": [
    "## check if sora is available\n",
    "## script stops here, if there is a problem!\n",
    "\n",
    "stopifnot(sora_available())"
   ]
  },
  {
   "cell_type": "markdown",
   "id": "ba81af98",
   "metadata": {},
   "source": [
    "### Linking for 2014\n",
    "prepare and execute linking job for year 2014"
   ]
  },
  {
   "cell_type": "code",
   "execution_count": null,
   "id": "12e5d7d6",
   "metadata": {
    "vscode": {
     "languageId": "r"
    }
   },
   "outputs": [],
   "source": [
    "sora_data_2014 <- sora_custom(.data = berlin_2014, crs = 4647)"
   ]
  },
  {
   "cell_type": "code",
   "execution_count": null,
   "id": "56b1d3b5",
   "metadata": {
    "vscode": {
     "languageId": "r"
    }
   },
   "outputs": [],
   "source": [
    "# define geospatial dataset for linkage\n",
    "spat_data_2014 <- sora_spatial(id = \"ioer-monitor-g01dg-2014-1000m\")"
   ]
  },
  {
   "cell_type": "code",
   "execution_count": null,
   "id": "0191bc88",
   "metadata": {
    "vscode": {
     "languageId": "r"
    }
   },
   "outputs": [],
   "source": [
    "linking_2014 <- sora_linking(\n",
    "  method = \"<--->\",\n",
    "  selection_area = \"<--->\",\n",
    "  length = <--->,\n",
    "  output = c(\"mean\", \"min\", \"max\", \"sd\")\n",
    ")"
   ]
  },
  {
   "cell_type": "markdown",
   "id": "bf6e3901",
   "metadata": {},
   "source": [
    "Start the linking job"
   ]
  },
  {
   "cell_type": "code",
   "execution_count": null,
   "id": "5d2abd8f",
   "metadata": {
    "vscode": {
     "languageId": "r"
    }
   },
   "outputs": [],
   "source": [
    "job_id_2014 <- sora_request(dataset = sora_data_2014, link_to = spat_data_2014, method = linking_2014)"
   ]
  },
  {
   "cell_type": "markdown",
   "id": "8394e87b",
   "metadata": {},
   "source": [
    "### Get results"
   ]
  },
  {
   "cell_type": "markdown",
   "id": "a3b2fa40",
   "metadata": {},
   "source": [
    "Check if linking job is already finished"
   ]
  },
  {
   "cell_type": "code",
   "execution_count": null,
   "id": "af3de02d",
   "metadata": {
    "vscode": {
     "languageId": "r"
    }
   },
   "outputs": [],
   "source": [
    "## check, if your current linking job is done\n",
    "sora_job_done(job_id_2014)"
   ]
  },
  {
   "cell_type": "markdown",
   "id": "486621e2",
   "metadata": {},
   "source": [
    "Or check the job status of all your requested linking jobs"
   ]
  },
  {
   "cell_type": "code",
   "execution_count": null,
   "id": "98951c87",
   "metadata": {
    "vscode": {
     "languageId": "r"
    }
   },
   "outputs": [],
   "source": [
    "## check status of all your started linking jobs\n",
    "sora_jobs()"
   ]
  },
  {
   "cell_type": "markdown",
   "id": "955c7d44",
   "metadata": {},
   "source": [
    "**If your linking job is finished**, then you can get the result data"
   ]
  },
  {
   "cell_type": "code",
   "execution_count": null,
   "id": "d83b5270",
   "metadata": {
    "vscode": {
     "languageId": "r"
    }
   },
   "outputs": [],
   "source": [
    "## get results\n",
    "sora_calls <- sora_jobs()\n",
    "job_id_2014 <- sora_calls$job_id[1]\n",
    "\n",
    "if (sora_job_done(job_id_2014)){\n",
    "  results_2014 <- sora_results(job_id = job_id_2014)\n",
    "  results_2014 <- sora_split_id(results_2014, out_col = c(\"hid\", \"syear\"))\n",
    "  head(results_2014)\n",
    "}\n"
   ]
  },
  {
   "cell_type": "markdown",
   "id": "df007736",
   "metadata": {},
   "source": [
    "### Linking for 2021\n",
    "prepare and execute linking job for year 2021\n",
    "- hint: \n",
    "    - to determine the correct linking parameter, you can either use the online web-interface of the datapicker\n",
    "    - or read the error messages (after starting a linking job), to get an idea which values are valid"
   ]
  },
  {
   "cell_type": "code",
   "execution_count": null,
   "id": "0999ff2c",
   "metadata": {
    "vscode": {
     "languageId": "r"
    }
   },
   "outputs": [],
   "source": [
    "sora_data_2021 <- sora_custom(.data = berlin_2021, crs = 4647)"
   ]
  },
  {
   "cell_type": "code",
   "execution_count": null,
   "id": "513a7162",
   "metadata": {
    "vscode": {
     "languageId": "r"
    }
   },
   "outputs": [],
   "source": [
    "# define geospatial dataset for linkage\n",
    "spat_data_2021 <- sora_spatial(id = \"<--->\")"
   ]
  },
  {
   "cell_type": "code",
   "execution_count": null,
   "id": "41156e15",
   "metadata": {
    "vscode": {
     "languageId": "r"
    }
   },
   "outputs": [],
   "source": [
    "linking_2021 <- sora_linking(\n",
    "  method = \"<--->\",\n",
    "  selection_area = \"<--->\",\n",
    "  length = <--->,\n",
    "  output = c(\"mean\", \"min\", \"max\", \"sd\")\n",
    ")"
   ]
  },
  {
   "cell_type": "code",
   "execution_count": null,
   "id": "5c8da07a",
   "metadata": {
    "vscode": {
     "languageId": "r"
    }
   },
   "outputs": [],
   "source": [
    "job_id_2021 <- sora_request(dataset = sora_data_2021, link_to = spat_data_2021, method = linking_2021)"
   ]
  },
  {
   "cell_type": "markdown",
   "id": "11fa9ba2",
   "metadata": {},
   "source": [
    "### Get results"
   ]
  },
  {
   "cell_type": "code",
   "execution_count": null,
   "id": "e3979d3c",
   "metadata": {
    "vscode": {
     "languageId": "r"
    }
   },
   "outputs": [],
   "source": [
    "## check, if your current linking job is done\n",
    "sora_job_done(job_id_2021)"
   ]
  },
  {
   "cell_type": "code",
   "execution_count": null,
   "id": "5b956323",
   "metadata": {
    "vscode": {
     "languageId": "r"
    }
   },
   "outputs": [],
   "source": [
    "## check status of all your started linking jobs\n",
    "sora_jobs()"
   ]
  },
  {
   "cell_type": "code",
   "execution_count": null,
   "id": "a7966a61",
   "metadata": {
    "vscode": {
     "languageId": "r"
    }
   },
   "outputs": [],
   "source": [
    "## get results\n",
    "sora_calls <- sora_jobs()\n",
    "job_id_2021 <- sora_calls$job_id[1]\n",
    "\n",
    "if (sora_job_done(job_id_2021)){\n",
    "  results_2021 <- sora_results(job_id = job_id_2021)\n",
    "  results_2021 <- sora_split_id(results_2021, out_col = c(\"hid\", \"syear\"))\n",
    "  head(results_2021)\n",
    "}\n"
   ]
  },
  {
   "cell_type": "markdown",
   "id": "7d8720b4",
   "metadata": {},
   "source": [
    "### Analyses\n",
    "- for both years (2014 and 2021) we have synthetic SOEP Structural Dataset coordinates, we linked now with geospatial dataset\n",
    "- e.g. we could compare the linked values of both years\n",
    "- **in the future**:\n",
    "    - you could request a Data Use Contract with SOEP to get SOEPcore (without coordinates) + SOEP Structural Dataset (synthetic coordinates with similar spatial distribution) to execute your own test linking jobs from home (Public mode in SoRa)\n",
    "    - you could apply for a research stay in Berlin using the secure room of SOEP to link the origin coordinates of SOEP with SOEPcore. Offering the best data for spatial linking (Private mode in SoRa)"
   ]
  },
  {
   "cell_type": "code",
   "execution_count": null,
   "id": "3c5e6aed",
   "metadata": {
    "vscode": {
     "languageId": "r"
    }
   },
   "outputs": [],
   "source": [
    "## find only id which exist in both subsets '2014' and '2021'\n",
    "unique_id <- c(results_2014$hid, results_2021$hid)\n",
    "unique_id <- unique_id[which(duplicated(unique_id) == TRUE)]"
   ]
  },
  {
   "cell_type": "code",
   "execution_count": null,
   "id": "42f71808",
   "metadata": {
    "vscode": {
     "languageId": "r"
    }
   },
   "outputs": [],
   "source": [
    "## select data for year 2014\n",
    "analyse_id <- which(is.element(results_2014$hid, unique_id) == TRUE)\n",
    "analyse_results_2014 <- results_2014[analyse_id,]"
   ]
  },
  {
   "cell_type": "code",
   "execution_count": null,
   "id": "50f8a3a9",
   "metadata": {
    "vscode": {
     "languageId": "r"
    }
   },
   "outputs": [],
   "source": [
    "## select data for year 2021\n",
    "analyse_id <- which(is.element(results_2021$hid, unique_id) == TRUE)\n",
    "analyse_results_2021 <- results_2021[analyse_id,]"
   ]
  },
  {
   "cell_type": "code",
   "execution_count": null,
   "id": "d8e7b1eb",
   "metadata": {
    "vscode": {
     "languageId": "r"
    }
   },
   "outputs": [],
   "source": [
    "## plot difference\n",
    "diff_mean <- analyse_results_2014$mean - analyse_results_2021$mean\n",
    "data_diff <- merge(results_2014, results_2021, by = \"hid\")\n",
    "data_diff$diff_mean <- diff_mean\n",
    "names(data_diff) <- gsub(\".x\", \"_2014\", names(data_diff), fixed = TRUE)\n",
    "names(data_diff) <- gsub(\".y\", \"_2014\", names(data_diff), fixed = TRUE)\n",
    "\n",
    "color_blue <- which(diff_mean < 0)\n",
    "use_color <- rep(\"red\", length(diff_mean))\n",
    "use_color[color_blue] <- \"blue\"\n",
    "range_y <- max(abs(diff_mean))\n",
    "plot(diff_mean, col = use_color,\n",
    "    main = \"difference of mean for the years 2014 and 2021\",\n",
    "    xlab = \"index hid, sorted by hid\",\n",
    "    ylab = \"diff mean\",\n",
    "    ylim = c((range_y * -1), range_y))\n",
    "abline(h = 0, lty = 2)\n",
    "head(data_diff)"
   ]
  },
  {
   "cell_type": "code",
   "execution_count": null,
   "id": "2909d414",
   "metadata": {
    "vscode": {
     "languageId": "r"
    }
   },
   "outputs": [],
   "source": []
  }
 ],
 "metadata": {
  "kernelspec": {
   "display_name": "R-4.4.2",
   "language": "R",
   "name": "ir40"
  },
  "language_info": {
   "codemirror_mode": "r",
   "file_extension": ".r",
   "mimetype": "text/x-r-source",
   "name": "R",
   "pygments_lexer": "r",
   "version": "4.4.2"
  }
 },
 "nbformat": 4,
 "nbformat_minor": 5
}
