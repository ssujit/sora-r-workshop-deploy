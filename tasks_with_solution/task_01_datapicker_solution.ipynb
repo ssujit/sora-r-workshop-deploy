{
 "cells": [
  {
   "cell_type": "markdown",
   "id": "7038e3f7-c3eb-4205-b918-489b48607d97",
   "metadata": {},
   "source": [
    "# Task 1: How to use the datapicker in SoRa\n",
    "- The **datapicker** is a component of the Geolinking Service SoRa infrastructure, and provides metadata about available datasets and linking methods.\n",
    "- The user can use it to search for datasets and available and compatible linking methods\n",
    "### Two options how to use the datapicker\n",
    "- Via a web-interface: https://sora.gesis.org/unofficial/datapicker/\n",
    "- Or directly by using the R functions of SoRa to analyse the metadata"
   ]
  },
  {
   "cell_type": "markdown",
   "id": "c9256e1c",
   "metadata": {},
   "source": [
    "### Further Knowledge: Infrastructure of Geolinking Service SoRa\n",
    "- the arrows indicates the dependencies of the components\n",
    "\n",
    "[Infrastructure graphic of Geolinking Service SoRa](../images/SoRa_Graphic_Diagram_Infrastructure_EN_240906.html)"
   ]
  },
  {
   "cell_type": "markdown",
   "id": "4c3a75da",
   "metadata": {},
   "source": [
    "## Load functions from SoRa R package\n",
    "This steps are currently required to load all R functions from /R/ directory. In future, the SoRa R package will be installed directly."
   ]
  },
  {
   "cell_type": "code",
   "execution_count": 1,
   "id": "fb160ca4",
   "metadata": {
    "trusted": true,
    "vscode": {
     "languageId": "r"
    }
   },
   "outputs": [],
   "source": [
    "# load R functions from SoRa R Package\n",
    "path <- \"/home/jovyan/R/\"\n",
    "sora_functions  <- dir(path)\n",
    "for (i in sora_functions) {\n",
    "  source(paste0(path, i))\n",
    "}"
   ]
  },
  {
   "cell_type": "markdown",
   "id": "01957071",
   "metadata": {},
   "source": [
    "## Check your changed SORA_API_KEY \n",
    "- the environment variable from .Renviron file\n"
   ]
  },
  {
   "cell_type": "code",
   "execution_count": 2,
   "id": "5633fdc2",
   "metadata": {
    "trusted": true,
    "vscode": {
     "languageId": "r"
    }
   },
   "outputs": [
    {
     "data": {
      "text/html": [
       "'9448b1d9c90db35d8975c24f71c60ee0c2855ee6eaf92eea2a32c23f094331d4de6579c54e51b223658f6769939e64d1380b30f9805bfc9316bef9a7a3ef6217'"
      ],
      "text/latex": [
       "'9448b1d9c90db35d8975c24f71c60ee0c2855ee6eaf92eea2a32c23f094331d4de6579c54e51b223658f6769939e64d1380b30f9805bfc9316bef9a7a3ef6217'"
      ],
      "text/markdown": [
       "'9448b1d9c90db35d8975c24f71c60ee0c2855ee6eaf92eea2a32c23f094331d4de6579c54e51b223658f6769939e64d1380b30f9805bfc9316bef9a7a3ef6217'"
      ],
      "text/plain": [
       "[1] \"9448b1d9c90db35d8975c24f71c60ee0c2855ee6eaf92eea2a32c23f094331d4de6579c54e51b223658f6769939e64d1380b30f9805bfc9316bef9a7a3ef6217\""
      ]
     },
     "metadata": {},
     "output_type": "display_data"
    }
   ],
   "source": [
    "#check environment variable for SORA_API_KEY\n",
    "Sys.getenv(\"SORA_API_KEY\")"
   ]
  },
  {
   "cell_type": "markdown",
   "id": "e2ea612a",
   "metadata": {},
   "source": [
    "## Load metadata about available geospatial datasets"
   ]
  },
  {
   "cell_type": "code",
   "execution_count": 3,
   "id": "5015fd68-c359-4a01-94ac-6ed2f1f53556",
   "metadata": {
    "trusted": true,
    "vscode": {
     "languageId": "r"
    }
   },
   "outputs": [],
   "source": [
    "## There exist four csv files (`provided`, `admin`, `spatial`, `linking`) which can be loaded in R. The default is the `provided` file,\n",
    "## which provides the information of the `geospatial datasets`.\n",
    "## load the data picker with the default and save it in dp:\n",
    "dp <- sora_datapicker(content = \"spatial\")"
   ]
  },
  {
   "cell_type": "code",
   "execution_count": 4,
   "id": "252611c2",
   "metadata": {
    "trusted": true,
    "vscode": {
     "languageId": "r"
    }
   },
   "outputs": [
    {
     "data": {
      "text/html": [
       "<style>\n",
       ".list-inline {list-style: none; margin:0; padding: 0}\n",
       ".list-inline>li {display: inline-block}\n",
       ".list-inline>li:not(:last-child)::after {content: \"\\00b7\"; padding: 0 .5ex}\n",
       "</style>\n",
       "<ol class=list-inline><li>'data_provider'</li><li>'dataset_id'</li><li>'datatype'</li><li>'description'</li><li>'geometry_type'</li><li>'label'</li><li>'required_permissions'</li><li>'service_provider'</li><li>'spatial_resolution'</li><li>'time_frame'</li><li>'title'</li><li>'unit'</li><li>'url'</li></ol>\n"
      ],
      "text/latex": [
       "\\begin{enumerate*}\n",
       "\\item 'data\\_provider'\n",
       "\\item 'dataset\\_id'\n",
       "\\item 'datatype'\n",
       "\\item 'description'\n",
       "\\item 'geometry\\_type'\n",
       "\\item 'label'\n",
       "\\item 'required\\_permissions'\n",
       "\\item 'service\\_provider'\n",
       "\\item 'spatial\\_resolution'\n",
       "\\item 'time\\_frame'\n",
       "\\item 'title'\n",
       "\\item 'unit'\n",
       "\\item 'url'\n",
       "\\end{enumerate*}\n"
      ],
      "text/markdown": [
       "1. 'data_provider'\n",
       "2. 'dataset_id'\n",
       "3. 'datatype'\n",
       "4. 'description'\n",
       "5. 'geometry_type'\n",
       "6. 'label'\n",
       "7. 'required_permissions'\n",
       "8. 'service_provider'\n",
       "9. 'spatial_resolution'\n",
       "10. 'time_frame'\n",
       "11. 'title'\n",
       "12. 'unit'\n",
       "13. 'url'\n",
       "\n",
       "\n"
      ],
      "text/plain": [
       " [1] \"data_provider\"        \"dataset_id\"           \"datatype\"            \n",
       " [4] \"description\"          \"geometry_type\"        \"label\"               \n",
       " [7] \"required_permissions\" \"service_provider\"     \"spatial_resolution\"  \n",
       "[10] \"time_frame\"           \"title\"                \"unit\"                \n",
       "[13] \"url\"                 "
      ]
     },
     "metadata": {},
     "output_type": "display_data"
    }
   ],
   "source": [
    "## which columns are in that saved table\n",
    "names(dp)"
   ]
  },
  {
   "cell_type": "markdown",
   "id": "85895d82",
   "metadata": {},
   "source": [
    "## Questions 1: How many geospatial datasets are currently available on spatial resolution \"points\" (Points of Interest)?\n",
    "Hints:\n",
    "- search for correct spelling of column names for **Title** and **Spatial Resolution** in the previous code cell with `names(dp)`"
   ]
  },
  {
   "cell_type": "code",
   "execution_count": 5,
   "id": "9efc16a3",
   "metadata": {
    "trusted": true,
    "vscode": {
     "languageId": "r"
    }
   },
   "outputs": [],
   "source": [
    "## get the cross table:\n",
    "dp_overview_1 <- sora_dp_overview(arg_1 = \"title\",\n",
    "                                  arg_2 = \"spatial_resolution\")"
   ]
  },
  {
   "cell_type": "code",
   "execution_count": 6,
   "id": "b30ac22d",
   "metadata": {
    "trusted": true,
    "vscode": {
     "languageId": "r"
    }
   },
   "outputs": [
    {
     "data": {
      "text/html": [
       "<table class=\"dataframe\">\n",
       "<caption>A tibble: 80 × 15</caption>\n",
       "<thead>\n",
       "\t<tr><th scope=col>title</th><th scope=col>100m Raster</th><th scope=col>200m Raster</th><th scope=col>500m Raster</th><th scope=col>1000m Raster</th><th scope=col>5000m Raster</th><th scope=col>10000m Raster</th><th scope=col>Cities (&gt; 50k inhabitants)</th><th scope=col>Districts</th><th scope=col>Municipal association</th><th scope=col>Municipal level</th><th scope=col>points</th><th scope=col>Quarters</th><th scope=col>Spatial planning regions</th><th scope=col>States</th></tr>\n",
       "\t<tr><th scope=col>&lt;chr&gt;</th><th scope=col>&lt;int&gt;</th><th scope=col>&lt;int&gt;</th><th scope=col>&lt;int&gt;</th><th scope=col>&lt;int&gt;</th><th scope=col>&lt;int&gt;</th><th scope=col>&lt;int&gt;</th><th scope=col>&lt;int&gt;</th><th scope=col>&lt;int&gt;</th><th scope=col>&lt;int&gt;</th><th scope=col>&lt;int&gt;</th><th scope=col>&lt;int&gt;</th><th scope=col>&lt;int&gt;</th><th scope=col>&lt;int&gt;</th><th scope=col>&lt;int&gt;</th></tr>\n",
       "</thead>\n",
       "<tbody>\n",
       "\t<tr><td>Agriculture per resident                                                   </td><td> 0</td><td> 0</td><td> 0</td><td> 0</td><td> 0</td><td> 0</td><td>17</td><td>17</td><td>17</td><td>17</td><td>0</td><td> 0</td><td>17</td><td>17</td></tr>\n",
       "\t<tr><td>Building density in reference area                                         </td><td> 8</td><td> 8</td><td> 8</td><td>11</td><td>11</td><td>11</td><td>11</td><td>11</td><td>11</td><td>11</td><td>0</td><td> 0</td><td>11</td><td>11</td></tr>\n",
       "\t<tr><td>Built-up settlement area and transport space per resident                  </td><td> 0</td><td> 0</td><td> 0</td><td> 0</td><td> 0</td><td> 0</td><td>17</td><td>17</td><td>17</td><td>17</td><td>0</td><td> 0</td><td>17</td><td>17</td></tr>\n",
       "\t<tr><td>Density of total roadway network for motorised vehicles in reference area  </td><td>18</td><td>18</td><td>18</td><td>18</td><td>18</td><td>18</td><td>18</td><td>18</td><td>18</td><td>18</td><td>0</td><td>18</td><td>18</td><td>18</td></tr>\n",
       "\t<tr><td>Density of track network in reference area                                 </td><td>18</td><td>18</td><td>18</td><td>18</td><td>18</td><td>18</td><td>18</td><td>18</td><td>18</td><td>18</td><td>0</td><td>18</td><td>18</td><td>18</td></tr>\n",
       "\t<tr><td>Density of use of transport infrastructure                                 </td><td> 0</td><td> 0</td><td> 0</td><td> 0</td><td> 0</td><td> 0</td><td>14</td><td>14</td><td>14</td><td>14</td><td>0</td><td>14</td><td>14</td><td>14</td></tr>\n",
       "\t<tr><td>E02RG                                                                      </td><td>18</td><td>18</td><td>18</td><td>18</td><td>17</td><td>18</td><td>16</td><td>16</td><td>16</td><td>16</td><td>0</td><td> 0</td><td>16</td><td>16</td></tr>\n",
       "\t<tr><td>Effective mesh size of forests (modified)                                  </td><td> 0</td><td> 0</td><td> 0</td><td> 0</td><td> 0</td><td> 0</td><td> 0</td><td> 5</td><td> 0</td><td> 0</td><td>0</td><td> 0</td><td> 5</td><td> 5</td></tr>\n",
       "\t<tr><td>Effective mesh size of open spaces (modified)                              </td><td> 0</td><td> 0</td><td> 0</td><td> 0</td><td> 0</td><td> 0</td><td> 0</td><td> 5</td><td> 0</td><td> 0</td><td>0</td><td> 0</td><td> 5</td><td> 5</td></tr>\n",
       "\t<tr><td>Forest and woodland per resident                                           </td><td> 0</td><td> 0</td><td> 0</td><td> 0</td><td> 0</td><td> 0</td><td>17</td><td>17</td><td>17</td><td>17</td><td>0</td><td> 0</td><td>17</td><td>17</td></tr>\n",
       "\t<tr><td>Green accessibility in the close residential environment                   </td><td> 0</td><td> 0</td><td> 0</td><td> 0</td><td> 0</td><td> 0</td><td> 1</td><td> 0</td><td> 0</td><td> 0</td><td>0</td><td> 1</td><td> 0</td><td> 0</td></tr>\n",
       "\t<tr><td>Green accessibility in the wider residential environment                   </td><td> 0</td><td> 0</td><td> 0</td><td> 0</td><td> 0</td><td> 0</td><td> 1</td><td> 0</td><td> 0</td><td> 0</td><td>0</td><td> 1</td><td> 0</td><td> 0</td></tr>\n",
       "\t<tr><td>Green area share of urban area                                             </td><td> 0</td><td> 0</td><td> 0</td><td> 0</td><td> 0</td><td> 0</td><td> 1</td><td> 0</td><td> 0</td><td> 0</td><td>0</td><td> 1</td><td> 0</td><td> 0</td></tr>\n",
       "\t<tr><td>Green per inhabitant                                                       </td><td> 0</td><td> 0</td><td> 0</td><td> 0</td><td> 0</td><td> 0</td><td> 1</td><td> 0</td><td> 0</td><td> 0</td><td>0</td><td> 1</td><td> 0</td><td> 0</td></tr>\n",
       "\t<tr><td>Green space per inhabitant                                                 </td><td> 0</td><td> 0</td><td> 0</td><td> 0</td><td> 0</td><td> 0</td><td> 4</td><td> 0</td><td> 0</td><td> 0</td><td>0</td><td> 0</td><td> 0</td><td> 0</td></tr>\n",
       "\t<tr><td>Hemeroby index                                                             </td><td> 5</td><td> 5</td><td> 5</td><td> 5</td><td> 5</td><td> 5</td><td> 5</td><td> 5</td><td> 5</td><td> 5</td><td>0</td><td> 0</td><td> 5</td><td> 5</td></tr>\n",
       "\t<tr><td>Hospitals (geometry only)                                                  </td><td> 0</td><td> 0</td><td> 0</td><td> 0</td><td> 0</td><td> 0</td><td> 0</td><td> 0</td><td> 0</td><td> 0</td><td>1</td><td> 0</td><td> 0</td><td> 0</td></tr>\n",
       "\t<tr><td>Hospitals: number of beds                                                  </td><td> 0</td><td> 0</td><td> 0</td><td> 0</td><td> 0</td><td> 0</td><td> 0</td><td> 0</td><td> 0</td><td> 0</td><td>1</td><td> 0</td><td> 0</td><td> 0</td></tr>\n",
       "\t<tr><td>Imperviousness                                                             </td><td> 5</td><td> 5</td><td> 5</td><td> 5</td><td> 5</td><td> 5</td><td> 5</td><td> 5</td><td> 5</td><td> 5</td><td>0</td><td> 0</td><td> 5</td><td> 5</td></tr>\n",
       "\t<tr><td>Industrial and commercial area per resident                                </td><td> 0</td><td> 0</td><td> 0</td><td> 0</td><td> 0</td><td> 0</td><td>17</td><td>17</td><td>17</td><td>17</td><td>0</td><td> 0</td><td>17</td><td>17</td></tr>\n",
       "\t<tr><td>Land productivity                                                          </td><td> 0</td><td> 0</td><td> 0</td><td> 0</td><td> 0</td><td> 0</td><td> 0</td><td>16</td><td> 0</td><td> 0</td><td>0</td><td> 0</td><td> 0</td><td>16</td></tr>\n",
       "\t<tr><td>Land take of area for settlement and transport on a 5-year average         </td><td> 0</td><td> 0</td><td> 0</td><td> 0</td><td> 0</td><td> 0</td><td>12</td><td>12</td><td>12</td><td>12</td><td>0</td><td> 0</td><td>12</td><td>12</td></tr>\n",
       "\t<tr><td>Land take of built-up area for settlement and transport on a 5-year average</td><td> 0</td><td> 0</td><td> 0</td><td> 0</td><td> 0</td><td> 0</td><td>12</td><td>12</td><td>12</td><td>12</td><td>0</td><td> 0</td><td>12</td><td>12</td></tr>\n",
       "\t<tr><td>Landscape protection                                                       </td><td>14</td><td>14</td><td>14</td><td>14</td><td>14</td><td>14</td><td>14</td><td>14</td><td>14</td><td>14</td><td>0</td><td> 0</td><td>14</td><td>14</td></tr>\n",
       "\t<tr><td>Loss of open space per inhabitant                                          </td><td> 0</td><td> 0</td><td> 0</td><td> 0</td><td> 0</td><td> 0</td><td>11</td><td>11</td><td>11</td><td>11</td><td>0</td><td> 0</td><td>11</td><td>11</td></tr>\n",
       "\t<tr><td>Material stock in residential buildings per residential and mixed use area </td><td> 0</td><td> 0</td><td> 0</td><td> 0</td><td> 0</td><td> 0</td><td> 0</td><td> 1</td><td> 0</td><td> 0</td><td>0</td><td> 0</td><td> 1</td><td> 1</td></tr>\n",
       "\t<tr><td>Material stock within residential buildings per resident                   </td><td> 0</td><td> 0</td><td> 0</td><td> 0</td><td> 0</td><td> 0</td><td> 0</td><td> 1</td><td> 0</td><td> 0</td><td>0</td><td> 0</td><td> 1</td><td> 1</td></tr>\n",
       "\t<tr><td>Mining area or dump site                                                   </td><td> 0</td><td> 0</td><td> 0</td><td> 0</td><td> 0</td><td> 0</td><td>18</td><td>18</td><td>18</td><td>18</td><td>0</td><td>18</td><td>18</td><td>18</td></tr>\n",
       "\t<tr><td>Moor area percentage                                                       </td><td> 0</td><td> 0</td><td> 0</td><td> 0</td><td> 0</td><td> 0</td><td>18</td><td>18</td><td>18</td><td>18</td><td>0</td><td>18</td><td>18</td><td>18</td></tr>\n",
       "\t<tr><td>Nature and species protection                                              </td><td>14</td><td>14</td><td>14</td><td>14</td><td>14</td><td>14</td><td>14</td><td>14</td><td>14</td><td>14</td><td>0</td><td> 0</td><td>14</td><td>14</td></tr>\n",
       "\t<tr><td>⋮</td><td>⋮</td><td>⋮</td><td>⋮</td><td>⋮</td><td>⋮</td><td>⋮</td><td>⋮</td><td>⋮</td><td>⋮</td><td>⋮</td><td>⋮</td><td>⋮</td><td>⋮</td><td>⋮</td></tr>\n",
       "\t<tr><td>Population density                                                                  </td><td> 0</td><td> 0</td><td> 0</td><td> 0</td><td> 0</td><td> 0</td><td>17</td><td>17</td><td>17</td><td>17</td><td>0</td><td> 0</td><td>17</td><td>17</td></tr>\n",
       "\t<tr><td>Proportion of agricultural land in reference area                                   </td><td>18</td><td>18</td><td>18</td><td>18</td><td>18</td><td>18</td><td>18</td><td>18</td><td>18</td><td>18</td><td>0</td><td>18</td><td>18</td><td>18</td></tr>\n",
       "\t<tr><td>Proportion of arable land in reference area                                         </td><td>18</td><td>18</td><td>18</td><td>18</td><td>18</td><td>18</td><td>18</td><td>18</td><td>18</td><td>18</td><td>0</td><td>18</td><td>18</td><td>18</td></tr>\n",
       "\t<tr><td>Proportion of area of water in reference area                                       </td><td>18</td><td>18</td><td>18</td><td>18</td><td>18</td><td>18</td><td>18</td><td>18</td><td>18</td><td>18</td><td>0</td><td>18</td><td>18</td><td>18</td></tr>\n",
       "\t<tr><td>Proportion of forest and copse in reference area                                    </td><td>18</td><td>18</td><td>18</td><td>18</td><td>18</td><td>18</td><td>18</td><td>18</td><td>18</td><td>18</td><td>0</td><td>18</td><td>18</td><td>18</td></tr>\n",
       "\t<tr><td>Proportion of forest area in reference area                                         </td><td>11</td><td>11</td><td>11</td><td>11</td><td>11</td><td>11</td><td>11</td><td>11</td><td>11</td><td>11</td><td>0</td><td>11</td><td>11</td><td>11</td></tr>\n",
       "\t<tr><td>Proportion of grazing land in reference area                                        </td><td>18</td><td>18</td><td>18</td><td>18</td><td>18</td><td>18</td><td>18</td><td>18</td><td>18</td><td>18</td><td>0</td><td>18</td><td>18</td><td>18</td></tr>\n",
       "\t<tr><td>Proportion of open space in reference area                                          </td><td>18</td><td>18</td><td>18</td><td>18</td><td>18</td><td>18</td><td>18</td><td>18</td><td>18</td><td>18</td><td>0</td><td>18</td><td>18</td><td>18</td></tr>\n",
       "\t<tr><td>Protected areas                                                                     </td><td>14</td><td>14</td><td>14</td><td>14</td><td>14</td><td>14</td><td>14</td><td>14</td><td>14</td><td>14</td><td>0</td><td> 0</td><td>14</td><td>14</td></tr>\n",
       "\t<tr><td>Ratio of built-up settlement area and transport space in flood zones                </td><td>16</td><td>16</td><td>16</td><td>16</td><td>16</td><td>16</td><td>18</td><td>18</td><td>18</td><td>18</td><td>0</td><td> 0</td><td>18</td><td>18</td></tr>\n",
       "\t<tr><td>Relative land take of area for settlement and transport on a 5-year average         </td><td> 0</td><td> 0</td><td> 0</td><td> 0</td><td> 0</td><td> 0</td><td>12</td><td>12</td><td>12</td><td>12</td><td>0</td><td> 0</td><td>12</td><td>12</td></tr>\n",
       "\t<tr><td>Relative land take of built-up area for settlement and transport on a 5-year average</td><td> 0</td><td> 0</td><td> 0</td><td> 0</td><td> 0</td><td> 0</td><td>12</td><td>12</td><td>12</td><td>12</td><td>0</td><td> 0</td><td>12</td><td>12</td></tr>\n",
       "\t<tr><td>Relief diversity                                                                    </td><td> 1</td><td> 1</td><td> 1</td><td> 1</td><td> 1</td><td> 1</td><td> 1</td><td> 1</td><td> 1</td><td> 1</td><td>0</td><td> 0</td><td> 1</td><td> 1</td></tr>\n",
       "\t<tr><td>Relief energy                                                                       </td><td> 1</td><td> 1</td><td> 1</td><td> 1</td><td> 1</td><td> 1</td><td> 1</td><td> 1</td><td> 1</td><td> 1</td><td>0</td><td> 0</td><td> 1</td><td> 1</td></tr>\n",
       "\t<tr><td>Residential building density in built-up settlement area                            </td><td> 8</td><td> 6</td><td> 6</td><td>11</td><td>11</td><td>11</td><td>11</td><td>11</td><td>11</td><td>11</td><td>0</td><td> 0</td><td>11</td><td>11</td></tr>\n",
       "\t<tr><td>Residential building density in reference area                                      </td><td> 8</td><td> 6</td><td> 6</td><td>11</td><td>11</td><td>11</td><td>11</td><td>11</td><td>11</td><td>11</td><td>0</td><td> 0</td><td>11</td><td>11</td></tr>\n",
       "\t<tr><td>Roadway density in reference area                                                   </td><td>18</td><td>18</td><td>18</td><td>18</td><td>18</td><td>18</td><td>18</td><td>18</td><td>18</td><td>18</td><td>0</td><td>18</td><td>18</td><td>18</td></tr>\n",
       "\t<tr><td>Roadway density in settlement area                                                  </td><td> 0</td><td> 0</td><td> 0</td><td> 0</td><td> 0</td><td> 0</td><td>18</td><td>18</td><td>18</td><td>18</td><td>0</td><td>18</td><td>18</td><td>18</td></tr>\n",
       "\t<tr><td>Settlement density (settlement and transport area)                                  </td><td> 0</td><td> 0</td><td> 0</td><td> 1</td><td> 1</td><td> 1</td><td>17</td><td>17</td><td>17</td><td>17</td><td>0</td><td> 0</td><td>17</td><td>17</td></tr>\n",
       "\t<tr><td>Settlement load in flood zones                                                      </td><td>17</td><td>17</td><td>17</td><td>17</td><td>17</td><td>17</td><td>18</td><td>18</td><td>18</td><td>18</td><td>0</td><td> 0</td><td>18</td><td>18</td></tr>\n",
       "\t<tr><td>Settlement space and transport space per resident                                   </td><td> 0</td><td> 0</td><td> 0</td><td> 0</td><td> 0</td><td> 0</td><td>17</td><td>17</td><td>17</td><td>17</td><td>0</td><td> 0</td><td>17</td><td>17</td></tr>\n",
       "\t<tr><td>Share of green area in total area                                                   </td><td> 0</td><td> 0</td><td> 0</td><td> 0</td><td> 0</td><td> 0</td><td> 1</td><td> 0</td><td> 0</td><td> 0</td><td>0</td><td> 1</td><td> 0</td><td> 0</td></tr>\n",
       "\t<tr><td>Share of ground-mounted photovoltaic systems in reference area                      </td><td> 8</td><td> 7</td><td> 7</td><td> 7</td><td> 7</td><td> 7</td><td>17</td><td>17</td><td>17</td><td>17</td><td>0</td><td> 0</td><td>17</td><td>17</td></tr>\n",
       "\t<tr><td>Share of urban climate deficit area                                                 </td><td> 0</td><td> 0</td><td> 0</td><td> 0</td><td> 0</td><td> 0</td><td> 1</td><td> 0</td><td> 0</td><td> 0</td><td>0</td><td> 1</td><td> 0</td><td> 0</td></tr>\n",
       "\t<tr><td>Soil sealing per resident                                                           </td><td> 0</td><td> 0</td><td> 0</td><td> 0</td><td> 0</td><td> 0</td><td> 5</td><td> 5</td><td> 5</td><td> 5</td><td>0</td><td> 0</td><td> 5</td><td> 5</td></tr>\n",
       "\t<tr><td>Transport space per resident                                                        </td><td> 0</td><td> 0</td><td> 0</td><td> 0</td><td> 0</td><td> 0</td><td>17</td><td>17</td><td>17</td><td>17</td><td>0</td><td> 0</td><td>17</td><td>17</td></tr>\n",
       "\t<tr><td>V06RG                                                                               </td><td> 0</td><td> 0</td><td> 0</td><td> 0</td><td> 0</td><td> 0</td><td> 1</td><td> 1</td><td> 1</td><td> 1</td><td>0</td><td> 1</td><td> 1</td><td> 1</td></tr>\n",
       "\t<tr><td>Wind turbine density                                                                </td><td>18</td><td>18</td><td>18</td><td>18</td><td>18</td><td>18</td><td>16</td><td>16</td><td>16</td><td>16</td><td>0</td><td> 0</td><td>16</td><td>16</td></tr>\n",
       "\t<tr><td>Wind turbines per 10000 inhabitants                                                 </td><td> 0</td><td> 0</td><td> 0</td><td> 0</td><td> 0</td><td> 0</td><td>17</td><td>17</td><td>17</td><td>17</td><td>0</td><td> 0</td><td>17</td><td>17</td></tr>\n",
       "\t<tr><td>Wood dominated ecotone density                                                      </td><td>13</td><td>13</td><td>13</td><td>13</td><td>13</td><td>13</td><td>16</td><td>16</td><td>16</td><td>16</td><td>0</td><td> 0</td><td>16</td><td>16</td></tr>\n",
       "</tbody>\n",
       "</table>\n"
      ],
      "text/latex": [
       "A tibble: 80 × 15\n",
       "\\begin{tabular}{lllllllllllllll}\n",
       " title & 100m Raster & 200m Raster & 500m Raster & 1000m Raster & 5000m Raster & 10000m Raster & Cities (> 50k inhabitants) & Districts & Municipal association & Municipal level & points & Quarters & Spatial planning regions & States\\\\\n",
       " <chr> & <int> & <int> & <int> & <int> & <int> & <int> & <int> & <int> & <int> & <int> & <int> & <int> & <int> & <int>\\\\\n",
       "\\hline\n",
       "\t Agriculture per resident                                                    &  0 &  0 &  0 &  0 &  0 &  0 & 17 & 17 & 17 & 17 & 0 &  0 & 17 & 17\\\\\n",
       "\t Building density in reference area                                          &  8 &  8 &  8 & 11 & 11 & 11 & 11 & 11 & 11 & 11 & 0 &  0 & 11 & 11\\\\\n",
       "\t Built-up settlement area and transport space per resident                   &  0 &  0 &  0 &  0 &  0 &  0 & 17 & 17 & 17 & 17 & 0 &  0 & 17 & 17\\\\\n",
       "\t Density of total roadway network for motorised vehicles in reference area   & 18 & 18 & 18 & 18 & 18 & 18 & 18 & 18 & 18 & 18 & 0 & 18 & 18 & 18\\\\\n",
       "\t Density of track network in reference area                                  & 18 & 18 & 18 & 18 & 18 & 18 & 18 & 18 & 18 & 18 & 0 & 18 & 18 & 18\\\\\n",
       "\t Density of use of transport infrastructure                                  &  0 &  0 &  0 &  0 &  0 &  0 & 14 & 14 & 14 & 14 & 0 & 14 & 14 & 14\\\\\n",
       "\t E02RG                                                                       & 18 & 18 & 18 & 18 & 17 & 18 & 16 & 16 & 16 & 16 & 0 &  0 & 16 & 16\\\\\n",
       "\t Effective mesh size of forests (modified)                                   &  0 &  0 &  0 &  0 &  0 &  0 &  0 &  5 &  0 &  0 & 0 &  0 &  5 &  5\\\\\n",
       "\t Effective mesh size of open spaces (modified)                               &  0 &  0 &  0 &  0 &  0 &  0 &  0 &  5 &  0 &  0 & 0 &  0 &  5 &  5\\\\\n",
       "\t Forest and woodland per resident                                            &  0 &  0 &  0 &  0 &  0 &  0 & 17 & 17 & 17 & 17 & 0 &  0 & 17 & 17\\\\\n",
       "\t Green accessibility in the close residential environment                    &  0 &  0 &  0 &  0 &  0 &  0 &  1 &  0 &  0 &  0 & 0 &  1 &  0 &  0\\\\\n",
       "\t Green accessibility in the wider residential environment                    &  0 &  0 &  0 &  0 &  0 &  0 &  1 &  0 &  0 &  0 & 0 &  1 &  0 &  0\\\\\n",
       "\t Green area share of urban area                                              &  0 &  0 &  0 &  0 &  0 &  0 &  1 &  0 &  0 &  0 & 0 &  1 &  0 &  0\\\\\n",
       "\t Green per inhabitant                                                        &  0 &  0 &  0 &  0 &  0 &  0 &  1 &  0 &  0 &  0 & 0 &  1 &  0 &  0\\\\\n",
       "\t Green space per inhabitant                                                  &  0 &  0 &  0 &  0 &  0 &  0 &  4 &  0 &  0 &  0 & 0 &  0 &  0 &  0\\\\\n",
       "\t Hemeroby index                                                              &  5 &  5 &  5 &  5 &  5 &  5 &  5 &  5 &  5 &  5 & 0 &  0 &  5 &  5\\\\\n",
       "\t Hospitals (geometry only)                                                   &  0 &  0 &  0 &  0 &  0 &  0 &  0 &  0 &  0 &  0 & 1 &  0 &  0 &  0\\\\\n",
       "\t Hospitals: number of beds                                                   &  0 &  0 &  0 &  0 &  0 &  0 &  0 &  0 &  0 &  0 & 1 &  0 &  0 &  0\\\\\n",
       "\t Imperviousness                                                              &  5 &  5 &  5 &  5 &  5 &  5 &  5 &  5 &  5 &  5 & 0 &  0 &  5 &  5\\\\\n",
       "\t Industrial and commercial area per resident                                 &  0 &  0 &  0 &  0 &  0 &  0 & 17 & 17 & 17 & 17 & 0 &  0 & 17 & 17\\\\\n",
       "\t Land productivity                                                           &  0 &  0 &  0 &  0 &  0 &  0 &  0 & 16 &  0 &  0 & 0 &  0 &  0 & 16\\\\\n",
       "\t Land take of area for settlement and transport on a 5-year average          &  0 &  0 &  0 &  0 &  0 &  0 & 12 & 12 & 12 & 12 & 0 &  0 & 12 & 12\\\\\n",
       "\t Land take of built-up area for settlement and transport on a 5-year average &  0 &  0 &  0 &  0 &  0 &  0 & 12 & 12 & 12 & 12 & 0 &  0 & 12 & 12\\\\\n",
       "\t Landscape protection                                                        & 14 & 14 & 14 & 14 & 14 & 14 & 14 & 14 & 14 & 14 & 0 &  0 & 14 & 14\\\\\n",
       "\t Loss of open space per inhabitant                                           &  0 &  0 &  0 &  0 &  0 &  0 & 11 & 11 & 11 & 11 & 0 &  0 & 11 & 11\\\\\n",
       "\t Material stock in residential buildings per residential and mixed use area  &  0 &  0 &  0 &  0 &  0 &  0 &  0 &  1 &  0 &  0 & 0 &  0 &  1 &  1\\\\\n",
       "\t Material stock within residential buildings per resident                    &  0 &  0 &  0 &  0 &  0 &  0 &  0 &  1 &  0 &  0 & 0 &  0 &  1 &  1\\\\\n",
       "\t Mining area or dump site                                                    &  0 &  0 &  0 &  0 &  0 &  0 & 18 & 18 & 18 & 18 & 0 & 18 & 18 & 18\\\\\n",
       "\t Moor area percentage                                                        &  0 &  0 &  0 &  0 &  0 &  0 & 18 & 18 & 18 & 18 & 0 & 18 & 18 & 18\\\\\n",
       "\t Nature and species protection                                               & 14 & 14 & 14 & 14 & 14 & 14 & 14 & 14 & 14 & 14 & 0 &  0 & 14 & 14\\\\\n",
       "\t ⋮ & ⋮ & ⋮ & ⋮ & ⋮ & ⋮ & ⋮ & ⋮ & ⋮ & ⋮ & ⋮ & ⋮ & ⋮ & ⋮ & ⋮\\\\\n",
       "\t Population density                                                                   &  0 &  0 &  0 &  0 &  0 &  0 & 17 & 17 & 17 & 17 & 0 &  0 & 17 & 17\\\\\n",
       "\t Proportion of agricultural land in reference area                                    & 18 & 18 & 18 & 18 & 18 & 18 & 18 & 18 & 18 & 18 & 0 & 18 & 18 & 18\\\\\n",
       "\t Proportion of arable land in reference area                                          & 18 & 18 & 18 & 18 & 18 & 18 & 18 & 18 & 18 & 18 & 0 & 18 & 18 & 18\\\\\n",
       "\t Proportion of area of water in reference area                                        & 18 & 18 & 18 & 18 & 18 & 18 & 18 & 18 & 18 & 18 & 0 & 18 & 18 & 18\\\\\n",
       "\t Proportion of forest and copse in reference area                                     & 18 & 18 & 18 & 18 & 18 & 18 & 18 & 18 & 18 & 18 & 0 & 18 & 18 & 18\\\\\n",
       "\t Proportion of forest area in reference area                                          & 11 & 11 & 11 & 11 & 11 & 11 & 11 & 11 & 11 & 11 & 0 & 11 & 11 & 11\\\\\n",
       "\t Proportion of grazing land in reference area                                         & 18 & 18 & 18 & 18 & 18 & 18 & 18 & 18 & 18 & 18 & 0 & 18 & 18 & 18\\\\\n",
       "\t Proportion of open space in reference area                                           & 18 & 18 & 18 & 18 & 18 & 18 & 18 & 18 & 18 & 18 & 0 & 18 & 18 & 18\\\\\n",
       "\t Protected areas                                                                      & 14 & 14 & 14 & 14 & 14 & 14 & 14 & 14 & 14 & 14 & 0 &  0 & 14 & 14\\\\\n",
       "\t Ratio of built-up settlement area and transport space in flood zones                 & 16 & 16 & 16 & 16 & 16 & 16 & 18 & 18 & 18 & 18 & 0 &  0 & 18 & 18\\\\\n",
       "\t Relative land take of area for settlement and transport on a 5-year average          &  0 &  0 &  0 &  0 &  0 &  0 & 12 & 12 & 12 & 12 & 0 &  0 & 12 & 12\\\\\n",
       "\t Relative land take of built-up area for settlement and transport on a 5-year average &  0 &  0 &  0 &  0 &  0 &  0 & 12 & 12 & 12 & 12 & 0 &  0 & 12 & 12\\\\\n",
       "\t Relief diversity                                                                     &  1 &  1 &  1 &  1 &  1 &  1 &  1 &  1 &  1 &  1 & 0 &  0 &  1 &  1\\\\\n",
       "\t Relief energy                                                                        &  1 &  1 &  1 &  1 &  1 &  1 &  1 &  1 &  1 &  1 & 0 &  0 &  1 &  1\\\\\n",
       "\t Residential building density in built-up settlement area                             &  8 &  6 &  6 & 11 & 11 & 11 & 11 & 11 & 11 & 11 & 0 &  0 & 11 & 11\\\\\n",
       "\t Residential building density in reference area                                       &  8 &  6 &  6 & 11 & 11 & 11 & 11 & 11 & 11 & 11 & 0 &  0 & 11 & 11\\\\\n",
       "\t Roadway density in reference area                                                    & 18 & 18 & 18 & 18 & 18 & 18 & 18 & 18 & 18 & 18 & 0 & 18 & 18 & 18\\\\\n",
       "\t Roadway density in settlement area                                                   &  0 &  0 &  0 &  0 &  0 &  0 & 18 & 18 & 18 & 18 & 0 & 18 & 18 & 18\\\\\n",
       "\t Settlement density (settlement and transport area)                                   &  0 &  0 &  0 &  1 &  1 &  1 & 17 & 17 & 17 & 17 & 0 &  0 & 17 & 17\\\\\n",
       "\t Settlement load in flood zones                                                       & 17 & 17 & 17 & 17 & 17 & 17 & 18 & 18 & 18 & 18 & 0 &  0 & 18 & 18\\\\\n",
       "\t Settlement space and transport space per resident                                    &  0 &  0 &  0 &  0 &  0 &  0 & 17 & 17 & 17 & 17 & 0 &  0 & 17 & 17\\\\\n",
       "\t Share of green area in total area                                                    &  0 &  0 &  0 &  0 &  0 &  0 &  1 &  0 &  0 &  0 & 0 &  1 &  0 &  0\\\\\n",
       "\t Share of ground-mounted photovoltaic systems in reference area                       &  8 &  7 &  7 &  7 &  7 &  7 & 17 & 17 & 17 & 17 & 0 &  0 & 17 & 17\\\\\n",
       "\t Share of urban climate deficit area                                                  &  0 &  0 &  0 &  0 &  0 &  0 &  1 &  0 &  0 &  0 & 0 &  1 &  0 &  0\\\\\n",
       "\t Soil sealing per resident                                                            &  0 &  0 &  0 &  0 &  0 &  0 &  5 &  5 &  5 &  5 & 0 &  0 &  5 &  5\\\\\n",
       "\t Transport space per resident                                                         &  0 &  0 &  0 &  0 &  0 &  0 & 17 & 17 & 17 & 17 & 0 &  0 & 17 & 17\\\\\n",
       "\t V06RG                                                                                &  0 &  0 &  0 &  0 &  0 &  0 &  1 &  1 &  1 &  1 & 0 &  1 &  1 &  1\\\\\n",
       "\t Wind turbine density                                                                 & 18 & 18 & 18 & 18 & 18 & 18 & 16 & 16 & 16 & 16 & 0 &  0 & 16 & 16\\\\\n",
       "\t Wind turbines per 10000 inhabitants                                                  &  0 &  0 &  0 &  0 &  0 &  0 & 17 & 17 & 17 & 17 & 0 &  0 & 17 & 17\\\\\n",
       "\t Wood dominated ecotone density                                                       & 13 & 13 & 13 & 13 & 13 & 13 & 16 & 16 & 16 & 16 & 0 &  0 & 16 & 16\\\\\n",
       "\\end{tabular}\n"
      ],
      "text/markdown": [
       "\n",
       "A tibble: 80 × 15\n",
       "\n",
       "| title &lt;chr&gt; | 100m Raster &lt;int&gt; | 200m Raster &lt;int&gt; | 500m Raster &lt;int&gt; | 1000m Raster &lt;int&gt; | 5000m Raster &lt;int&gt; | 10000m Raster &lt;int&gt; | Cities (&gt; 50k inhabitants) &lt;int&gt; | Districts &lt;int&gt; | Municipal association &lt;int&gt; | Municipal level &lt;int&gt; | points &lt;int&gt; | Quarters &lt;int&gt; | Spatial planning regions &lt;int&gt; | States &lt;int&gt; |\n",
       "|---|---|---|---|---|---|---|---|---|---|---|---|---|---|---|\n",
       "| Agriculture per resident                                                    |  0 |  0 |  0 |  0 |  0 |  0 | 17 | 17 | 17 | 17 | 0 |  0 | 17 | 17 |\n",
       "| Building density in reference area                                          |  8 |  8 |  8 | 11 | 11 | 11 | 11 | 11 | 11 | 11 | 0 |  0 | 11 | 11 |\n",
       "| Built-up settlement area and transport space per resident                   |  0 |  0 |  0 |  0 |  0 |  0 | 17 | 17 | 17 | 17 | 0 |  0 | 17 | 17 |\n",
       "| Density of total roadway network for motorised vehicles in reference area   | 18 | 18 | 18 | 18 | 18 | 18 | 18 | 18 | 18 | 18 | 0 | 18 | 18 | 18 |\n",
       "| Density of track network in reference area                                  | 18 | 18 | 18 | 18 | 18 | 18 | 18 | 18 | 18 | 18 | 0 | 18 | 18 | 18 |\n",
       "| Density of use of transport infrastructure                                  |  0 |  0 |  0 |  0 |  0 |  0 | 14 | 14 | 14 | 14 | 0 | 14 | 14 | 14 |\n",
       "| E02RG                                                                       | 18 | 18 | 18 | 18 | 17 | 18 | 16 | 16 | 16 | 16 | 0 |  0 | 16 | 16 |\n",
       "| Effective mesh size of forests (modified)                                   |  0 |  0 |  0 |  0 |  0 |  0 |  0 |  5 |  0 |  0 | 0 |  0 |  5 |  5 |\n",
       "| Effective mesh size of open spaces (modified)                               |  0 |  0 |  0 |  0 |  0 |  0 |  0 |  5 |  0 |  0 | 0 |  0 |  5 |  5 |\n",
       "| Forest and woodland per resident                                            |  0 |  0 |  0 |  0 |  0 |  0 | 17 | 17 | 17 | 17 | 0 |  0 | 17 | 17 |\n",
       "| Green accessibility in the close residential environment                    |  0 |  0 |  0 |  0 |  0 |  0 |  1 |  0 |  0 |  0 | 0 |  1 |  0 |  0 |\n",
       "| Green accessibility in the wider residential environment                    |  0 |  0 |  0 |  0 |  0 |  0 |  1 |  0 |  0 |  0 | 0 |  1 |  0 |  0 |\n",
       "| Green area share of urban area                                              |  0 |  0 |  0 |  0 |  0 |  0 |  1 |  0 |  0 |  0 | 0 |  1 |  0 |  0 |\n",
       "| Green per inhabitant                                                        |  0 |  0 |  0 |  0 |  0 |  0 |  1 |  0 |  0 |  0 | 0 |  1 |  0 |  0 |\n",
       "| Green space per inhabitant                                                  |  0 |  0 |  0 |  0 |  0 |  0 |  4 |  0 |  0 |  0 | 0 |  0 |  0 |  0 |\n",
       "| Hemeroby index                                                              |  5 |  5 |  5 |  5 |  5 |  5 |  5 |  5 |  5 |  5 | 0 |  0 |  5 |  5 |\n",
       "| Hospitals (geometry only)                                                   |  0 |  0 |  0 |  0 |  0 |  0 |  0 |  0 |  0 |  0 | 1 |  0 |  0 |  0 |\n",
       "| Hospitals: number of beds                                                   |  0 |  0 |  0 |  0 |  0 |  0 |  0 |  0 |  0 |  0 | 1 |  0 |  0 |  0 |\n",
       "| Imperviousness                                                              |  5 |  5 |  5 |  5 |  5 |  5 |  5 |  5 |  5 |  5 | 0 |  0 |  5 |  5 |\n",
       "| Industrial and commercial area per resident                                 |  0 |  0 |  0 |  0 |  0 |  0 | 17 | 17 | 17 | 17 | 0 |  0 | 17 | 17 |\n",
       "| Land productivity                                                           |  0 |  0 |  0 |  0 |  0 |  0 |  0 | 16 |  0 |  0 | 0 |  0 |  0 | 16 |\n",
       "| Land take of area for settlement and transport on a 5-year average          |  0 |  0 |  0 |  0 |  0 |  0 | 12 | 12 | 12 | 12 | 0 |  0 | 12 | 12 |\n",
       "| Land take of built-up area for settlement and transport on a 5-year average |  0 |  0 |  0 |  0 |  0 |  0 | 12 | 12 | 12 | 12 | 0 |  0 | 12 | 12 |\n",
       "| Landscape protection                                                        | 14 | 14 | 14 | 14 | 14 | 14 | 14 | 14 | 14 | 14 | 0 |  0 | 14 | 14 |\n",
       "| Loss of open space per inhabitant                                           |  0 |  0 |  0 |  0 |  0 |  0 | 11 | 11 | 11 | 11 | 0 |  0 | 11 | 11 |\n",
       "| Material stock in residential buildings per residential and mixed use area  |  0 |  0 |  0 |  0 |  0 |  0 |  0 |  1 |  0 |  0 | 0 |  0 |  1 |  1 |\n",
       "| Material stock within residential buildings per resident                    |  0 |  0 |  0 |  0 |  0 |  0 |  0 |  1 |  0 |  0 | 0 |  0 |  1 |  1 |\n",
       "| Mining area or dump site                                                    |  0 |  0 |  0 |  0 |  0 |  0 | 18 | 18 | 18 | 18 | 0 | 18 | 18 | 18 |\n",
       "| Moor area percentage                                                        |  0 |  0 |  0 |  0 |  0 |  0 | 18 | 18 | 18 | 18 | 0 | 18 | 18 | 18 |\n",
       "| Nature and species protection                                               | 14 | 14 | 14 | 14 | 14 | 14 | 14 | 14 | 14 | 14 | 0 |  0 | 14 | 14 |\n",
       "| ⋮ | ⋮ | ⋮ | ⋮ | ⋮ | ⋮ | ⋮ | ⋮ | ⋮ | ⋮ | ⋮ | ⋮ | ⋮ | ⋮ | ⋮ |\n",
       "| Population density                                                                   |  0 |  0 |  0 |  0 |  0 |  0 | 17 | 17 | 17 | 17 | 0 |  0 | 17 | 17 |\n",
       "| Proportion of agricultural land in reference area                                    | 18 | 18 | 18 | 18 | 18 | 18 | 18 | 18 | 18 | 18 | 0 | 18 | 18 | 18 |\n",
       "| Proportion of arable land in reference area                                          | 18 | 18 | 18 | 18 | 18 | 18 | 18 | 18 | 18 | 18 | 0 | 18 | 18 | 18 |\n",
       "| Proportion of area of water in reference area                                        | 18 | 18 | 18 | 18 | 18 | 18 | 18 | 18 | 18 | 18 | 0 | 18 | 18 | 18 |\n",
       "| Proportion of forest and copse in reference area                                     | 18 | 18 | 18 | 18 | 18 | 18 | 18 | 18 | 18 | 18 | 0 | 18 | 18 | 18 |\n",
       "| Proportion of forest area in reference area                                          | 11 | 11 | 11 | 11 | 11 | 11 | 11 | 11 | 11 | 11 | 0 | 11 | 11 | 11 |\n",
       "| Proportion of grazing land in reference area                                         | 18 | 18 | 18 | 18 | 18 | 18 | 18 | 18 | 18 | 18 | 0 | 18 | 18 | 18 |\n",
       "| Proportion of open space in reference area                                           | 18 | 18 | 18 | 18 | 18 | 18 | 18 | 18 | 18 | 18 | 0 | 18 | 18 | 18 |\n",
       "| Protected areas                                                                      | 14 | 14 | 14 | 14 | 14 | 14 | 14 | 14 | 14 | 14 | 0 |  0 | 14 | 14 |\n",
       "| Ratio of built-up settlement area and transport space in flood zones                 | 16 | 16 | 16 | 16 | 16 | 16 | 18 | 18 | 18 | 18 | 0 |  0 | 18 | 18 |\n",
       "| Relative land take of area for settlement and transport on a 5-year average          |  0 |  0 |  0 |  0 |  0 |  0 | 12 | 12 | 12 | 12 | 0 |  0 | 12 | 12 |\n",
       "| Relative land take of built-up area for settlement and transport on a 5-year average |  0 |  0 |  0 |  0 |  0 |  0 | 12 | 12 | 12 | 12 | 0 |  0 | 12 | 12 |\n",
       "| Relief diversity                                                                     |  1 |  1 |  1 |  1 |  1 |  1 |  1 |  1 |  1 |  1 | 0 |  0 |  1 |  1 |\n",
       "| Relief energy                                                                        |  1 |  1 |  1 |  1 |  1 |  1 |  1 |  1 |  1 |  1 | 0 |  0 |  1 |  1 |\n",
       "| Residential building density in built-up settlement area                             |  8 |  6 |  6 | 11 | 11 | 11 | 11 | 11 | 11 | 11 | 0 |  0 | 11 | 11 |\n",
       "| Residential building density in reference area                                       |  8 |  6 |  6 | 11 | 11 | 11 | 11 | 11 | 11 | 11 | 0 |  0 | 11 | 11 |\n",
       "| Roadway density in reference area                                                    | 18 | 18 | 18 | 18 | 18 | 18 | 18 | 18 | 18 | 18 | 0 | 18 | 18 | 18 |\n",
       "| Roadway density in settlement area                                                   |  0 |  0 |  0 |  0 |  0 |  0 | 18 | 18 | 18 | 18 | 0 | 18 | 18 | 18 |\n",
       "| Settlement density (settlement and transport area)                                   |  0 |  0 |  0 |  1 |  1 |  1 | 17 | 17 | 17 | 17 | 0 |  0 | 17 | 17 |\n",
       "| Settlement load in flood zones                                                       | 17 | 17 | 17 | 17 | 17 | 17 | 18 | 18 | 18 | 18 | 0 |  0 | 18 | 18 |\n",
       "| Settlement space and transport space per resident                                    |  0 |  0 |  0 |  0 |  0 |  0 | 17 | 17 | 17 | 17 | 0 |  0 | 17 | 17 |\n",
       "| Share of green area in total area                                                    |  0 |  0 |  0 |  0 |  0 |  0 |  1 |  0 |  0 |  0 | 0 |  1 |  0 |  0 |\n",
       "| Share of ground-mounted photovoltaic systems in reference area                       |  8 |  7 |  7 |  7 |  7 |  7 | 17 | 17 | 17 | 17 | 0 |  0 | 17 | 17 |\n",
       "| Share of urban climate deficit area                                                  |  0 |  0 |  0 |  0 |  0 |  0 |  1 |  0 |  0 |  0 | 0 |  1 |  0 |  0 |\n",
       "| Soil sealing per resident                                                            |  0 |  0 |  0 |  0 |  0 |  0 |  5 |  5 |  5 |  5 | 0 |  0 |  5 |  5 |\n",
       "| Transport space per resident                                                         |  0 |  0 |  0 |  0 |  0 |  0 | 17 | 17 | 17 | 17 | 0 |  0 | 17 | 17 |\n",
       "| V06RG                                                                                |  0 |  0 |  0 |  0 |  0 |  0 |  1 |  1 |  1 |  1 | 0 |  1 |  1 |  1 |\n",
       "| Wind turbine density                                                                 | 18 | 18 | 18 | 18 | 18 | 18 | 16 | 16 | 16 | 16 | 0 |  0 | 16 | 16 |\n",
       "| Wind turbines per 10000 inhabitants                                                  |  0 |  0 |  0 |  0 |  0 |  0 | 17 | 17 | 17 | 17 | 0 |  0 | 17 | 17 |\n",
       "| Wood dominated ecotone density                                                       | 13 | 13 | 13 | 13 | 13 | 13 | 16 | 16 | 16 | 16 | 0 |  0 | 16 | 16 |\n",
       "\n"
      ],
      "text/plain": [
       "   title                                                                               \n",
       "1  Agriculture per resident                                                            \n",
       "2  Building density in reference area                                                  \n",
       "3  Built-up settlement area and transport space per resident                           \n",
       "4  Density of total roadway network for motorised vehicles in reference area           \n",
       "5  Density of track network in reference area                                          \n",
       "6  Density of use of transport infrastructure                                          \n",
       "7  E02RG                                                                               \n",
       "8  Effective mesh size of forests (modified)                                           \n",
       "9  Effective mesh size of open spaces (modified)                                       \n",
       "10 Forest and woodland per resident                                                    \n",
       "11 Green accessibility in the close residential environment                            \n",
       "12 Green accessibility in the wider residential environment                            \n",
       "13 Green area share of urban area                                                      \n",
       "14 Green per inhabitant                                                                \n",
       "15 Green space per inhabitant                                                          \n",
       "16 Hemeroby index                                                                      \n",
       "17 Hospitals (geometry only)                                                           \n",
       "18 Hospitals: number of beds                                                           \n",
       "19 Imperviousness                                                                      \n",
       "20 Industrial and commercial area per resident                                         \n",
       "21 Land productivity                                                                   \n",
       "22 Land take of area for settlement and transport on a 5-year average                  \n",
       "23 Land take of built-up area for settlement and transport on a 5-year average         \n",
       "24 Landscape protection                                                                \n",
       "25 Loss of open space per inhabitant                                                   \n",
       "26 Material stock in residential buildings per residential and mixed use area          \n",
       "27 Material stock within residential buildings per resident                            \n",
       "28 Mining area or dump site                                                            \n",
       "29 Moor area percentage                                                                \n",
       "30 Nature and species protection                                                       \n",
       "⋮  ⋮                                                                                   \n",
       "51 Population density                                                                  \n",
       "52 Proportion of agricultural land in reference area                                   \n",
       "53 Proportion of arable land in reference area                                         \n",
       "54 Proportion of area of water in reference area                                       \n",
       "55 Proportion of forest and copse in reference area                                    \n",
       "56 Proportion of forest area in reference area                                         \n",
       "57 Proportion of grazing land in reference area                                        \n",
       "58 Proportion of open space in reference area                                          \n",
       "59 Protected areas                                                                     \n",
       "60 Ratio of built-up settlement area and transport space in flood zones                \n",
       "61 Relative land take of area for settlement and transport on a 5-year average         \n",
       "62 Relative land take of built-up area for settlement and transport on a 5-year average\n",
       "63 Relief diversity                                                                    \n",
       "64 Relief energy                                                                       \n",
       "65 Residential building density in built-up settlement area                            \n",
       "66 Residential building density in reference area                                      \n",
       "67 Roadway density in reference area                                                   \n",
       "68 Roadway density in settlement area                                                  \n",
       "69 Settlement density (settlement and transport area)                                  \n",
       "70 Settlement load in flood zones                                                      \n",
       "71 Settlement space and transport space per resident                                   \n",
       "72 Share of green area in total area                                                   \n",
       "73 Share of ground-mounted photovoltaic systems in reference area                      \n",
       "74 Share of urban climate deficit area                                                 \n",
       "75 Soil sealing per resident                                                           \n",
       "76 Transport space per resident                                                        \n",
       "77 V06RG                                                                               \n",
       "78 Wind turbine density                                                                \n",
       "79 Wind turbines per 10000 inhabitants                                                 \n",
       "80 Wood dominated ecotone density                                                      \n",
       "   100m Raster 200m Raster 500m Raster 1000m Raster 5000m Raster 10000m Raster\n",
       "1   0           0           0           0            0            0           \n",
       "2   8           8           8          11           11           11           \n",
       "3   0           0           0           0            0            0           \n",
       "4  18          18          18          18           18           18           \n",
       "5  18          18          18          18           18           18           \n",
       "6   0           0           0           0            0            0           \n",
       "7  18          18          18          18           17           18           \n",
       "8   0           0           0           0            0            0           \n",
       "9   0           0           0           0            0            0           \n",
       "10  0           0           0           0            0            0           \n",
       "11  0           0           0           0            0            0           \n",
       "12  0           0           0           0            0            0           \n",
       "13  0           0           0           0            0            0           \n",
       "14  0           0           0           0            0            0           \n",
       "15  0           0           0           0            0            0           \n",
       "16  5           5           5           5            5            5           \n",
       "17  0           0           0           0            0            0           \n",
       "18  0           0           0           0            0            0           \n",
       "19  5           5           5           5            5            5           \n",
       "20  0           0           0           0            0            0           \n",
       "21  0           0           0           0            0            0           \n",
       "22  0           0           0           0            0            0           \n",
       "23  0           0           0           0            0            0           \n",
       "24 14          14          14          14           14           14           \n",
       "25  0           0           0           0            0            0           \n",
       "26  0           0           0           0            0            0           \n",
       "27  0           0           0           0            0            0           \n",
       "28  0           0           0           0            0            0           \n",
       "29  0           0           0           0            0            0           \n",
       "30 14          14          14          14           14           14           \n",
       "⋮  ⋮           ⋮           ⋮           ⋮            ⋮            ⋮            \n",
       "51  0           0           0           0            0            0           \n",
       "52 18          18          18          18           18           18           \n",
       "53 18          18          18          18           18           18           \n",
       "54 18          18          18          18           18           18           \n",
       "55 18          18          18          18           18           18           \n",
       "56 11          11          11          11           11           11           \n",
       "57 18          18          18          18           18           18           \n",
       "58 18          18          18          18           18           18           \n",
       "59 14          14          14          14           14           14           \n",
       "60 16          16          16          16           16           16           \n",
       "61  0           0           0           0            0            0           \n",
       "62  0           0           0           0            0            0           \n",
       "63  1           1           1           1            1            1           \n",
       "64  1           1           1           1            1            1           \n",
       "65  8           6           6          11           11           11           \n",
       "66  8           6           6          11           11           11           \n",
       "67 18          18          18          18           18           18           \n",
       "68  0           0           0           0            0            0           \n",
       "69  0           0           0           1            1            1           \n",
       "70 17          17          17          17           17           17           \n",
       "71  0           0           0           0            0            0           \n",
       "72  0           0           0           0            0            0           \n",
       "73  8           7           7           7            7            7           \n",
       "74  0           0           0           0            0            0           \n",
       "75  0           0           0           0            0            0           \n",
       "76  0           0           0           0            0            0           \n",
       "77  0           0           0           0            0            0           \n",
       "78 18          18          18          18           18           18           \n",
       "79  0           0           0           0            0            0           \n",
       "80 13          13          13          13           13           13           \n",
       "   Cities (> 50k inhabitants) Districts Municipal association Municipal level\n",
       "1  17                         17        17                    17             \n",
       "2  11                         11        11                    11             \n",
       "3  17                         17        17                    17             \n",
       "4  18                         18        18                    18             \n",
       "5  18                         18        18                    18             \n",
       "6  14                         14        14                    14             \n",
       "7  16                         16        16                    16             \n",
       "8   0                          5         0                     0             \n",
       "9   0                          5         0                     0             \n",
       "10 17                         17        17                    17             \n",
       "11  1                          0         0                     0             \n",
       "12  1                          0         0                     0             \n",
       "13  1                          0         0                     0             \n",
       "14  1                          0         0                     0             \n",
       "15  4                          0         0                     0             \n",
       "16  5                          5         5                     5             \n",
       "17  0                          0         0                     0             \n",
       "18  0                          0         0                     0             \n",
       "19  5                          5         5                     5             \n",
       "20 17                         17        17                    17             \n",
       "21  0                         16         0                     0             \n",
       "22 12                         12        12                    12             \n",
       "23 12                         12        12                    12             \n",
       "24 14                         14        14                    14             \n",
       "25 11                         11        11                    11             \n",
       "26  0                          1         0                     0             \n",
       "27  0                          1         0                     0             \n",
       "28 18                         18        18                    18             \n",
       "29 18                         18        18                    18             \n",
       "30 14                         14        14                    14             \n",
       "⋮  ⋮                          ⋮         ⋮                     ⋮              \n",
       "51 17                         17        17                    17             \n",
       "52 18                         18        18                    18             \n",
       "53 18                         18        18                    18             \n",
       "54 18                         18        18                    18             \n",
       "55 18                         18        18                    18             \n",
       "56 11                         11        11                    11             \n",
       "57 18                         18        18                    18             \n",
       "58 18                         18        18                    18             \n",
       "59 14                         14        14                    14             \n",
       "60 18                         18        18                    18             \n",
       "61 12                         12        12                    12             \n",
       "62 12                         12        12                    12             \n",
       "63  1                          1         1                     1             \n",
       "64  1                          1         1                     1             \n",
       "65 11                         11        11                    11             \n",
       "66 11                         11        11                    11             \n",
       "67 18                         18        18                    18             \n",
       "68 18                         18        18                    18             \n",
       "69 17                         17        17                    17             \n",
       "70 18                         18        18                    18             \n",
       "71 17                         17        17                    17             \n",
       "72  1                          0         0                     0             \n",
       "73 17                         17        17                    17             \n",
       "74  1                          0         0                     0             \n",
       "75  5                          5         5                     5             \n",
       "76 17                         17        17                    17             \n",
       "77  1                          1         1                     1             \n",
       "78 16                         16        16                    16             \n",
       "79 17                         17        17                    17             \n",
       "80 16                         16        16                    16             \n",
       "   points Quarters Spatial planning regions States\n",
       "1  0       0       17                       17    \n",
       "2  0       0       11                       11    \n",
       "3  0       0       17                       17    \n",
       "4  0      18       18                       18    \n",
       "5  0      18       18                       18    \n",
       "6  0      14       14                       14    \n",
       "7  0       0       16                       16    \n",
       "8  0       0        5                        5    \n",
       "9  0       0        5                        5    \n",
       "10 0       0       17                       17    \n",
       "11 0       1        0                        0    \n",
       "12 0       1        0                        0    \n",
       "13 0       1        0                        0    \n",
       "14 0       1        0                        0    \n",
       "15 0       0        0                        0    \n",
       "16 0       0        5                        5    \n",
       "17 1       0        0                        0    \n",
       "18 1       0        0                        0    \n",
       "19 0       0        5                        5    \n",
       "20 0       0       17                       17    \n",
       "21 0       0        0                       16    \n",
       "22 0       0       12                       12    \n",
       "23 0       0       12                       12    \n",
       "24 0       0       14                       14    \n",
       "25 0       0       11                       11    \n",
       "26 0       0        1                        1    \n",
       "27 0       0        1                        1    \n",
       "28 0      18       18                       18    \n",
       "29 0      18       18                       18    \n",
       "30 0       0       14                       14    \n",
       "⋮  ⋮      ⋮        ⋮                        ⋮     \n",
       "51 0       0       17                       17    \n",
       "52 0      18       18                       18    \n",
       "53 0      18       18                       18    \n",
       "54 0      18       18                       18    \n",
       "55 0      18       18                       18    \n",
       "56 0      11       11                       11    \n",
       "57 0      18       18                       18    \n",
       "58 0      18       18                       18    \n",
       "59 0       0       14                       14    \n",
       "60 0       0       18                       18    \n",
       "61 0       0       12                       12    \n",
       "62 0       0       12                       12    \n",
       "63 0       0        1                        1    \n",
       "64 0       0        1                        1    \n",
       "65 0       0       11                       11    \n",
       "66 0       0       11                       11    \n",
       "67 0      18       18                       18    \n",
       "68 0      18       18                       18    \n",
       "69 0       0       17                       17    \n",
       "70 0       0       18                       18    \n",
       "71 0       0       17                       17    \n",
       "72 0       1        0                        0    \n",
       "73 0       0       17                       17    \n",
       "74 0       1        0                        0    \n",
       "75 0       0        5                        5    \n",
       "76 0       0       17                       17    \n",
       "77 0       1        1                        1    \n",
       "78 0       0       16                       16    \n",
       "79 0       0       17                       17    \n",
       "80 0       0       16                       16    "
      ]
     },
     "metadata": {},
     "output_type": "display_data"
    }
   ],
   "source": [
    "## show cross table:\n",
    "dp_overview_1"
   ]
  },
  {
   "cell_type": "code",
   "execution_count": 7,
   "id": "99390530",
   "metadata": {
    "trusted": true,
    "vscode": {
     "languageId": "r"
    }
   },
   "outputs": [
    {
     "data": {
      "text/html": [
       "2"
      ],
      "text/latex": [
       "2"
      ],
      "text/markdown": [
       "2"
      ],
      "text/plain": [
       "[1] 2"
      ]
     },
     "metadata": {},
     "output_type": "display_data"
    }
   ],
   "source": [
    "## get sum of column \"points\"\n",
    "count_datasets_points <- sum(dp_overview_1$points)\n",
    "count_datasets_points"
   ]
  },
  {
   "cell_type": "markdown",
   "id": "84b13f16",
   "metadata": {},
   "source": [
    "## Questions 2: How many geospatial datasets are currently available on spatial resolution of municipalities in year 2020?\n",
    "Hints:\n",
    "- search for correct spelling of column names for **Time** and **Spatial Resolution** in the previous code cell with `names(dp)`\n",
    "- check the name of columns for municipalities in the generated table\n"
   ]
  },
  {
   "cell_type": "code",
   "execution_count": 8,
   "id": "5c19757e",
   "metadata": {
    "trusted": true,
    "vscode": {
     "languageId": "r"
    }
   },
   "outputs": [],
   "source": [
    "## get the cross table:\n",
    "dp_overview_2 <- sora_dp_overview(arg_1 = \"time_frame\",\n",
    "                                  arg_2 = \"spatial_resolution\")"
   ]
  },
  {
   "cell_type": "code",
   "execution_count": 9,
   "id": "9e639f0f",
   "metadata": {
    "trusted": true,
    "vscode": {
     "languageId": "r"
    }
   },
   "outputs": [
    {
     "data": {
      "text/html": [
       "<table class=\"dataframe\">\n",
       "<caption>A tibble: 18 × 15</caption>\n",
       "<thead>\n",
       "\t<tr><th scope=col>time_frame</th><th scope=col>100m Raster</th><th scope=col>200m Raster</th><th scope=col>500m Raster</th><th scope=col>1000m Raster</th><th scope=col>5000m Raster</th><th scope=col>10000m Raster</th><th scope=col>Cities (&gt; 50k inhabitants)</th><th scope=col>Districts</th><th scope=col>Municipal association</th><th scope=col>Municipal level</th><th scope=col>points</th><th scope=col>Quarters</th><th scope=col>Spatial planning regions</th><th scope=col>States</th></tr>\n",
       "\t<tr><th scope=col>&lt;chr&gt;</th><th scope=col>&lt;int&gt;</th><th scope=col>&lt;int&gt;</th><th scope=col>&lt;int&gt;</th><th scope=col>&lt;int&gt;</th><th scope=col>&lt;int&gt;</th><th scope=col>&lt;int&gt;</th><th scope=col>&lt;int&gt;</th><th scope=col>&lt;int&gt;</th><th scope=col>&lt;int&gt;</th><th scope=col>&lt;int&gt;</th><th scope=col>&lt;int&gt;</th><th scope=col>&lt;int&gt;</th><th scope=col>&lt;int&gt;</th><th scope=col>&lt;int&gt;</th></tr>\n",
       "</thead>\n",
       "<tbody>\n",
       "\t<tr><td>2000</td><td>21</td><td>21</td><td>21</td><td>21</td><td>21</td><td>21</td><td>39</td><td>45</td><td>42</td><td>42</td><td>0</td><td>26</td><td>44</td><td>45</td></tr>\n",
       "\t<tr><td>2006</td><td>30</td><td>30</td><td>30</td><td>30</td><td>30</td><td>30</td><td>51</td><td>52</td><td>51</td><td>51</td><td>0</td><td>29</td><td>51</td><td>52</td></tr>\n",
       "\t<tr><td>2008</td><td>28</td><td>28</td><td>28</td><td>28</td><td>28</td><td>28</td><td>48</td><td>54</td><td>51</td><td>51</td><td>0</td><td>28</td><td>53</td><td>54</td></tr>\n",
       "\t<tr><td>2009</td><td>31</td><td>31</td><td>31</td><td>31</td><td>31</td><td>31</td><td>52</td><td>53</td><td>52</td><td>52</td><td>0</td><td>28</td><td>52</td><td>53</td></tr>\n",
       "\t<tr><td>2010</td><td>27</td><td>27</td><td>27</td><td>27</td><td>27</td><td>27</td><td>47</td><td>48</td><td>47</td><td>47</td><td>0</td><td>28</td><td>47</td><td>48</td></tr>\n",
       "\t<tr><td>2011</td><td>28</td><td>28</td><td>28</td><td>29</td><td>29</td><td>29</td><td>51</td><td>52</td><td>51</td><td>51</td><td>0</td><td>28</td><td>51</td><td>52</td></tr>\n",
       "\t<tr><td>2012</td><td>34</td><td>34</td><td>34</td><td>37</td><td>37</td><td>37</td><td>56</td><td>61</td><td>58</td><td>58</td><td>0</td><td>28</td><td>60</td><td>61</td></tr>\n",
       "\t<tr><td>2013</td><td>28</td><td>28</td><td>28</td><td>31</td><td>30</td><td>31</td><td>57</td><td>57</td><td>56</td><td>56</td><td>0</td><td>28</td><td>56</td><td>57</td></tr>\n",
       "\t<tr><td>2014</td><td>28</td><td>28</td><td>28</td><td>31</td><td>31</td><td>31</td><td>57</td><td>57</td><td>56</td><td>56</td><td>0</td><td>28</td><td>56</td><td>57</td></tr>\n",
       "\t<tr><td>2015</td><td>34</td><td>34</td><td>34</td><td>34</td><td>34</td><td>34</td><td>61</td><td>61</td><td>60</td><td>60</td><td>2</td><td>28</td><td>60</td><td>61</td></tr>\n",
       "\t<tr><td>2016</td><td>30</td><td>30</td><td>30</td><td>30</td><td>30</td><td>30</td><td>56</td><td>64</td><td>59</td><td>59</td><td>0</td><td>28</td><td>63</td><td>64</td></tr>\n",
       "\t<tr><td>2017</td><td>30</td><td>28</td><td>28</td><td>30</td><td>30</td><td>30</td><td>55</td><td>56</td><td>55</td><td>55</td><td>0</td><td>27</td><td>55</td><td>56</td></tr>\n",
       "\t<tr><td>2018</td><td>34</td><td>34</td><td>34</td><td>34</td><td>34</td><td>34</td><td>65</td><td>60</td><td>59</td><td>59</td><td>0</td><td>33</td><td>59</td><td>60</td></tr>\n",
       "\t<tr><td>2019</td><td>31</td><td>28</td><td>28</td><td>30</td><td>30</td><td>30</td><td>55</td><td>56</td><td>55</td><td>55</td><td>0</td><td>27</td><td>55</td><td>56</td></tr>\n",
       "\t<tr><td>2020</td><td>28</td><td>28</td><td>28</td><td>28</td><td>28</td><td>28</td><td>52</td><td>58</td><td>55</td><td>55</td><td>0</td><td>27</td><td>57</td><td>58</td></tr>\n",
       "\t<tr><td>2021</td><td>29</td><td>29</td><td>29</td><td>29</td><td>29</td><td>29</td><td>52</td><td>53</td><td>52</td><td>52</td><td>0</td><td>26</td><td>52</td><td>53</td></tr>\n",
       "\t<tr><td>2022</td><td>30</td><td>30</td><td>30</td><td>30</td><td>30</td><td>30</td><td>56</td><td>56</td><td>56</td><td>56</td><td>0</td><td>26</td><td>56</td><td>56</td></tr>\n",
       "\t<tr><td>2023</td><td>24</td><td>24</td><td>24</td><td>24</td><td>24</td><td>24</td><td>37</td><td>37</td><td>37</td><td>37</td><td>0</td><td>26</td><td>37</td><td>37</td></tr>\n",
       "</tbody>\n",
       "</table>\n"
      ],
      "text/latex": [
       "A tibble: 18 × 15\n",
       "\\begin{tabular}{lllllllllllllll}\n",
       " time\\_frame & 100m Raster & 200m Raster & 500m Raster & 1000m Raster & 5000m Raster & 10000m Raster & Cities (> 50k inhabitants) & Districts & Municipal association & Municipal level & points & Quarters & Spatial planning regions & States\\\\\n",
       " <chr> & <int> & <int> & <int> & <int> & <int> & <int> & <int> & <int> & <int> & <int> & <int> & <int> & <int> & <int>\\\\\n",
       "\\hline\n",
       "\t 2000 & 21 & 21 & 21 & 21 & 21 & 21 & 39 & 45 & 42 & 42 & 0 & 26 & 44 & 45\\\\\n",
       "\t 2006 & 30 & 30 & 30 & 30 & 30 & 30 & 51 & 52 & 51 & 51 & 0 & 29 & 51 & 52\\\\\n",
       "\t 2008 & 28 & 28 & 28 & 28 & 28 & 28 & 48 & 54 & 51 & 51 & 0 & 28 & 53 & 54\\\\\n",
       "\t 2009 & 31 & 31 & 31 & 31 & 31 & 31 & 52 & 53 & 52 & 52 & 0 & 28 & 52 & 53\\\\\n",
       "\t 2010 & 27 & 27 & 27 & 27 & 27 & 27 & 47 & 48 & 47 & 47 & 0 & 28 & 47 & 48\\\\\n",
       "\t 2011 & 28 & 28 & 28 & 29 & 29 & 29 & 51 & 52 & 51 & 51 & 0 & 28 & 51 & 52\\\\\n",
       "\t 2012 & 34 & 34 & 34 & 37 & 37 & 37 & 56 & 61 & 58 & 58 & 0 & 28 & 60 & 61\\\\\n",
       "\t 2013 & 28 & 28 & 28 & 31 & 30 & 31 & 57 & 57 & 56 & 56 & 0 & 28 & 56 & 57\\\\\n",
       "\t 2014 & 28 & 28 & 28 & 31 & 31 & 31 & 57 & 57 & 56 & 56 & 0 & 28 & 56 & 57\\\\\n",
       "\t 2015 & 34 & 34 & 34 & 34 & 34 & 34 & 61 & 61 & 60 & 60 & 2 & 28 & 60 & 61\\\\\n",
       "\t 2016 & 30 & 30 & 30 & 30 & 30 & 30 & 56 & 64 & 59 & 59 & 0 & 28 & 63 & 64\\\\\n",
       "\t 2017 & 30 & 28 & 28 & 30 & 30 & 30 & 55 & 56 & 55 & 55 & 0 & 27 & 55 & 56\\\\\n",
       "\t 2018 & 34 & 34 & 34 & 34 & 34 & 34 & 65 & 60 & 59 & 59 & 0 & 33 & 59 & 60\\\\\n",
       "\t 2019 & 31 & 28 & 28 & 30 & 30 & 30 & 55 & 56 & 55 & 55 & 0 & 27 & 55 & 56\\\\\n",
       "\t 2020 & 28 & 28 & 28 & 28 & 28 & 28 & 52 & 58 & 55 & 55 & 0 & 27 & 57 & 58\\\\\n",
       "\t 2021 & 29 & 29 & 29 & 29 & 29 & 29 & 52 & 53 & 52 & 52 & 0 & 26 & 52 & 53\\\\\n",
       "\t 2022 & 30 & 30 & 30 & 30 & 30 & 30 & 56 & 56 & 56 & 56 & 0 & 26 & 56 & 56\\\\\n",
       "\t 2023 & 24 & 24 & 24 & 24 & 24 & 24 & 37 & 37 & 37 & 37 & 0 & 26 & 37 & 37\\\\\n",
       "\\end{tabular}\n"
      ],
      "text/markdown": [
       "\n",
       "A tibble: 18 × 15\n",
       "\n",
       "| time_frame &lt;chr&gt; | 100m Raster &lt;int&gt; | 200m Raster &lt;int&gt; | 500m Raster &lt;int&gt; | 1000m Raster &lt;int&gt; | 5000m Raster &lt;int&gt; | 10000m Raster &lt;int&gt; | Cities (&gt; 50k inhabitants) &lt;int&gt; | Districts &lt;int&gt; | Municipal association &lt;int&gt; | Municipal level &lt;int&gt; | points &lt;int&gt; | Quarters &lt;int&gt; | Spatial planning regions &lt;int&gt; | States &lt;int&gt; |\n",
       "|---|---|---|---|---|---|---|---|---|---|---|---|---|---|---|\n",
       "| 2000 | 21 | 21 | 21 | 21 | 21 | 21 | 39 | 45 | 42 | 42 | 0 | 26 | 44 | 45 |\n",
       "| 2006 | 30 | 30 | 30 | 30 | 30 | 30 | 51 | 52 | 51 | 51 | 0 | 29 | 51 | 52 |\n",
       "| 2008 | 28 | 28 | 28 | 28 | 28 | 28 | 48 | 54 | 51 | 51 | 0 | 28 | 53 | 54 |\n",
       "| 2009 | 31 | 31 | 31 | 31 | 31 | 31 | 52 | 53 | 52 | 52 | 0 | 28 | 52 | 53 |\n",
       "| 2010 | 27 | 27 | 27 | 27 | 27 | 27 | 47 | 48 | 47 | 47 | 0 | 28 | 47 | 48 |\n",
       "| 2011 | 28 | 28 | 28 | 29 | 29 | 29 | 51 | 52 | 51 | 51 | 0 | 28 | 51 | 52 |\n",
       "| 2012 | 34 | 34 | 34 | 37 | 37 | 37 | 56 | 61 | 58 | 58 | 0 | 28 | 60 | 61 |\n",
       "| 2013 | 28 | 28 | 28 | 31 | 30 | 31 | 57 | 57 | 56 | 56 | 0 | 28 | 56 | 57 |\n",
       "| 2014 | 28 | 28 | 28 | 31 | 31 | 31 | 57 | 57 | 56 | 56 | 0 | 28 | 56 | 57 |\n",
       "| 2015 | 34 | 34 | 34 | 34 | 34 | 34 | 61 | 61 | 60 | 60 | 2 | 28 | 60 | 61 |\n",
       "| 2016 | 30 | 30 | 30 | 30 | 30 | 30 | 56 | 64 | 59 | 59 | 0 | 28 | 63 | 64 |\n",
       "| 2017 | 30 | 28 | 28 | 30 | 30 | 30 | 55 | 56 | 55 | 55 | 0 | 27 | 55 | 56 |\n",
       "| 2018 | 34 | 34 | 34 | 34 | 34 | 34 | 65 | 60 | 59 | 59 | 0 | 33 | 59 | 60 |\n",
       "| 2019 | 31 | 28 | 28 | 30 | 30 | 30 | 55 | 56 | 55 | 55 | 0 | 27 | 55 | 56 |\n",
       "| 2020 | 28 | 28 | 28 | 28 | 28 | 28 | 52 | 58 | 55 | 55 | 0 | 27 | 57 | 58 |\n",
       "| 2021 | 29 | 29 | 29 | 29 | 29 | 29 | 52 | 53 | 52 | 52 | 0 | 26 | 52 | 53 |\n",
       "| 2022 | 30 | 30 | 30 | 30 | 30 | 30 | 56 | 56 | 56 | 56 | 0 | 26 | 56 | 56 |\n",
       "| 2023 | 24 | 24 | 24 | 24 | 24 | 24 | 37 | 37 | 37 | 37 | 0 | 26 | 37 | 37 |\n",
       "\n"
      ],
      "text/plain": [
       "   time_frame 100m Raster 200m Raster 500m Raster 1000m Raster 5000m Raster\n",
       "1  2000       21          21          21          21           21          \n",
       "2  2006       30          30          30          30           30          \n",
       "3  2008       28          28          28          28           28          \n",
       "4  2009       31          31          31          31           31          \n",
       "5  2010       27          27          27          27           27          \n",
       "6  2011       28          28          28          29           29          \n",
       "7  2012       34          34          34          37           37          \n",
       "8  2013       28          28          28          31           30          \n",
       "9  2014       28          28          28          31           31          \n",
       "10 2015       34          34          34          34           34          \n",
       "11 2016       30          30          30          30           30          \n",
       "12 2017       30          28          28          30           30          \n",
       "13 2018       34          34          34          34           34          \n",
       "14 2019       31          28          28          30           30          \n",
       "15 2020       28          28          28          28           28          \n",
       "16 2021       29          29          29          29           29          \n",
       "17 2022       30          30          30          30           30          \n",
       "18 2023       24          24          24          24           24          \n",
       "   10000m Raster Cities (> 50k inhabitants) Districts Municipal association\n",
       "1  21            39                         45        42                   \n",
       "2  30            51                         52        51                   \n",
       "3  28            48                         54        51                   \n",
       "4  31            52                         53        52                   \n",
       "5  27            47                         48        47                   \n",
       "6  29            51                         52        51                   \n",
       "7  37            56                         61        58                   \n",
       "8  31            57                         57        56                   \n",
       "9  31            57                         57        56                   \n",
       "10 34            61                         61        60                   \n",
       "11 30            56                         64        59                   \n",
       "12 30            55                         56        55                   \n",
       "13 34            65                         60        59                   \n",
       "14 30            55                         56        55                   \n",
       "15 28            52                         58        55                   \n",
       "16 29            52                         53        52                   \n",
       "17 30            56                         56        56                   \n",
       "18 24            37                         37        37                   \n",
       "   Municipal level points Quarters Spatial planning regions States\n",
       "1  42              0      26       44                       45    \n",
       "2  51              0      29       51                       52    \n",
       "3  51              0      28       53                       54    \n",
       "4  52              0      28       52                       53    \n",
       "5  47              0      28       47                       48    \n",
       "6  51              0      28       51                       52    \n",
       "7  58              0      28       60                       61    \n",
       "8  56              0      28       56                       57    \n",
       "9  56              0      28       56                       57    \n",
       "10 60              2      28       60                       61    \n",
       "11 59              0      28       63                       64    \n",
       "12 55              0      27       55                       56    \n",
       "13 59              0      33       59                       60    \n",
       "14 55              0      27       55                       56    \n",
       "15 55              0      27       57                       58    \n",
       "16 52              0      26       52                       53    \n",
       "17 56              0      26       56                       56    \n",
       "18 37              0      26       37                       37    "
      ]
     },
     "metadata": {},
     "output_type": "display_data"
    }
   ],
   "source": [
    "## show cross table:\n",
    "dp_overview_2"
   ]
  },
  {
   "cell_type": "code",
   "execution_count": 10,
   "id": "e858daac",
   "metadata": {
    "trusted": true,
    "vscode": {
     "languageId": "r"
    }
   },
   "outputs": [],
   "source": [
    "# reduce table to given year\n",
    "row_2020 <- dp_overview_2[dp_overview_2$time_frame == 2020, ]"
   ]
  },
  {
   "cell_type": "code",
   "execution_count": 12,
   "id": "254a9f51",
   "metadata": {
    "trusted": true,
    "vscode": {
     "languageId": "r"
    }
   },
   "outputs": [
    {
     "data": {
      "text/html": [
       "55"
      ],
      "text/latex": [
       "55"
      ],
      "text/markdown": [
       "55"
      ],
      "text/plain": [
       "[1] 55"
      ]
     },
     "metadata": {},
     "output_type": "display_data"
    }
   ],
   "source": [
    "# return value for municipalities\n",
    "row_2020$`Municipal level`"
   ]
  },
  {
   "cell_type": "markdown",
   "id": "6f4333ce",
   "metadata": {},
   "source": [
    "## Questions 3: What is the geospatial dataset ID for indicator \"Green per inhabitant\" on spatial resolution of Cities (> 50k inhabitants) in 2018?\n",
    "Hints:\n",
    "- function \"sora_dp_get_id()\" returns dataset ID"
   ]
  },
  {
   "cell_type": "code",
   "execution_count": 13,
   "id": "614e0967",
   "metadata": {
    "trusted": true,
    "vscode": {
     "languageId": "r"
    }
   },
   "outputs": [],
   "source": [
    "## select a specific indicator 'value for title'\n",
    "dp_select_indicator <- sora_dp_get_id(data_dp = dp, indicator = \"Green per inhabitant\")"
   ]
  },
  {
   "cell_type": "code",
   "execution_count": 14,
   "id": "50befe83",
   "metadata": {
    "trusted": true,
    "vscode": {
     "languageId": "r"
    }
   },
   "outputs": [
    {
     "data": {
      "text/html": [
       "<table class=\"dataframe\">\n",
       "<caption>A tibble: 2 × 4</caption>\n",
       "<thead>\n",
       "\t<tr><th scope=col>title</th><th scope=col>time_frame</th><th scope=col>spatial_resolution</th><th scope=col>dataset_id</th></tr>\n",
       "\t<tr><th scope=col>&lt;chr&gt;</th><th scope=col>&lt;int&gt;</th><th scope=col>&lt;chr&gt;</th><th scope=col>&lt;chr&gt;</th></tr>\n",
       "</thead>\n",
       "<tbody>\n",
       "\t<tr><td>Green per inhabitant</td><td>2018</td><td>Cities (&gt; 50k inhabitants)</td><td>ioer-monitor-p01mt-2018-g50</td></tr>\n",
       "\t<tr><td>Green per inhabitant</td><td>2018</td><td>Quarters                  </td><td>ioer-monitor-p01mt-2018-stt</td></tr>\n",
       "</tbody>\n",
       "</table>\n"
      ],
      "text/latex": [
       "A tibble: 2 × 4\n",
       "\\begin{tabular}{llll}\n",
       " title & time\\_frame & spatial\\_resolution & dataset\\_id\\\\\n",
       " <chr> & <int> & <chr> & <chr>\\\\\n",
       "\\hline\n",
       "\t Green per inhabitant & 2018 & Cities (> 50k inhabitants) & ioer-monitor-p01mt-2018-g50\\\\\n",
       "\t Green per inhabitant & 2018 & Quarters                   & ioer-monitor-p01mt-2018-stt\\\\\n",
       "\\end{tabular}\n"
      ],
      "text/markdown": [
       "\n",
       "A tibble: 2 × 4\n",
       "\n",
       "| title &lt;chr&gt; | time_frame &lt;int&gt; | spatial_resolution &lt;chr&gt; | dataset_id &lt;chr&gt; |\n",
       "|---|---|---|---|\n",
       "| Green per inhabitant | 2018 | Cities (&gt; 50k inhabitants) | ioer-monitor-p01mt-2018-g50 |\n",
       "| Green per inhabitant | 2018 | Quarters                   | ioer-monitor-p01mt-2018-stt |\n",
       "\n"
      ],
      "text/plain": [
       "  title                time_frame spatial_resolution        \n",
       "1 Green per inhabitant 2018       Cities (> 50k inhabitants)\n",
       "2 Green per inhabitant 2018       Quarters                  \n",
       "  dataset_id                 \n",
       "1 ioer-monitor-p01mt-2018-g50\n",
       "2 ioer-monitor-p01mt-2018-stt"
      ]
     },
     "metadata": {},
     "output_type": "display_data"
    }
   ],
   "source": [
    "## get an overview of all dataset_id for that specific indicator\n",
    "dp_select_indicator"
   ]
  },
  {
   "cell_type": "markdown",
   "id": "fc4bbc0f",
   "metadata": {},
   "source": [
    "## Use online Web-GUI of Datapicker\n",
    "\n",
    "You can also open the online Web-GUI and explore the datasets and linking methods\n",
    "\n",
    "https://sora.gesis.org/unofficial/datapicker/"
   ]
  }
 ],
 "metadata": {
  "kernelspec": {
   "display_name": "R",
   "language": "R",
   "name": "ir"
  },
  "language_info": {
   "codemirror_mode": "r",
   "file_extension": ".r",
   "mimetype": "text/x-r-source",
   "name": "R",
   "pygments_lexer": "r",
   "version": "4.4.2"
  }
 },
 "nbformat": 4,
 "nbformat_minor": 5
}
