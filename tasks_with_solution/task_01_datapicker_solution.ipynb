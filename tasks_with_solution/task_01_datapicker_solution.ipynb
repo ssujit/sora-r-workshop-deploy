{
 "cells": [
  {
   "cell_type": "markdown",
   "id": "7038e3f7-c3eb-4205-b918-489b48607d97",
   "metadata": {},
   "source": [
    "# Solution for task 1: How to use the datapicker in SoRa"
   ]
  },
  {
   "cell_type": "markdown",
   "id": "5cb0f94e",
   "metadata": {},
   "source": [
    "## Questions 1: How many geospatial datasets are currently available on spatial resolution \"points\" (Points of Interest)?"
   ]
  },
  {
   "cell_type": "markdown",
   "id": "215e89ac",
   "metadata": {},
   "source": [
    "### Solution\n",
    "- arg_1 = \"title\"\n",
    "- arg_2 = \"spatial_resolution\"\n",
    "- number of geospatial datasets: **2**"
   ]
  },
  {
   "cell_type": "markdown",
   "id": "cf90b4aa",
   "metadata": {},
   "source": [
    "## Questions 2: How many geospatial datasets are currently available on spatial resolution of municipalities in year 2020?\n",
    "\n"
   ]
  },
  {
   "cell_type": "markdown",
   "id": "ec9eee67",
   "metadata": {},
   "source": [
    "### Solution\n",
    "- arg_1 = \"time_frame\"\n",
    "- arg_2 = \"spatial_resolution\"\n",
    "- column of Municipalities: Municipal level\n",
    "- number of geospatial datasets: **55**"
   ]
  },
  {
   "cell_type": "markdown",
   "id": "94adafad",
   "metadata": {},
   "source": [
    "## Questions 3: What is the geospatial dataset ID for indicator \"Green per inhabitant\" on spatial resolution of Cities (> 50k inhabitants) in 2018?"
   ]
  },
  {
   "cell_type": "markdown",
   "id": "bd7c0da8",
   "metadata": {},
   "source": [
    "### Solution\n",
    "- dataset ID is **ioer-monitor-p01mt-2018-g50**"
   ]
  }
 ],
 "metadata": {
  "kernelspec": {
   "display_name": "R-4.4.2",
   "language": "R",
   "name": "ir40"
  },
  "language_info": {
   "codemirror_mode": "r",
   "file_extension": ".r",
   "mimetype": "text/x-r-source",
   "name": "R",
   "pygments_lexer": "r",
   "version": "4.4.2"
  }
 },
 "nbformat": 4,
 "nbformat_minor": 5
}
