{
 "cells": [
  {
   "cell_type": "markdown",
   "id": "7038e3f7-c3eb-4205-b918-489b48607d97",
   "metadata": {},
   "source": [
    "# Solution for task 3: Analysing green space in Hamburg and Berlin"
   ]
  },
  {
   "cell_type": "code",
   "execution_count": null,
   "id": "5015fd68-c359-4a01-94ac-6ed2f1f53556",
   "metadata": {
    "vscode": {
     "languageId": "r"
    }
   },
   "outputs": [],
   "source": []
  }
 ],
 "metadata": {
  "kernelspec": {
   "display_name": "R-4.4.2",
   "language": "R",
   "name": "ir40"
  },
  "language_info": {
   "codemirror_mode": "r",
   "file_extension": ".r",
   "mimetype": "text/x-r-source",
   "name": "R",
   "pygments_lexer": "r",
   "version": "4.4.2"
  }
 },
 "nbformat": 4,
 "nbformat_minor": 5
}
