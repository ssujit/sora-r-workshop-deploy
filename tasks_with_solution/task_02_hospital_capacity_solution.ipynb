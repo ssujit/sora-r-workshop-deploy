{
 "cells": [
  {
   "cell_type": "markdown",
   "id": "7038e3f7-c3eb-4205-b918-489b48607d97",
   "metadata": {},
   "source": [
    "# Solution for task 2: Analysing hospital capacity"
   ]
  },
  {
   "cell_type": "markdown",
   "id": "ff43be63",
   "metadata": {},
   "source": [
    "## Solution\n",
    "- dataset ID is **bkg-poi-bund-hos-beds-2015**\n",
    "- linking method is **aggregate_attribute**\n",
    "- selection area is **circle**\n",
    "- missing values for output are **min, max, sd**\n"
   ]
  }
 ],
 "metadata": {
  "kernelspec": {
   "display_name": "R-4.4.2",
   "language": "R",
   "name": "ir40"
  },
  "language_info": {
   "codemirror_mode": "r",
   "file_extension": ".r",
   "mimetype": "text/x-r-source",
   "name": "R",
   "pygments_lexer": "r",
   "version": "4.4.2"
  }
 },
 "nbformat": 4,
 "nbformat_minor": 5
}
