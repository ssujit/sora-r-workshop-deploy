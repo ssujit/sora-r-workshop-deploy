{
 "cells": [
  {
   "cell_type": "markdown",
   "id": "7038e3f7-c3eb-4205-b918-489b48607d97",
   "metadata": {},
   "source": [
    "# Solution for task 3: Analysing building density"
   ]
  },
  {
   "cell_type": "markdown",
   "id": "89f9044b",
   "metadata": {},
   "source": [
    "Solution:\n",
    "- **Linking for 2014**\n",
    "    - geospatial dataset ID: \"ioer-monitor-g01dg-2014-1000m\"\n",
    "    - linking method: \"aggregate_attribute\"\n",
    "    - selection area: \"square\"\n",
    "    - length: 2500\n",
    "- **Linking for 2021**\n",
    "    - geospatial dataset ID: \"ioer-monitor-g01dg-2021-1000m\"\n",
    "    - linking method: \"aggregate_attribute\"\n",
    "    - selection area: \"square\"\n",
    "    - length: 2500\n"
   ]
  }
 ],
 "metadata": {
  "kernelspec": {
   "display_name": "R-4.4.2",
   "language": "R",
   "name": "ir40"
  },
  "language_info": {
   "codemirror_mode": "r",
   "file_extension": ".r",
   "mimetype": "text/x-r-source",
   "name": "R",
   "pygments_lexer": "r",
   "version": "4.4.2"
  }
 },
 "nbformat": 4,
 "nbformat_minor": 5
}
