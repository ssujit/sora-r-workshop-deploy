{
 "cells": [
  {
   "cell_type": "markdown",
   "id": "94105d9a-0321-45c7-aee9-9372f6fdeb5b",
   "metadata": {},
   "source": [
    "show different sections for\n",
    "- clicking own coordinates in an interactive maps (with markers), to create a SoRa request using it as geocoded dataset input\n",
    "- how to use own geocoded dataset as example with a huge GeoDataFrame / array\n",
    "- how to use own geospatial dataset, for POI data with or without attributes as GeoJSON"
   ]
  },
  {
   "cell_type": "code",
   "execution_count": null,
   "id": "89cf534a-4e8a-430e-8904-3d04057d4d87",
   "metadata": {},
   "outputs": [],
   "source": []
  }
 ],
 "metadata": {
  "kernelspec": {
   "display_name": "R-4.4.2",
   "language": "R",
   "name": "ir40"
  },
  "language_info": {
   "codemirror_mode": "r",
   "file_extension": ".r",
   "mimetype": "text/x-r-source",
   "name": "R",
   "pygments_lexer": "r",
   "version": "4.4.2"
  }
 },
 "nbformat": 4,
 "nbformat_minor": 5
}
