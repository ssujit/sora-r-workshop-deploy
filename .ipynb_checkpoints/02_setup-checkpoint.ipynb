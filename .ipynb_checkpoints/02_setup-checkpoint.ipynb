{
 "cells": [
  {
   "cell_type": "markdown",
   "id": "c678e043-b907-4cb1-ad2d-e2f6bbadf1ad",
   "metadata": {},
   "source": [
    "# 02 - setup SoRa"
   ]
  },
  {
   "cell_type": "markdown",
   "id": "82d85c96-f515-4728-8ae5-0f9ef3c31de0",
   "metadata": {},
   "source": [
    "- using AskPass, set SoRa API Key in sys Variable\n",
    "- check if all components are available from SoRa"
   ]
  },
  {
   "cell_type": "code",
   "execution_count": 1,
   "id": "2a1aaa43-11b3-4c60-96d2-88d330a8e1d8",
   "metadata": {},
   "outputs": [
    {
     "data": {
      "text/html": [
       "<style>\n",
       ".list-inline {list-style: none; margin:0; padding: 0}\n",
       ".list-inline>li {display: inline-block}\n",
       ".list-inline>li:not(:last-child)::after {content: \"\\00b7\"; padding: 0 .5ex}\n",
       "</style>\n",
       "<ol class=list-inline><li>'01_introduction_sora.ipynb'</li><li>'02_setup.ipynb'</li><li>'03_linking_aggregate_attribute.ipynb'</li><li>'04_linking_nearest_poi.ipynb'</li><li>'05_linking_count_objects.ipynb'</li><li>'10_exploring_datapicker.ipynb'</li><li>'11_using_custom_datasets.ipynb'</li><li>'EDA_R_mtcars.ipynb'</li><li>'README.md'</li></ol>\n"
      ],
      "text/latex": [
       "\\begin{enumerate*}\n",
       "\\item '01\\_introduction\\_sora.ipynb'\n",
       "\\item '02\\_setup.ipynb'\n",
       "\\item '03\\_linking\\_aggregate\\_attribute.ipynb'\n",
       "\\item '04\\_linking\\_nearest\\_poi.ipynb'\n",
       "\\item '05\\_linking\\_count\\_objects.ipynb'\n",
       "\\item '10\\_exploring\\_datapicker.ipynb'\n",
       "\\item '11\\_using\\_custom\\_datasets.ipynb'\n",
       "\\item 'EDA\\_R\\_mtcars.ipynb'\n",
       "\\item 'README.md'\n",
       "\\end{enumerate*}\n"
      ],
      "text/markdown": [
       "1. '01_introduction_sora.ipynb'\n",
       "2. '02_setup.ipynb'\n",
       "3. '03_linking_aggregate_attribute.ipynb'\n",
       "4. '04_linking_nearest_poi.ipynb'\n",
       "5. '05_linking_count_objects.ipynb'\n",
       "6. '10_exploring_datapicker.ipynb'\n",
       "7. '11_using_custom_datasets.ipynb'\n",
       "8. 'EDA_R_mtcars.ipynb'\n",
       "9. 'README.md'\n",
       "\n",
       "\n"
      ],
      "text/plain": [
       "[1] \"01_introduction_sora.ipynb\"          \n",
       "[2] \"02_setup.ipynb\"                      \n",
       "[3] \"03_linking_aggregate_attribute.ipynb\"\n",
       "[4] \"04_linking_nearest_poi.ipynb\"        \n",
       "[5] \"05_linking_count_objects.ipynb\"      \n",
       "[6] \"10_exploring_datapicker.ipynb\"       \n",
       "[7] \"11_using_custom_datasets.ipynb\"      \n",
       "[8] \"EDA_R_mtcars.ipynb\"                  \n",
       "[9] \"README.md\"                           "
      ]
     },
     "metadata": {},
     "output_type": "display_data"
    }
   ],
   "source": [
    "dir()"
   ]
  },
  {
   "cell_type": "code",
   "execution_count": 2,
   "id": "3bc7274c-8ac0-4927-88f0-f6ded1512644",
   "metadata": {},
   "outputs": [],
   "source": [
    "#Sys.getenv()"
   ]
  },
  {
   "cell_type": "markdown",
   "id": "52e4965b-a6b6-4c62-b8f2-39ee69a4a8ef",
   "metadata": {},
   "source": [
    "- R environment file to store SoRa API Key\n",
    "- should be stored in same directory like Jupyter Notebooks\n",
    "- works without sys environment variables"
   ]
  },
  {
   "cell_type": "markdown",
   "id": "06811e7e-4776-4925-ad7e-3f33fdb7328f",
   "metadata": {},
   "source": [
    "https://docs.posit.co/ide/user/ide/guide/environments/r/managing-r.html#renviron\n",
    ".Renviron"
   ]
  },
  {
   "cell_type": "markdown",
   "id": "09a7fd62-0ff1-4225-9db2-83907b962f78",
   "metadata": {},
   "source": [
    "- start virtual environment / setup in R with all required packages"
   ]
  },
  {
   "cell_type": "code",
   "execution_count": 3,
   "id": "2e750bf6-d1d5-4ced-8131-59c5ccb1ee4a",
   "metadata": {},
   "outputs": [
    {
     "name": "stderr",
     "output_type": "stream",
     "text": [
      "\u001b[31m☐\u001b[39m Edit \u001b[34m/home/jovyan/.Renviron\u001b[39m.\n",
      "\n",
      "\u001b[31m☐\u001b[39m Restart R for changes to take effect.\n",
      "\n"
     ]
    }
   ],
   "source": [
    "usethis::edit_r_environ()"
   ]
  },
  {
   "cell_type": "code",
   "execution_count": null,
   "id": "1942bc85-e97d-486f-8879-fd6aafaf768d",
   "metadata": {},
   "outputs": [],
   "source": []
  }
 ],
 "metadata": {
  "kernelspec": {
   "display_name": "R-4.4.2",
   "language": "R",
   "name": "ir40"
  },
  "language_info": {
   "codemirror_mode": "r",
   "file_extension": ".r",
   "mimetype": "text/x-r-source",
   "name": "R",
   "pygments_lexer": "r",
   "version": "4.4.2"
  }
 },
 "nbformat": 4,
 "nbformat_minor": 5
}
