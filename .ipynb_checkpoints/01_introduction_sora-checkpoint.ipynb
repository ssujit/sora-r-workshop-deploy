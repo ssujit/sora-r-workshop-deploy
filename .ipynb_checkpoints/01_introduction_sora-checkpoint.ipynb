{
 "cells": [
  {
   "cell_type": "markdown",
   "id": "7038e3f7-c3eb-4205-b918-489b48607d97",
   "metadata": {},
   "source": [
    "# Workshop: data linking of survey and spatial datasets using Geolinking Service SoRa"
   ]
  },
  {
   "cell_type": "markdown",
   "id": "950ac47e-565e-4641-8815-7ec79be6f9f2",
   "metadata": {},
   "source": [
    "## Agenda\n",
    "\n",
    "1. x\n",
    "2. x\n",
    "3. x"
   ]
  },
  {
   "cell_type": "markdown",
   "id": "5ed54c8a-6806-4d0c-b5a2-59f0e2191f27",
   "metadata": {},
   "source": [
    "What is Geolinking Service SoRa?\n",
    "\n",
    "- see: https://sora-service.org/en/ \n",
    "\n",
    "- or the prepared slides here:\n",
    "\n",
    "The presented geolinking service is an alpha version. Please provide your feedback using Zumpad: "
   ]
  },
  {
   "cell_type": "code",
   "execution_count": null,
   "id": "0d660d90-a2ec-459b-bd07-225f59da5e92",
   "metadata": {},
   "outputs": [],
   "source": []
  }
 ],
 "metadata": {
  "kernelspec": {
   "display_name": "R-4.4.2",
   "language": "R",
   "name": "ir40"
  },
  "language_info": {
   "codemirror_mode": "r",
   "file_extension": ".r",
   "mimetype": "text/x-r-source",
   "name": "R",
   "pygments_lexer": "r",
   "version": "4.4.2"
  }
 },
 "nbformat": 4,
 "nbformat_minor": 5
}
