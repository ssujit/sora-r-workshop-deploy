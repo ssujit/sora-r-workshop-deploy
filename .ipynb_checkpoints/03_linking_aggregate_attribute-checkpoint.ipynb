{
 "cells": [
  {
   "cell_type": "markdown",
   "id": "715aa3a4-b03d-42ad-a42e-4e7dc7c00351",
   "metadata": {},
   "source": [
    "# 03- linking: aggregate attribute"
   ]
  },
  {
   "cell_type": "markdown",
   "id": "e518f51b-3935-45a1-8129-17927c84c45d",
   "metadata": {},
   "source": [
    "In this section, we want to use the linking method 'aggregate attribute' of Geolinking Service SoRa to execute various statistical measures on a given geospatial dataset within a given selection area."
   ]
  },
  {
   "cell_type": "markdown",
   "id": "61eb37ad-f4dc-4168-8d2d-076a77b03a52",
   "metadata": {},
   "source": [
    "## parameters\n",
    "\n",
    "### list of available selection areas\n",
    "- show images of different types of selection area"
   ]
  },
  {
   "cell_type": "markdown",
   "id": "4c85d86f-cd8f-45cc-8b07-fa7c1a90dafd",
   "metadata": {},
   "source": [
    "### list of available statistical measures\n",
    "\n",
    "| type | name | description | conditions |\n",
    "| ---- | ---- | ---- | ---- |\n",
    "| **min** | Minimum | Determine the minimum value of all values in the selection | only for geospatial datasets having numerical attribute |\n",
    "| **max** | Maximum | Determine the maximum value of all values in the selection | only for geospatial datasets having numerical attribute |\n",
    "| **mean** | Mean | Determine the mean value of all values in the selection | only for geospatial datasets having numerical attribute |\n",
    "| **median** | Median | Determine the median value of all values in the selection | only for geospatial datasets having numerical attribute |\n",
    "| **sum** | Sum | Determine the sum value of all values in the selection | only for geospatial datasets having numerical attribute |"
   ]
  },
  {
   "cell_type": "code",
   "execution_count": null,
   "id": "141d1e80-a235-468a-b8c7-535a3ceeb94a",
   "metadata": {},
   "outputs": [],
   "source": []
  }
 ],
 "metadata": {
  "kernelspec": {
   "display_name": "R-4.4.2",
   "language": "R",
   "name": "ir40"
  },
  "language_info": {
   "codemirror_mode": "r",
   "file_extension": ".r",
   "mimetype": "text/x-r-source",
   "name": "R",
   "pygments_lexer": "r",
   "version": "4.4.2"
  }
 },
 "nbformat": 4,
 "nbformat_minor": 5
}
