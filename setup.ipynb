{
 "cells": [
  {
   "cell_type": "markdown",
   "id": "b705372a",
   "metadata": {},
   "source": [
    "## Initial tests of your working environment\n",
    "Here you will find some initial tests for your running JupyterLab instance"
   ]
  },
  {
   "cell_type": "code",
   "execution_count": null,
   "id": "c23710a0",
   "metadata": {
    "vscode": {
     "languageId": "r"
    }
   },
   "outputs": [],
   "source": [
    "# get R Version\n",
    "getRversion()"
   ]
  },
  {
   "cell_type": "code",
   "execution_count": null,
   "id": "acddd286",
   "metadata": {
    "vscode": {
     "languageId": "r"
    }
   },
   "outputs": [],
   "source": [
    "# get working directory\n",
    "getwd()"
   ]
  },
  {
   "cell_type": "code",
   "execution_count": null,
   "id": "8931bef4",
   "metadata": {
    "vscode": {
     "languageId": "r"
    }
   },
   "outputs": [],
   "source": [
    "#check environment variable for  pre-defined SORA_API_KEY\n",
    "Sys.getenv(\"SORA_API_KEY\")"
   ]
  },
  {
   "cell_type": "markdown",
   "id": "7434c686",
   "metadata": {},
   "source": [
    "## How to load functions from SoRa R package\n",
    "This steps are currently required to load all R functions from /R/ directory. In future, the SoRa R package will be installed directly."
   ]
  },
  {
   "cell_type": "code",
   "execution_count": null,
   "id": "db98d099",
   "metadata": {
    "vscode": {
     "languageId": "r"
    }
   },
   "outputs": [],
   "source": [
    "## create path\n",
    "path <- paste0(getwd(), \"/R/\")"
   ]
  },
  {
   "cell_type": "code",
   "execution_count": null,
   "id": "af99066f",
   "metadata": {
    "vscode": {
     "languageId": "r"
    }
   },
   "outputs": [],
   "source": [
    "## load scripts\n",
    "load_functions_sora <- dir(path)\n",
    "for (i in 1:length(load_functions_sora)) {\n",
    "  source(paste0(path, load_functions_sora[i]))\n",
    "}"
   ]
  },
  {
   "cell_type": "markdown",
   "id": "6bd2320f",
   "metadata": {},
   "source": [
    "## Check if SoRa is available?"
   ]
  },
  {
   "cell_type": "code",
   "execution_count": null,
   "id": "10d590f9",
   "metadata": {
    "vscode": {
     "languageId": "r"
    }
   },
   "outputs": [],
   "source": [
    "## is SoRa available? TRUE or FALSE\n",
    "sora_available()"
   ]
  },
  {
   "cell_type": "code",
   "execution_count": null,
   "id": "ea52be60",
   "metadata": {
    "vscode": {
     "languageId": "r"
    }
   },
   "outputs": [],
   "source": [
    "## details: which service is online.\n",
    "sora_services()"
   ]
  },
  {
   "cell_type": "code",
   "execution_count": null,
   "id": "dba4d9d4",
   "metadata": {
    "vscode": {
     "languageId": "r"
    }
   },
   "outputs": [],
   "source": [
    "## details: status of the api key. validated TRUE or FALSE\n",
    "sora_key_status()"
   ]
  }
 ],
 "metadata": {
  "kernelspec": {
   "display_name": "R",
   "language": "R",
   "name": "ir"
  },
  "language_info": {
   "codemirror_mode": "r",
   "file_extension": ".r",
   "mimetype": "text/x-r-source",
   "name": "R",
   "pygments_lexer": "r",
   "version": "4.4.2"
  }
 },
 "nbformat": 4,
 "nbformat_minor": 5
}
