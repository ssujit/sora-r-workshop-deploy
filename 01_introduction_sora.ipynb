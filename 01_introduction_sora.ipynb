{
 "cells": [
  {
   "cell_type": "markdown",
   "id": "7038e3f7-c3eb-4205-b918-489b48607d97",
   "metadata": {},
   "source": [
    "# Workshop: data linking of survey and spatial datasets using Geolinking Service SoRa"
   ]
  },
  {
   "cell_type": "markdown",
   "id": "950ac47e-565e-4641-8815-7ec79be6f9f2",
   "metadata": {},
   "source": [
    "## Agenda\n",
    "\n",
    "1. x\n",
    "2. x\n",
    "3. x"
   ]
  },
  {
   "cell_type": "markdown",
   "id": "5ed54c8a-6806-4d0c-b5a2-59f0e2191f27",
   "metadata": {},
   "source": [
    "What is Geolinking Service SoRa?\n",
    "\n",
    "- see: https://sora-service.org/en/ \n",
    "\n",
    "- or the prepared slides here:\n",
    "\n",
    "The presented geolinking service is an alpha version. Please provide your feedback using Zumpad: "
   ]
  },
  {
   "cell_type": "markdown",
   "id": "0eaa712e-683d-4006-9fec-4641f8a18dd1",
   "metadata": {},
   "source": [
    "inform about\n",
    "- tutorials\n",
    "- website of SoRA\n",
    "- further Infos\n",
    "- Docs\n",
    "- Troubleshooting / API Errors in different examples"
   ]
  },
  {
   "cell_type": "code",
   "execution_count": null,
   "id": "5015fd68-c359-4a01-94ac-6ed2f1f53556",
   "metadata": {},
   "outputs": [],
   "source": []
  }
 ],
 "metadata": {
  "kernelspec": {
   "display_name": "R-4.4.2",
   "language": "R",
   "name": "ir40"
  },
  "language_info": {
   "codemirror_mode": "r",
   "file_extension": ".r",
   "mimetype": "text/x-r-source",
   "name": "R",
   "pygments_lexer": "r",
   "version": "4.4.2"
  }
 },
 "nbformat": 4,
 "nbformat_minor": 5
}
