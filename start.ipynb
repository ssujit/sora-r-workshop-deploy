{
  "cells": [
    {
      "cell_type": "markdown",
      "id": "7038e3f7-c3eb-4205-b918-489b48607d97",
      "metadata": {},
      "source": [
        "# Workshop: Data linking of survey and spatial datasets using Geolinking Service SoRa\n",
        "Welcome to the workshop about spatial linking of survey and spatial datasets using the **Geolinking Service SoRa** (https://sora-service.org/ ).\n",
        "Project partners are GESIS - Institute of the Sociel Science, Socio-Economic Panel (SOEP) and Leibniz Institute of Ecological Urban und Regional Development (IOER). This research project (2023-2026) is funded by DFG."
      ]
    },
    {
      "cell_type": "markdown",
      "id": "41d4df96",
      "metadata": {},
      "source": [
        "## Aims of the workshop\n",
        "1. Knowledge transfer about interdisciplinary data linking and Geolinking Service SoRa\n",
        "2. Testing of Alpha-Version of Geolinking Service SoRa and its R package\n",
        "3. Solve four defined tasks in an interactice manner"
      ]
    },
    {
      "cell_type": "markdown",
      "id": "145b6121",
      "metadata": {},
      "source": [
        "## Target groups\n",
        "- people with background in \n",
        "    - spatial science\n",
        "    - geoinformatics\n",
        "    - geograpy\n",
        "- people connected to\n",
        "    - academia\n",
        "    - PhD students\n",
        "    - engineers\n",
        "    - administration\n",
        "- people with interest in socio-spatial research"
      ]
    },
    {
      "cell_type": "markdown",
      "id": "8cfce67a",
      "metadata": {},
      "source": [
        "## Individual requirements:\n",
        "- comprehensive understanding of R and JupyterLab is useful\n",
        "- comprehensive knowledge of geospatial datasets and spatial processing is useful"
      ]
    },
    {
      "cell_type": "markdown",
      "id": "9e052ddb",
      "metadata": {},
      "source": [
        "## Workshop agenda\n",
        "\n",
        "|          | Content  | Duration (Minutes) |\n",
        "|----------|----------|----------|\n",
        "| 1    | Welcome   | 5   |\n",
        "| 2    | Introduction round   | 10   |\n",
        "| 3    | Introduction SoRa   | 10   |\n",
        "| 4    | Live Demo SoRa   | 10   |\n",
        "| 5    | Interactive testing of SoRa   | 30   |\n",
        "| 6    | Feedback and conclusion round   | 10   |"
      ]
    },
    {
      "cell_type": "markdown",
      "id": "950ac47e-565e-4641-8815-7ec79be6f9f2",
      "metadata": {},
      "source": [
        "## Interactive testing of SoRa (duration: 30 minutes)\n",
        "\n",
        "### Documentation and further information about Geolinking Service SoRa:\n",
        "- [Presentation about SoRa](slides/01_introduction_sora.ipynb)\n",
        "- [Additional content](slides/03_additional_content.ipynb)\n",
        "- [Infrastructure graphic of Geolinking Service SoRa](images/SoRa_Graphic_Diagram_Infrastructure_EN_240906.html)\n",
        "- **SoRa R docs in HTML format**, see in folder **/man/as_html/**. You can use with Right-Mouse-Click on file --> \"Open with\" --> \"HTML-Viewer\" to show it in JupyterLab\n",
        "- **in-line help in the source code**\n",
        "    - you can use TAB to show arguments\n",
        "    - or you can send an linking job to API and read the API error, suggesting valid values\n",
        "\n",
        "### about linking methods and its parameter\n",
        "- [Linking methods](slides/02_linking_methods.ipynb)\n",
        "- [sora_linking.html](man/as_html/sora_linking.html) --> Right-Mouse-Click on file --> \"Open with\" --> \"HTML-Viewer\"\n",
        "- compare [linking methods and its compatibility with online Datapicker](https://sora.gesis.org/unofficial/datapicker/)\n",
        "- send linking job and read response with API error, giving you advice about missing or invalid parameters and its valid values\n",
        "\n",
        "### Providing feedback\n",
        "- The presented Geolinking Service SoRa is an alpha version. \n",
        "    - to ask questions and give some general feedback, hints, critic, please use Zumpad: **XXX**\n",
        "    - for each task there is a section of a **prepared DIN A4 paper sheet**, where you can write your feedback and your user experience\n",
        "    - we use **Mentimeter questionnaires** to collect answers in the beginning and the end of this workshop\n",
        "\n",
        "### Hints for working with JupyterLab and JupyterNotebooks\n",
        "- to get an blank JupyterLab without any of your changes\n",
        "    1. close the browser tab\n",
        "    2. press the **Stop** button\n",
        "    3. press the **Start** button to launch a new clean environment\n",
        "- **to save your changes**: please download each file using the **download** button within JupyterLab\n",
        "- each Jupyter Notebook has a bundle of cells: code in R or markdown cells.\n",
        "    - you can execute a cell in a order of your choise, but **from top to bottom** is recommend\n",
        "    - asterisk [*] indicates, that this cell is currently executing, a number (e.g. [1]) shows the order of already processed cells. If there is no number, the code cell was not executed yet\n",
        "- each JupyterNotebook file (*.ipynb) has an individual session in R, with own working directory and own version of environment variables (from .Renviron file) from timestamp of opening the JupyterNotebook"
      ]
    },
    {
      "cell_type": "markdown",
      "id": "0eaa712e-683d-4006-9fec-4641f8a18dd1",
      "metadata": {},
      "source": [
        "### Workshop tasks\n",
        "The interactive part of the workshop contains several tasks, to explore the functionalities of the Geolinking Service SoRa. Please fill in each placeholder `<...>` within the source code with your found solution. Finally, there is also an prepared solution file in the folder **/tasks_with_solution/**.\n",
        "\n",
        "**Let´s start and have fun!**\n",
        "\n",
        "1. [Setup](setup.ipynb) your working environment and load the SoRa R package.\n",
        "2. [Task 1 - Exploring the available datasets](tasks/task_01_datapicker.ipynb)\n",
        "3. [Task 2 - Hospital capacity](tasks/task_02_hospital_capacity.ipynb)\n",
        "4. [Task 3 - Green spaces](tasks/task_03_green_space.ipynb)\n",
        "5. [Task 4 - Building density](tasks/task_04_building_density.ipynb)\n"
      ]
    }
  ],
  "metadata": {
    "kernelspec": {
      "display_name": "R",
      "language": "R",
      "name": "ir"
    },
    "language_info": {
      "codemirror_mode": "r",
      "file_extension": ".r",
      "mimetype": "text/x-r-source",
      "name": "R",
      "pygments_lexer": "r",
      "version": "4.4.2"
    }
  },
  "nbformat": 4,
  "nbformat_minor": 5
}
