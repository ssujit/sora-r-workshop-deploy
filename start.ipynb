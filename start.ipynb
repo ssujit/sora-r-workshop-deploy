{
  "cells": [
    {
      "cell_type": "markdown",
      "id": "7038e3f7-c3eb-4205-b918-489b48607d97",
      "metadata": {},
      "source": [
        "# Workshop: Data linking of survey and spatial datasets using Geolinking Service SoRa\n",
        "Welcome to the workshop about spatial linking "
      ]
    },
    {
      "cell_type": "markdown",
      "id": "9e052ddb",
      "metadata": {},
      "source": [
        "## Workshop agenda\n",
        "\n",
        "|          | Content  | Duration (Minutes) |\n",
        "|----------|----------|----------|\n",
        "| 1    | Welcome   | 5   |\n",
        "| 2    | Introduction round   | 10   |\n",
        "| 3    | Introduction SoRa   | 10   |\n",
        "| 4    | Live Demo SoRa   | 10   |\n",
        "| 5    | Interactive testing of SoRa   | 30   |\n",
        "| 6    | Feedback and conclusion round   | 10   |"
      ]
    },
    {
      "cell_type": "markdown",
      "id": "950ac47e-565e-4641-8815-7ec79be6f9f2",
      "metadata": {},
      "source": [
        "## Step 6: Interactive testing of SoRa (from 17:20 to 17:50)\n",
        "\n",
        "### Further information about Geolinking Service SoRa:\n",
        "- [Presentation about SoRa](slides/01_introduction_sora.ipynb)\n",
        "- [Linking methods](slides/02_linking_methods.ipynb)\n",
        "- [Additional content](slides/03_additional_content.ipynb)\n",
        "\n",
        "### Providing feedback:\n",
        "- The presented Geolinking Service SoRa is an alpha version. Please provide your feedback using Zumpad: XXX"
      ]
    },
    {
      "cell_type": "markdown",
      "id": "5ed54c8a-6806-4d0c-b5a2-59f0e2191f27",
      "metadata": {},
      "source": [
        "What is Geolinking Service SoRa?\n",
        "\n",
        "- see: https://sora-service.org/en/ \n",
        "\n",
        "- or the prepared slides here:\n",
        "\n",
        "The presented geolinking service is an alpha version. Please provide your feedback using Zumpad: XXX"
      ]
    },
    {
      "cell_type": "markdown",
      "id": "0eaa712e-683d-4006-9fec-4641f8a18dd1",
      "metadata": {},
      "source": [
        "### Next steps:\n",
        "1. [Setup](setup.ipynb) your working environment and load the SoRa R package.\n",
        "2. [Task 1](tasks/task_01.ipynb)\n",
        "3. [Task 2](tasks/task_02.ipynb)\n",
        "4. [Task 3](tasks/task_03.ipynb)"
      ]
    }
  ],
  "metadata": {
    "kernelspec": {
      "display_name": "R",
      "language": "R",
      "name": "ir"
    },
    "language_info": {
      "codemirror_mode": "r",
      "file_extension": ".r",
      "mimetype": "text/x-r-source",
      "name": "R",
      "pygments_lexer": "r",
      "version": "4.4.2"
    }
  },
  "nbformat": 4,
  "nbformat_minor": 5
}
