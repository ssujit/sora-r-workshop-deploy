{
  "metadata": {
    "kernelspec": {
      "name": "ir",
      "display_name": "R",
      "language": "R"
    },
    "language_info": {
      "codemirror_mode": "r",
      "file_extension": ".r",
      "mimetype": "text/x-r-source",
      "name": "R",
      "pygments_lexer": "r",
      "version": "4.4.2"
    }
  },
  "nbformat_minor": 5,
  "nbformat": 4,
  "cells": [
    {
      "id": "7038e3f7-c3eb-4205-b918-489b48607d97",
      "cell_type": "markdown",
      "source": "# Workshop: Data linking of survey and spatial datasets using Geolinking Service SoRa\nWelcome to the workshop about spatial linking ",
      "metadata": {}
    },
    {
      "id": "950ac47e-565e-4641-8815-7ec79be6f9f2",
      "cell_type": "markdown",
      "source": "## Agenda\n\n1. x\n2. x\n3. x\n\n| Column 1 | Column 2 | Column 3 |\n|----------|----------|----------|\n| Row 1    | Data A   | Data X   |\n| Row 2    | Data B   | Data Y   |\n| Row 3    | Data C   | Data Z   |\n| Row 4    | Data D   | Data W   |\n| Row 5    | Data E   | Data V   |\n| Row 6    | Data F   | Data U   |",
      "metadata": {}
    },
    {
      "id": "5ed54c8a-6806-4d0c-b5a2-59f0e2191f27",
      "cell_type": "markdown",
      "source": "What is Geolinking Service SoRa?\n\n- see: https://sora-service.org/en/ \n\n- or the prepared slides here:\n\nThe presented geolinking service is an alpha version. Please provide your feedback using Zumpad: ",
      "metadata": {}
    },
    {
      "id": "0eaa712e-683d-4006-9fec-4641f8a18dd1",
      "cell_type": "markdown",
      "source": "inform about\n- tutorials\n- website of SoRA\n- further Infos\n- Docs\n- Troubleshooting / API Errors in different examples",
      "metadata": {}
    },
    {
      "id": "d0256f32",
      "cell_type": "markdown",
      "source": "## Initial tests of your working environment\nHere you will find some initial tests for your running JupyterLab instance",
      "metadata": {}
    },
    {
      "id": "3234cab2",
      "cell_type": "code",
      "source": "# get R Version\ngetRversion()",
      "metadata": {
        "vscode": {
          "languageId": "r"
        },
        "trusted": true
      },
      "outputs": [
        {
          "output_type": "display_data",
          "data": {
            "text/plain": "[1] ‘4.4.2’"
          },
          "metadata": {}
        }
      ],
      "execution_count": 1
    },
    {
      "id": "71a0a7a2",
      "cell_type": "code",
      "source": "# get working directory\ngetwd()",
      "metadata": {
        "vscode": {
          "languageId": "r"
        },
        "trusted": true
      },
      "outputs": [
        {
          "output_type": "display_data",
          "data": {
            "text/html": "'/home/jovyan'",
            "text/markdown": "'/home/jovyan'",
            "text/latex": "'/home/jovyan'",
            "text/plain": "[1] \"/home/jovyan\""
          },
          "metadata": {}
        }
      ],
      "execution_count": 2
    },
    {
      "id": "a16aea2a",
      "cell_type": "code",
      "source": "#check environment variable for SORA_API_KEY\nSys.getenv(\"SORA_API_KEY\")",
      "metadata": {
        "vscode": {
          "languageId": "r"
        },
        "trusted": true
      },
      "outputs": [
        {
          "output_type": "display_data",
          "data": {
            "text/html": "'9448b1d9c90db35d8975c24f71c60ee0c2855ee6eaf92eea2a32c23f094331d4de6579c54e51b223658f6769939e64d1380b30f9805bfc9316bef9a7a3ef6217'",
            "text/markdown": "'9448b1d9c90db35d8975c24f71c60ee0c2855ee6eaf92eea2a32c23f094331d4de6579c54e51b223658f6769939e64d1380b30f9805bfc9316bef9a7a3ef6217'",
            "text/latex": "'9448b1d9c90db35d8975c24f71c60ee0c2855ee6eaf92eea2a32c23f094331d4de6579c54e51b223658f6769939e64d1380b30f9805bfc9316bef9a7a3ef6217'",
            "text/plain": "[1] \"9448b1d9c90db35d8975c24f71c60ee0c2855ee6eaf92eea2a32c23f094331d4de6579c54e51b223658f6769939e64d1380b30f9805bfc9316bef9a7a3ef6217\""
          },
          "metadata": {}
        }
      ],
      "execution_count": 3
    },
    {
      "id": "26ef7ef0-54be-4896-a7e3-5124d71bc80e",
      "cell_type": "markdown",
      "source": "## How to load functions from SoRa R package\nThis steps are currently required to load all R functions from /R/ directory. In future, the SoRa R package will be installed directly.",
      "metadata": {}
    },
    {
      "id": "909815f4-0250-444c-9ce9-f79c014d4bdc",
      "cell_type": "code",
      "source": "## create path\npath <- paste0(getwd(), \"/R/\")",
      "metadata": {
        "trusted": true
      },
      "outputs": [],
      "execution_count": 4
    },
    {
      "id": "2ed9ac19-876d-424a-a615-efb0d9a55e71",
      "cell_type": "code",
      "source": "## load scripts\nload_functions_sora <- dir(path)\nfor (i in 1:length(load_functions_sora)) {\n  source(paste0(path, load_functions_sora[i]))\n}",
      "metadata": {
        "trusted": true
      },
      "outputs": [],
      "execution_count": 5
    },
    {
      "id": "7a542daf-4afa-4939-8fe7-f12001541a15",
      "cell_type": "markdown",
      "source": "## Check if SoRa is available?",
      "metadata": {}
    },
    {
      "id": "fcb9015e-e4e9-44a1-aa26-72052d5e458b",
      "cell_type": "code",
      "source": "## is SoRa available? TRUE or FALSE\nsora_available()",
      "metadata": {
        "trusted": true
      },
      "outputs": [
        {
          "output_type": "display_data",
          "data": {
            "text/html": "TRUE",
            "text/markdown": "TRUE",
            "text/latex": "TRUE",
            "text/plain": "[1] TRUE"
          },
          "metadata": {}
        }
      ],
      "execution_count": 7
    },
    {
      "id": "227ae092-bea8-4211-a208-d57007979800",
      "cell_type": "code",
      "source": "## details: which service is online.\nsora_services()",
      "metadata": {
        "trusted": true
      },
      "outputs": [
        {
          "output_type": "display_data",
          "data": {
            "text/plain": "Available services:\n• IOER "
          },
          "metadata": {}
        }
      ],
      "execution_count": 8
    },
    {
      "id": "8441e3b5-679c-4010-b26a-70eb2bf432e2",
      "cell_type": "code",
      "source": "## details: status of the api key. validated TRUE or FALSE\nsora_key_status()",
      "metadata": {
        "trusted": true
      },
      "outputs": [
        {
          "output_type": "display_data",
          "data": {
            "text/plain": "\u001b[32mALLOW\u001b[39m ─ The API key validation request was successful. "
          },
          "metadata": {}
        }
      ],
      "execution_count": 9
    },
    {
      "id": "e462d847-e415-4cde-9cbb-e956f63b02e8",
      "cell_type": "code",
      "source": "",
      "metadata": {
        "trusted": true
      },
      "outputs": [],
      "execution_count": null
    }
  ]
}