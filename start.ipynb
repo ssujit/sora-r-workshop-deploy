{
  "cells": [
    {
      "cell_type": "markdown",
      "id": "7038e3f7-c3eb-4205-b918-489b48607d97",
      "metadata": {},
      "source": [
        "# Workshop: Data linking of survey and spatial datasets using Geolinking Service SoRa\n",
        "Welcome to the workshop about spatial linking of survey and spatial datasets using the **Geolinking Service Sora**.\n",
        "Project partners are GESIS - Institue of the Sociel Science, Socio-Economic Panel (SOEP) and Leibniz Institute of Ecological Urban und Regional Development (IOER). This research project (2023-2026) is funded by DFG."
      ]
    },
    {
      "cell_type": "markdown",
      "id": "41d4df96",
      "metadata": {},
      "source": [
        "## Aims of the workshop\n",
        "1.\n",
        "2.\n",
        "3."
      ]
    },
    {
      "cell_type": "markdown",
      "id": "145b6121",
      "metadata": {},
      "source": [
        "Target group\n",
        "-\n",
        "- \n",
        "- "
      ]
    },
    {
      "cell_type": "markdown",
      "id": "9e052ddb",
      "metadata": {},
      "source": [
        "## Workshop agenda\n",
        "\n",
        "|          | Content  | Duration (Minutes) |\n",
        "|----------|----------|----------|\n",
        "| 1    | Welcome   | 5   |\n",
        "| 2    | Introduction round   | 10   |\n",
        "| 3    | Introduction SoRa   | 10   |\n",
        "| 4    | Live Demo SoRa   | 10   |\n",
        "| 5    | Interactive testing of SoRa   | 30   |\n",
        "| 6    | Feedback and conclusion round   | 10   |"
      ]
    },
    {
      "cell_type": "markdown",
      "id": "950ac47e-565e-4641-8815-7ec79be6f9f2",
      "metadata": {},
      "source": [
        "## Interactive testing of SoRa (duration: 30 minutes)\n",
        "\n",
        "### Further information about Geolinking Service SoRa:\n",
        "- [Presentation about SoRa](slides/01_introduction_sora.ipynb)\n",
        "- [Linking methods](slides/02_linking_methods.ipynb)\n",
        "- [Additional content](slides/03_additional_content.ipynb)\n",
        "\n",
        "### Providing feedback\n",
        "- The presented Geolinking Service SoRa is an alpha version. Please provide your feedback using Zumpad: XXX\n",
        "\n",
        "### Work with JupyterLab and JupyterNotebooks\n",
        "- \n",
        "- "
      ]
    },
    {
      "cell_type": "markdown",
      "id": "0eaa712e-683d-4006-9fec-4641f8a18dd1",
      "metadata": {},
      "source": [
        "### Workshop tasks\n",
        "The interactive part of the workshop contains several tasks, to explore the functionalities of the Geolinking Service SoRa. Please fill in the placeholder <---> within the source code with your found solution. Finally, there is also an prepared solution file in a different folder.\n",
        "\n",
        "1. [Setup](setup.ipynb) your working environment and load the SoRa R package.\n",
        "2. [Task 1 - Exploring the available datasets](tasks/task_01_datapicker.ipynb)\n",
        "3. [Task 2 - Hospital capacity](tasks/task_02_hospital_capacity.ipynb)\n",
        "4. [Task 3 - Building density](tasks/task_03_building_density.ipynb)\n",
        "5. [Task 4 - Green spaces](tasks/task_04_green_space.ipynb)"
      ]
    }
  ],
  "metadata": {
    "kernelspec": {
      "display_name": "R",
      "language": "R",
      "name": "ir"
    },
    "language_info": {
      "codemirror_mode": "r",
      "file_extension": ".r",
      "mimetype": "text/x-r-source",
      "name": "R",
      "pygments_lexer": "r",
      "version": "4.4.2"
    }
  },
  "nbformat": 4,
  "nbformat_minor": 5
}
